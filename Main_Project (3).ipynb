{
  "cells": [
    {
      "cell_type": "markdown",
      "metadata": {
        "id": "87c7e7fe"
      },
      "source": [
        "# PROBLEM STATEMENT\n",
        "Delhiverey is a supply chain management company dealing with health commodities. Our dataset provides commodity pricing and supply chain expense necessary to move the commodity to countries for use. The dataset mainly focuses on the Antiretroviral (ARV) and HRDT lab shipments to different countries the pricing for different countries. It also provides data’s such as shipment mode, scheduled, delivered date and details about the product such as brand, dosage, dosage form, weight etc. Our goal is to predict the effective supply chain management using the data in dataset by logistics.\n",
        "\n",
        "The source of Datset:https://data.usaid.gov/HIV-AIDS/Supply-Chain-Shipment-Pricing-Data/a3rc-nmf6\n",
        "\n",
        "columns description\n",
        "\n",
        "1 ID: Primary key indentifer of the line of data in our analytical tool\n",
        "\n",
        "2 Project Code: Project code Only includes PEPFAR project codes\n",
        "\n",
        "3 PQ # :\"Pre-PQ Process\" indicates deliveries that occurred before the PQ process was put in place in mid-2009.\n",
        "\n",
        "4 PO / SO #: Purchase order (PO) for Direct Drop deliveries, or Sales Order (SO) for from Regional Delivery Center (RDC) deliveries PO # is not applicable for from RDC deliveries (\"NA - From RDC\")\n",
        "\n",
        "5 ASN/DN #: Advanced Shipment Note (ASN) for Direct Drop deliveries, or Delivery Note (DN) for from RDC deliveries\n",
        "\n",
        "6 Country: Destination country\n",
        "\n",
        "7 Managed By : either the Program Management Office (PMO) in the U.S. or the relevant SCMS field office\n",
        "\n",
        "8 Fulfill Via: via Direct Drop from vendor or from stock available in the RDCs\n",
        "\n",
        "9 Vendor INCO Term: The vendor INCO term (also known as International Commercial Terms) for Direct Drop deliveries Not applicable for from RDC deliveries (\"NA - From RDC\")\n",
        "\n",
        "10 Shipment Mode: Method by which commodities are shipped\n",
        "\n",
        "11 PQ First Sent to Client Date Date the PQ is first sent to the client \"Pre-PQ Process\" indicates deliveries that occurred before the PQ process was put in place in mid-2009. \"Date Not Captured\" where date was not captured.\n",
        "\n",
        "12 PO Sent to Vendor Date Date the PO is first sent to the vendor Not applicable for from RDC deliveries (\"NA - From RDC\"). \"Date Not Captured\" where date was not captured.\n",
        "\n",
        "13 Scheduled Delivery Date Current anticipated delivery date This date is not equivalent to the client promised delivery date and should not be used to determine on-time perform.\n",
        "\n",
        "14 Delivered to Client Date Date of delivery to client Transactions are included in the dataset only after the goods have been delivered to the client\n",
        "\n",
        "15 Delivery Recorded Date Date on which delivery to client was recorded in SCMS information systems This date is used for official SCMS reporting. Deliveries are only recorded in SCMS systems once all necessary documentation has been received. Due to documentation delays there can be a lag between the time goods are physically delivered to the client and the date on which all necessary documentation has been received.\n",
        "\n",
        "16 Product Group Product group for item, i.e. ARV, HRDT ACT, ANTM, ARV, HRDT, MRDT only\n",
        "\n",
        "17 Sub Classification Identifies relevant product sub classifications, such as whether ARVs are pediatric or adult, whether a malaria product is an artemisinin-based combination therapy (ACT), etc.\n",
        "\n",
        "18 Vendor Vendor name SCMS is the vendor for from RDC deliveries (product can be from multiple manufacturers, based on available stock)\n",
        "\n",
        "19 Item Description Product name and formulation from Partnership for Supply Chain Management (PFSCM) Item Master\n",
        "\n",
        "20 Molecule/Test Type Active drug(s) or test kit type\n",
        "\n",
        "21 Brand Generic or branded name for the item\n",
        "\n",
        "22 Dosage Item dosage and unit\n",
        "\n",
        "23 Dosage Form Dosage form for the item (tablet, oral solution, injection, etc.). \"FDC\" denotes if the item contains a fixed- dose combination (FDC) formulation. \"Blister\" denotes if the item is presented in blister packaging. \"Co-blister\" denotes when the item contains more than one product packaged together in blister packaging.\n",
        "\n",
        "24 Unit of Measure (Per Pack) Pack quantity (pills or test kits) used to compute unit price\n",
        "\n",
        "25 Line Item Quantity Total quantity (packs) of commodity per line item\n",
        "\n",
        "26 Line Item Value Total value of commodity per line item\n",
        "\n",
        "27 Pack Price Cost per pack (i.e. month's supply of ARVs, pack of 60 test kits)\n",
        "\n",
        "28 Unit Price Cost per pill (for drugs) or per test (for test kits)\n",
        "\n",
        "29 Manufacturing Site Identifies manufacturing site for the line item for direct drop and from RDC deliveries\n",
        "\n",
        "30 First Line Designation Designates if the line in question shows the aggregated freight costs and weight associated with all items on the ASN/DN There may or may not be other associated lines with each ASN/DN\n",
        "\n",
        "31 Weight (Kilograms) Weight for all lines on an ASN/DN Present only for FirstLine designated lines\n",
        "\n",
        "32 Freight Cost (USD) Freight charges associated with all lines on the respective ASN/DN Present only for FirstLine designated lines. For C- and D-vendor INCO term deliveries, freight costs may be included in the unit price for the commodities as indicated by \"Freight Included in Commodity Price\". All other lines are \"Invoiced Separately\"\n",
        "\n",
        "33 Line Item Insurance (USD) Line item cost of insurance, created by applying an annual flat rate (%) to commodity cost Pre 6/1/2009 lines are still under analysis for correct rates because they do not have PQs and cannot be computed in the same way that they currently are across the partnership\n",
        "\n",
        "# IMPORTING LIBRARIES"
      ],
      "id": "87c7e7fe"
    },
    {
      "cell_type": "code",
      "execution_count": null,
      "metadata": {
        "id": "073c2de3"
      },
      "outputs": [],
      "source": [
        "import pandas as pd\n",
        "import numpy as np\n",
        "import seaborn as sns\n",
        "import matplotlib.pyplot as plt\n",
        "import warnings\n",
        "warnings.filterwarnings('ignore')"
      ],
      "id": "073c2de3"
    },
    {
      "cell_type": "markdown",
      "metadata": {
        "id": "ff7461da"
      },
      "source": [
        "# Reading the dataset"
      ],
      "id": "ff7461da"
    },
    {
      "cell_type": "code",
      "execution_count": null,
      "metadata": {
        "id": "ed274b63"
      },
      "outputs": [],
      "source": [
        "df=pd.read_csv(\"/SCMS_Delivery_History_Dataset.csv\")"
      ],
      "id": "ed274b63"
    },
    {
      "cell_type": "markdown",
      "metadata": {
        "id": "ef8492d0"
      },
      "source": [
        "# Basic Understanding of data and EDA"
      ],
      "id": "ef8492d0"
    },
    {
      "cell_type": "code",
      "execution_count": null,
      "metadata": {
        "id": "1cf9e85b",
        "colab": {
          "base_uri": "https://localhost:8080/",
          "height": 669
        },
        "outputId": "8b0eb9a5-f2f1-4f89-8a99-dcd7c4f61504"
      },
      "outputs": [
        {
          "output_type": "execute_result",
          "data": {
            "text/plain": [
              "   ID Project Code            PQ # PO / SO # ASN/DN #        Country  \\\n",
              "0   1   100-CI-T01  Pre-PQ Process    SCMS-4    ASN-8  Côte d'Ivoire   \n",
              "1   3   108-VN-T01  Pre-PQ Process   SCMS-13   ASN-85        Vietnam   \n",
              "2   4   100-CI-T01  Pre-PQ Process   SCMS-20   ASN-14  Côte d'Ivoire   \n",
              "3  15   108-VN-T01  Pre-PQ Process   SCMS-78   ASN-50        Vietnam   \n",
              "4  16   108-VN-T01  Pre-PQ Process   SCMS-81   ASN-55        Vietnam   \n",
              "\n",
              "  Managed By  Fulfill Via Vendor INCO Term Shipment Mode  \\\n",
              "0   PMO - US  Direct Drop              EXW           Air   \n",
              "1   PMO - US  Direct Drop              EXW           Air   \n",
              "2   PMO - US  Direct Drop              FCA           Air   \n",
              "3   PMO - US  Direct Drop              EXW           Air   \n",
              "4   PMO - US  Direct Drop              EXW           Air   \n",
              "\n",
              "  PQ First Sent to Client Date PO Sent to Vendor Date Scheduled Delivery Date  \\\n",
              "0               Pre-PQ Process      Date Not Captured                2-Jun-06   \n",
              "1               Pre-PQ Process      Date Not Captured               14-Nov-06   \n",
              "2               Pre-PQ Process      Date Not Captured               27-Aug-06   \n",
              "3               Pre-PQ Process      Date Not Captured                1-Sep-06   \n",
              "4               Pre-PQ Process      Date Not Captured               11-Aug-06   \n",
              "\n",
              "  Delivered to Client Date Delivery Recorded Date Product Group  \\\n",
              "0                 2-Jun-06               2-Jun-06          HRDT   \n",
              "1                14-Nov-06              14-Nov-06           ARV   \n",
              "2                27-Aug-06              27-Aug-06          HRDT   \n",
              "3                 1-Sep-06               1-Sep-06           ARV   \n",
              "4                11-Aug-06              11-Aug-06           ARV   \n",
              "\n",
              "  Sub Classification                                             Vendor  \\\n",
              "0           HIV test                        RANBAXY Fine Chemicals LTD.   \n",
              "1          Pediatric                           Aurobindo Pharma Limited   \n",
              "2           HIV test                               Abbott GmbH & Co. KG   \n",
              "3              Adult  SUN PHARMACEUTICAL INDUSTRIES LTD (RANBAXY LAB...   \n",
              "4              Adult                           Aurobindo Pharma Limited   \n",
              "\n",
              "                                    Item Description  \\\n",
              "0  HIV, Reveal G3 Rapid HIV-1 Antibody Test, 30 T...   \n",
              "1  Nevirapine 10mg/ml, oral suspension, Bottle, 2...   \n",
              "2     HIV 1/2, Determine Complete HIV Kit, 100 Tests   \n",
              "3                 Lamivudine 150mg, tablets, 60 Tabs   \n",
              "4                  Stavudine 30mg, capsules, 60 Caps   \n",
              "\n",
              "                         Molecule/Test Type      Brand   Dosage  \\\n",
              "0  HIV, Reveal G3 Rapid HIV-1 Antibody Test     Reveal      NaN   \n",
              "1                                Nevirapine    Generic  10mg/ml   \n",
              "2       HIV 1/2, Determine Complete HIV Kit  Determine      NaN   \n",
              "3                                Lamivudine    Generic    150mg   \n",
              "4                                 Stavudine    Generic     30mg   \n",
              "\n",
              "       Dosage Form  Unit of Measure (Per Pack)  Line Item Quantity  \\\n",
              "0         Test kit                          30                  19   \n",
              "1  Oral suspension                         240                1000   \n",
              "2         Test kit                         100                 500   \n",
              "3           Tablet                          60               31920   \n",
              "4          Capsule                          60               38000   \n",
              "\n",
              "   Line Item Value  Pack Price  Unit Price             Manufacturing Site  \\\n",
              "0            551.0       29.00        0.97     Ranbaxy Fine Chemicals LTD   \n",
              "1           6200.0        6.20        0.03      Aurobindo Unit III, India   \n",
              "2          40000.0       80.00        0.80  ABBVIE GmbH & Co.KG Wiesbaden   \n",
              "3         127360.8        3.99        0.07  Ranbaxy, Paonta Shahib, India   \n",
              "4         121600.0        3.20        0.05      Aurobindo Unit III, India   \n",
              "\n",
              "  First Line Designation Weight (Kilograms) Freight Cost (USD)  \\\n",
              "0                    Yes                 13             780.34   \n",
              "1                    Yes                358             4521.5   \n",
              "2                    Yes                171            1653.78   \n",
              "3                    Yes               1855           16007.06   \n",
              "4                    Yes               7590           45450.08   \n",
              "\n",
              "   Line Item Insurance (USD)  \n",
              "0                        NaN  \n",
              "1                        NaN  \n",
              "2                        NaN  \n",
              "3                        NaN  \n",
              "4                        NaN  "
            ],
            "text/html": [
              "\n",
              "  <div id=\"df-8e6a47bc-3c62-477d-91b6-ed86fa782396\">\n",
              "    <div class=\"colab-df-container\">\n",
              "      <div>\n",
              "<style scoped>\n",
              "    .dataframe tbody tr th:only-of-type {\n",
              "        vertical-align: middle;\n",
              "    }\n",
              "\n",
              "    .dataframe tbody tr th {\n",
              "        vertical-align: top;\n",
              "    }\n",
              "\n",
              "    .dataframe thead th {\n",
              "        text-align: right;\n",
              "    }\n",
              "</style>\n",
              "<table border=\"1\" class=\"dataframe\">\n",
              "  <thead>\n",
              "    <tr style=\"text-align: right;\">\n",
              "      <th></th>\n",
              "      <th>ID</th>\n",
              "      <th>Project Code</th>\n",
              "      <th>PQ #</th>\n",
              "      <th>PO / SO #</th>\n",
              "      <th>ASN/DN #</th>\n",
              "      <th>Country</th>\n",
              "      <th>Managed By</th>\n",
              "      <th>Fulfill Via</th>\n",
              "      <th>Vendor INCO Term</th>\n",
              "      <th>Shipment Mode</th>\n",
              "      <th>PQ First Sent to Client Date</th>\n",
              "      <th>PO Sent to Vendor Date</th>\n",
              "      <th>Scheduled Delivery Date</th>\n",
              "      <th>Delivered to Client Date</th>\n",
              "      <th>Delivery Recorded Date</th>\n",
              "      <th>Product Group</th>\n",
              "      <th>Sub Classification</th>\n",
              "      <th>Vendor</th>\n",
              "      <th>Item Description</th>\n",
              "      <th>Molecule/Test Type</th>\n",
              "      <th>Brand</th>\n",
              "      <th>Dosage</th>\n",
              "      <th>Dosage Form</th>\n",
              "      <th>Unit of Measure (Per Pack)</th>\n",
              "      <th>Line Item Quantity</th>\n",
              "      <th>Line Item Value</th>\n",
              "      <th>Pack Price</th>\n",
              "      <th>Unit Price</th>\n",
              "      <th>Manufacturing Site</th>\n",
              "      <th>First Line Designation</th>\n",
              "      <th>Weight (Kilograms)</th>\n",
              "      <th>Freight Cost (USD)</th>\n",
              "      <th>Line Item Insurance (USD)</th>\n",
              "    </tr>\n",
              "  </thead>\n",
              "  <tbody>\n",
              "    <tr>\n",
              "      <th>0</th>\n",
              "      <td>1</td>\n",
              "      <td>100-CI-T01</td>\n",
              "      <td>Pre-PQ Process</td>\n",
              "      <td>SCMS-4</td>\n",
              "      <td>ASN-8</td>\n",
              "      <td>Côte d'Ivoire</td>\n",
              "      <td>PMO - US</td>\n",
              "      <td>Direct Drop</td>\n",
              "      <td>EXW</td>\n",
              "      <td>Air</td>\n",
              "      <td>Pre-PQ Process</td>\n",
              "      <td>Date Not Captured</td>\n",
              "      <td>2-Jun-06</td>\n",
              "      <td>2-Jun-06</td>\n",
              "      <td>2-Jun-06</td>\n",
              "      <td>HRDT</td>\n",
              "      <td>HIV test</td>\n",
              "      <td>RANBAXY Fine Chemicals LTD.</td>\n",
              "      <td>HIV, Reveal G3 Rapid HIV-1 Antibody Test, 30 T...</td>\n",
              "      <td>HIV, Reveal G3 Rapid HIV-1 Antibody Test</td>\n",
              "      <td>Reveal</td>\n",
              "      <td>NaN</td>\n",
              "      <td>Test kit</td>\n",
              "      <td>30</td>\n",
              "      <td>19</td>\n",
              "      <td>551.0</td>\n",
              "      <td>29.00</td>\n",
              "      <td>0.97</td>\n",
              "      <td>Ranbaxy Fine Chemicals LTD</td>\n",
              "      <td>Yes</td>\n",
              "      <td>13</td>\n",
              "      <td>780.34</td>\n",
              "      <td>NaN</td>\n",
              "    </tr>\n",
              "    <tr>\n",
              "      <th>1</th>\n",
              "      <td>3</td>\n",
              "      <td>108-VN-T01</td>\n",
              "      <td>Pre-PQ Process</td>\n",
              "      <td>SCMS-13</td>\n",
              "      <td>ASN-85</td>\n",
              "      <td>Vietnam</td>\n",
              "      <td>PMO - US</td>\n",
              "      <td>Direct Drop</td>\n",
              "      <td>EXW</td>\n",
              "      <td>Air</td>\n",
              "      <td>Pre-PQ Process</td>\n",
              "      <td>Date Not Captured</td>\n",
              "      <td>14-Nov-06</td>\n",
              "      <td>14-Nov-06</td>\n",
              "      <td>14-Nov-06</td>\n",
              "      <td>ARV</td>\n",
              "      <td>Pediatric</td>\n",
              "      <td>Aurobindo Pharma Limited</td>\n",
              "      <td>Nevirapine 10mg/ml, oral suspension, Bottle, 2...</td>\n",
              "      <td>Nevirapine</td>\n",
              "      <td>Generic</td>\n",
              "      <td>10mg/ml</td>\n",
              "      <td>Oral suspension</td>\n",
              "      <td>240</td>\n",
              "      <td>1000</td>\n",
              "      <td>6200.0</td>\n",
              "      <td>6.20</td>\n",
              "      <td>0.03</td>\n",
              "      <td>Aurobindo Unit III, India</td>\n",
              "      <td>Yes</td>\n",
              "      <td>358</td>\n",
              "      <td>4521.5</td>\n",
              "      <td>NaN</td>\n",
              "    </tr>\n",
              "    <tr>\n",
              "      <th>2</th>\n",
              "      <td>4</td>\n",
              "      <td>100-CI-T01</td>\n",
              "      <td>Pre-PQ Process</td>\n",
              "      <td>SCMS-20</td>\n",
              "      <td>ASN-14</td>\n",
              "      <td>Côte d'Ivoire</td>\n",
              "      <td>PMO - US</td>\n",
              "      <td>Direct Drop</td>\n",
              "      <td>FCA</td>\n",
              "      <td>Air</td>\n",
              "      <td>Pre-PQ Process</td>\n",
              "      <td>Date Not Captured</td>\n",
              "      <td>27-Aug-06</td>\n",
              "      <td>27-Aug-06</td>\n",
              "      <td>27-Aug-06</td>\n",
              "      <td>HRDT</td>\n",
              "      <td>HIV test</td>\n",
              "      <td>Abbott GmbH &amp; Co. KG</td>\n",
              "      <td>HIV 1/2, Determine Complete HIV Kit, 100 Tests</td>\n",
              "      <td>HIV 1/2, Determine Complete HIV Kit</td>\n",
              "      <td>Determine</td>\n",
              "      <td>NaN</td>\n",
              "      <td>Test kit</td>\n",
              "      <td>100</td>\n",
              "      <td>500</td>\n",
              "      <td>40000.0</td>\n",
              "      <td>80.00</td>\n",
              "      <td>0.80</td>\n",
              "      <td>ABBVIE GmbH &amp; Co.KG Wiesbaden</td>\n",
              "      <td>Yes</td>\n",
              "      <td>171</td>\n",
              "      <td>1653.78</td>\n",
              "      <td>NaN</td>\n",
              "    </tr>\n",
              "    <tr>\n",
              "      <th>3</th>\n",
              "      <td>15</td>\n",
              "      <td>108-VN-T01</td>\n",
              "      <td>Pre-PQ Process</td>\n",
              "      <td>SCMS-78</td>\n",
              "      <td>ASN-50</td>\n",
              "      <td>Vietnam</td>\n",
              "      <td>PMO - US</td>\n",
              "      <td>Direct Drop</td>\n",
              "      <td>EXW</td>\n",
              "      <td>Air</td>\n",
              "      <td>Pre-PQ Process</td>\n",
              "      <td>Date Not Captured</td>\n",
              "      <td>1-Sep-06</td>\n",
              "      <td>1-Sep-06</td>\n",
              "      <td>1-Sep-06</td>\n",
              "      <td>ARV</td>\n",
              "      <td>Adult</td>\n",
              "      <td>SUN PHARMACEUTICAL INDUSTRIES LTD (RANBAXY LAB...</td>\n",
              "      <td>Lamivudine 150mg, tablets, 60 Tabs</td>\n",
              "      <td>Lamivudine</td>\n",
              "      <td>Generic</td>\n",
              "      <td>150mg</td>\n",
              "      <td>Tablet</td>\n",
              "      <td>60</td>\n",
              "      <td>31920</td>\n",
              "      <td>127360.8</td>\n",
              "      <td>3.99</td>\n",
              "      <td>0.07</td>\n",
              "      <td>Ranbaxy, Paonta Shahib, India</td>\n",
              "      <td>Yes</td>\n",
              "      <td>1855</td>\n",
              "      <td>16007.06</td>\n",
              "      <td>NaN</td>\n",
              "    </tr>\n",
              "    <tr>\n",
              "      <th>4</th>\n",
              "      <td>16</td>\n",
              "      <td>108-VN-T01</td>\n",
              "      <td>Pre-PQ Process</td>\n",
              "      <td>SCMS-81</td>\n",
              "      <td>ASN-55</td>\n",
              "      <td>Vietnam</td>\n",
              "      <td>PMO - US</td>\n",
              "      <td>Direct Drop</td>\n",
              "      <td>EXW</td>\n",
              "      <td>Air</td>\n",
              "      <td>Pre-PQ Process</td>\n",
              "      <td>Date Not Captured</td>\n",
              "      <td>11-Aug-06</td>\n",
              "      <td>11-Aug-06</td>\n",
              "      <td>11-Aug-06</td>\n",
              "      <td>ARV</td>\n",
              "      <td>Adult</td>\n",
              "      <td>Aurobindo Pharma Limited</td>\n",
              "      <td>Stavudine 30mg, capsules, 60 Caps</td>\n",
              "      <td>Stavudine</td>\n",
              "      <td>Generic</td>\n",
              "      <td>30mg</td>\n",
              "      <td>Capsule</td>\n",
              "      <td>60</td>\n",
              "      <td>38000</td>\n",
              "      <td>121600.0</td>\n",
              "      <td>3.20</td>\n",
              "      <td>0.05</td>\n",
              "      <td>Aurobindo Unit III, India</td>\n",
              "      <td>Yes</td>\n",
              "      <td>7590</td>\n",
              "      <td>45450.08</td>\n",
              "      <td>NaN</td>\n",
              "    </tr>\n",
              "  </tbody>\n",
              "</table>\n",
              "</div>\n",
              "      <button class=\"colab-df-convert\" onclick=\"convertToInteractive('df-8e6a47bc-3c62-477d-91b6-ed86fa782396')\"\n",
              "              title=\"Convert this dataframe to an interactive table.\"\n",
              "              style=\"display:none;\">\n",
              "        \n",
              "  <svg xmlns=\"http://www.w3.org/2000/svg\" height=\"24px\"viewBox=\"0 0 24 24\"\n",
              "       width=\"24px\">\n",
              "    <path d=\"M0 0h24v24H0V0z\" fill=\"none\"/>\n",
              "    <path d=\"M18.56 5.44l.94 2.06.94-2.06 2.06-.94-2.06-.94-.94-2.06-.94 2.06-2.06.94zm-11 1L8.5 8.5l.94-2.06 2.06-.94-2.06-.94L8.5 2.5l-.94 2.06-2.06.94zm10 10l.94 2.06.94-2.06 2.06-.94-2.06-.94-.94-2.06-.94 2.06-2.06.94z\"/><path d=\"M17.41 7.96l-1.37-1.37c-.4-.4-.92-.59-1.43-.59-.52 0-1.04.2-1.43.59L10.3 9.45l-7.72 7.72c-.78.78-.78 2.05 0 2.83L4 21.41c.39.39.9.59 1.41.59.51 0 1.02-.2 1.41-.59l7.78-7.78 2.81-2.81c.8-.78.8-2.07 0-2.86zM5.41 20L4 18.59l7.72-7.72 1.47 1.35L5.41 20z\"/>\n",
              "  </svg>\n",
              "      </button>\n",
              "      \n",
              "  <style>\n",
              "    .colab-df-container {\n",
              "      display:flex;\n",
              "      flex-wrap:wrap;\n",
              "      gap: 12px;\n",
              "    }\n",
              "\n",
              "    .colab-df-convert {\n",
              "      background-color: #E8F0FE;\n",
              "      border: none;\n",
              "      border-radius: 50%;\n",
              "      cursor: pointer;\n",
              "      display: none;\n",
              "      fill: #1967D2;\n",
              "      height: 32px;\n",
              "      padding: 0 0 0 0;\n",
              "      width: 32px;\n",
              "    }\n",
              "\n",
              "    .colab-df-convert:hover {\n",
              "      background-color: #E2EBFA;\n",
              "      box-shadow: 0px 1px 2px rgba(60, 64, 67, 0.3), 0px 1px 3px 1px rgba(60, 64, 67, 0.15);\n",
              "      fill: #174EA6;\n",
              "    }\n",
              "\n",
              "    [theme=dark] .colab-df-convert {\n",
              "      background-color: #3B4455;\n",
              "      fill: #D2E3FC;\n",
              "    }\n",
              "\n",
              "    [theme=dark] .colab-df-convert:hover {\n",
              "      background-color: #434B5C;\n",
              "      box-shadow: 0px 1px 3px 1px rgba(0, 0, 0, 0.15);\n",
              "      filter: drop-shadow(0px 1px 2px rgba(0, 0, 0, 0.3));\n",
              "      fill: #FFFFFF;\n",
              "    }\n",
              "  </style>\n",
              "\n",
              "      <script>\n",
              "        const buttonEl =\n",
              "          document.querySelector('#df-8e6a47bc-3c62-477d-91b6-ed86fa782396 button.colab-df-convert');\n",
              "        buttonEl.style.display =\n",
              "          google.colab.kernel.accessAllowed ? 'block' : 'none';\n",
              "\n",
              "        async function convertToInteractive(key) {\n",
              "          const element = document.querySelector('#df-8e6a47bc-3c62-477d-91b6-ed86fa782396');\n",
              "          const dataTable =\n",
              "            await google.colab.kernel.invokeFunction('convertToInteractive',\n",
              "                                                     [key], {});\n",
              "          if (!dataTable) return;\n",
              "\n",
              "          const docLinkHtml = 'Like what you see? Visit the ' +\n",
              "            '<a target=\"_blank\" href=https://colab.research.google.com/notebooks/data_table.ipynb>data table notebook</a>'\n",
              "            + ' to learn more about interactive tables.';\n",
              "          element.innerHTML = '';\n",
              "          dataTable['output_type'] = 'display_data';\n",
              "          await google.colab.output.renderOutput(dataTable, element);\n",
              "          const docLink = document.createElement('div');\n",
              "          docLink.innerHTML = docLinkHtml;\n",
              "          element.appendChild(docLink);\n",
              "        }\n",
              "      </script>\n",
              "    </div>\n",
              "  </div>\n",
              "  "
            ]
          },
          "metadata": {},
          "execution_count": 85
        }
      ],
      "source": [
        "pd.set_option('display.max_columns',None)\n",
        "df.head()"
      ],
      "id": "1cf9e85b"
    },
    {
      "cell_type": "code",
      "execution_count": null,
      "metadata": {
        "id": "a333e93c",
        "colab": {
          "base_uri": "https://localhost:8080/"
        },
        "outputId": "5a21875f-c9b9-4298-cb90-f169bf2110a9"
      },
      "outputs": [
        {
          "output_type": "execute_result",
          "data": {
            "text/plain": [
              "(10324, 33)"
            ]
          },
          "metadata": {},
          "execution_count": 86
        }
      ],
      "source": [
        "df.shape"
      ],
      "id": "a333e93c"
    },
    {
      "cell_type": "code",
      "execution_count": null,
      "metadata": {
        "id": "096da818"
      },
      "outputs": [],
      "source": [
        "#Total number of rows is 10324\n",
        "#Total number of columns is 33"
      ],
      "id": "096da818"
    },
    {
      "cell_type": "code",
      "execution_count": null,
      "metadata": {
        "id": "8083a2af",
        "colab": {
          "base_uri": "https://localhost:8080/"
        },
        "outputId": "508af098-914d-4cef-8d1b-2cdd66f7b418"
      },
      "outputs": [
        {
          "output_type": "execute_result",
          "data": {
            "text/plain": [
              "Index(['ID', 'Project Code', 'PQ #', 'PO / SO #', 'ASN/DN #', 'Country',\n",
              "       'Managed By', 'Fulfill Via', 'Vendor INCO Term', 'Shipment Mode',\n",
              "       'PQ First Sent to Client Date', 'PO Sent to Vendor Date',\n",
              "       'Scheduled Delivery Date', 'Delivered to Client Date',\n",
              "       'Delivery Recorded Date', 'Product Group', 'Sub Classification',\n",
              "       'Vendor', 'Item Description', 'Molecule/Test Type', 'Brand', 'Dosage',\n",
              "       'Dosage Form', 'Unit of Measure (Per Pack)', 'Line Item Quantity',\n",
              "       'Line Item Value', 'Pack Price', 'Unit Price', 'Manufacturing Site',\n",
              "       'First Line Designation', 'Weight (Kilograms)', 'Freight Cost (USD)',\n",
              "       'Line Item Insurance (USD)'],\n",
              "      dtype='object')"
            ]
          },
          "metadata": {},
          "execution_count": 88
        }
      ],
      "source": [
        "df.columns"
      ],
      "id": "8083a2af"
    },
    {
      "cell_type": "code",
      "execution_count": null,
      "metadata": {
        "id": "d60df6dc",
        "colab": {
          "base_uri": "https://localhost:8080/"
        },
        "outputId": "153e6b0a-09d2-4a6c-8b84-1ea0742dc52e"
      },
      "outputs": [
        {
          "output_type": "execute_result",
          "data": {
            "text/plain": [
              "ID                                int64\n",
              "Project Code                     object\n",
              "PQ #                             object\n",
              "PO / SO #                        object\n",
              "ASN/DN #                         object\n",
              "Country                          object\n",
              "Managed By                       object\n",
              "Fulfill Via                      object\n",
              "Vendor INCO Term                 object\n",
              "Shipment Mode                    object\n",
              "PQ First Sent to Client Date     object\n",
              "PO Sent to Vendor Date           object\n",
              "Scheduled Delivery Date          object\n",
              "Delivered to Client Date         object\n",
              "Delivery Recorded Date           object\n",
              "Product Group                    object\n",
              "Sub Classification               object\n",
              "Vendor                           object\n",
              "Item Description                 object\n",
              "Molecule/Test Type               object\n",
              "Brand                            object\n",
              "Dosage                           object\n",
              "Dosage Form                      object\n",
              "Unit of Measure (Per Pack)        int64\n",
              "Line Item Quantity                int64\n",
              "Line Item Value                 float64\n",
              "Pack Price                      float64\n",
              "Unit Price                      float64\n",
              "Manufacturing Site               object\n",
              "First Line Designation           object\n",
              "Weight (Kilograms)               object\n",
              "Freight Cost (USD)               object\n",
              "Line Item Insurance (USD)       float64\n",
              "dtype: object"
            ]
          },
          "metadata": {},
          "execution_count": 89
        }
      ],
      "source": [
        "df.dtypes"
      ],
      "id": "d60df6dc"
    },
    {
      "cell_type": "code",
      "execution_count": null,
      "metadata": {
        "id": "iHNaqXcPDmG2",
        "colab": {
          "base_uri": "https://localhost:8080/"
        },
        "outputId": "1d40119e-1224-4984-a05e-d0cf97abaaec"
      },
      "outputs": [
        {
          "output_type": "stream",
          "name": "stdout",
          "text": [
            "Categorical Features in data Set: 26\n",
            "Numerical Features in data Set: 7\n"
          ]
        }
      ],
      "source": [
        "num=df.select_dtypes(include=[np.float64,np.int64])\n",
        "cat=df.select_dtypes(include=[np.object])\n",
        "print(\"Categorical Features in data Set:\",cat.shape[1])\n",
        "print(\"Numerical Features in data Set:\",num.shape[1])"
      ],
      "id": "iHNaqXcPDmG2"
    },
    {
      "cell_type": "code",
      "execution_count": null,
      "metadata": {
        "id": "927c4918",
        "colab": {
          "base_uri": "https://localhost:8080/"
        },
        "outputId": "2649ba21-ae83-4b1a-bea5-acfe36154fd5"
      },
      "outputs": [
        {
          "output_type": "execute_result",
          "data": {
            "text/plain": [
              "ID                                 0\n",
              "Project Code                       0\n",
              "PQ #                               0\n",
              "PO / SO #                          0\n",
              "ASN/DN #                           0\n",
              "Country                            0\n",
              "Managed By                         0\n",
              "Fulfill Via                        0\n",
              "Vendor INCO Term                   0\n",
              "Shipment Mode                    360\n",
              "PQ First Sent to Client Date       0\n",
              "PO Sent to Vendor Date             0\n",
              "Scheduled Delivery Date            0\n",
              "Delivered to Client Date           0\n",
              "Delivery Recorded Date             0\n",
              "Product Group                      0\n",
              "Sub Classification                 0\n",
              "Vendor                             0\n",
              "Item Description                   0\n",
              "Molecule/Test Type                 0\n",
              "Brand                              0\n",
              "Dosage                          1736\n",
              "Dosage Form                        0\n",
              "Unit of Measure (Per Pack)         0\n",
              "Line Item Quantity                 0\n",
              "Line Item Value                    0\n",
              "Pack Price                         0\n",
              "Unit Price                         0\n",
              "Manufacturing Site                 0\n",
              "First Line Designation             0\n",
              "Weight (Kilograms)                 0\n",
              "Freight Cost (USD)                 0\n",
              "Line Item Insurance (USD)        287\n",
              "dtype: int64"
            ]
          },
          "metadata": {},
          "execution_count": 91
        }
      ],
      "source": [
        "df.isna().sum()"
      ],
      "id": "927c4918"
    },
    {
      "cell_type": "markdown",
      "metadata": {
        "id": "B9PABulk8rTy"
      },
      "source": [
        "There are missing values in Shipmentmode,dosage,Line item insurance"
      ],
      "id": "B9PABulk8rTy"
    },
    {
      "cell_type": "code",
      "execution_count": null,
      "metadata": {
        "id": "2V327Y2F0dF3",
        "colab": {
          "base_uri": "https://localhost:8080/",
          "height": 597
        },
        "outputId": "46ed75ab-d00b-4084-972a-b0b5d2031194"
      },
      "outputs": [
        {
          "output_type": "execute_result",
          "data": {
            "text/plain": [
              "                  ID Project Code            PQ #    PO / SO #   ASN/DN #  \\\n",
              "count   10324.000000        10324           10324        10324      10324   \n",
              "unique           NaN          142            1237         6233       7030   \n",
              "top              NaN   116-ZA-T30  Pre-PQ Process  SCMS-199289  ASN-19166   \n",
              "freq             NaN          768            2681           67         54   \n",
              "mean    51098.968229          NaN             NaN          NaN        NaN   \n",
              "std     31944.332496          NaN             NaN          NaN        NaN   \n",
              "min         1.000000          NaN             NaN          NaN        NaN   \n",
              "25%     12795.750000          NaN             NaN          NaN        NaN   \n",
              "50%     57540.500000          NaN             NaN          NaN        NaN   \n",
              "75%     83648.250000          NaN             NaN          NaN        NaN   \n",
              "max     86823.000000          NaN             NaN          NaN        NaN   \n",
              "\n",
              "             Country Managed By Fulfill Via Vendor INCO Term Shipment Mode  \\\n",
              "count          10324      10324       10324            10324          9964   \n",
              "unique            43          4           2                8             4   \n",
              "top     South Africa   PMO - US    From RDC   N/A - From RDC           Air   \n",
              "freq            1406      10265        5404             5404          6113   \n",
              "mean             NaN        NaN         NaN              NaN           NaN   \n",
              "std              NaN        NaN         NaN              NaN           NaN   \n",
              "min              NaN        NaN         NaN              NaN           NaN   \n",
              "25%              NaN        NaN         NaN              NaN           NaN   \n",
              "50%              NaN        NaN         NaN              NaN           NaN   \n",
              "75%              NaN        NaN         NaN              NaN           NaN   \n",
              "max              NaN        NaN         NaN              NaN           NaN   \n",
              "\n",
              "       PQ First Sent to Client Date PO Sent to Vendor Date  \\\n",
              "count                         10324                  10324   \n",
              "unique                          765                    897   \n",
              "top                  Pre-PQ Process         N/A - From RDC   \n",
              "freq                           2476                   5404   \n",
              "mean                            NaN                    NaN   \n",
              "std                             NaN                    NaN   \n",
              "min                             NaN                    NaN   \n",
              "25%                             NaN                    NaN   \n",
              "50%                             NaN                    NaN   \n",
              "75%                             NaN                    NaN   \n",
              "max                             NaN                    NaN   \n",
              "\n",
              "       Scheduled Delivery Date Delivered to Client Date  \\\n",
              "count                    10324                    10324   \n",
              "unique                    2006                     2093   \n",
              "top                  29-Aug-14                29-Aug-14   \n",
              "freq                        97                       74   \n",
              "mean                       NaN                      NaN   \n",
              "std                        NaN                      NaN   \n",
              "min                        NaN                      NaN   \n",
              "25%                        NaN                      NaN   \n",
              "50%                        NaN                      NaN   \n",
              "75%                        NaN                      NaN   \n",
              "max                        NaN                      NaN   \n",
              "\n",
              "       Delivery Recorded Date Product Group Sub Classification         Vendor  \\\n",
              "count                   10324         10324              10324          10324   \n",
              "unique                   2042             5                  6             73   \n",
              "top                 29-Aug-14           ARV              Adult  SCMS from RDC   \n",
              "freq                       67          8550               6595           5404   \n",
              "mean                      NaN           NaN                NaN            NaN   \n",
              "std                       NaN           NaN                NaN            NaN   \n",
              "min                       NaN           NaN                NaN            NaN   \n",
              "25%                       NaN           NaN                NaN            NaN   \n",
              "50%                       NaN           NaN                NaN            NaN   \n",
              "75%                       NaN           NaN                NaN            NaN   \n",
              "max                       NaN           NaN                NaN            NaN   \n",
              "\n",
              "                         Item Description Molecule/Test Type    Brand Dosage  \\\n",
              "count                               10324              10324    10324   8588   \n",
              "unique                                184                 86       48     54   \n",
              "top     Efavirenz 600mg, tablets, 30 Tabs          Efavirenz  Generic  300mg   \n",
              "freq                                  755               1125     7285    990   \n",
              "mean                                  NaN                NaN      NaN    NaN   \n",
              "std                                   NaN                NaN      NaN    NaN   \n",
              "min                                   NaN                NaN      NaN    NaN   \n",
              "25%                                   NaN                NaN      NaN    NaN   \n",
              "50%                                   NaN                NaN      NaN    NaN   \n",
              "75%                                   NaN                NaN      NaN    NaN   \n",
              "max                                   NaN                NaN      NaN    NaN   \n",
              "\n",
              "       Dosage Form  Unit of Measure (Per Pack)  Line Item Quantity  \\\n",
              "count        10324                10324.000000        10324.000000   \n",
              "unique          17                         NaN                 NaN   \n",
              "top         Tablet                         NaN                 NaN   \n",
              "freq          3532                         NaN                 NaN   \n",
              "mean           NaN                   77.990895        18332.534870   \n",
              "std            NaN                   76.579764        40035.302961   \n",
              "min            NaN                    1.000000            1.000000   \n",
              "25%            NaN                   30.000000          408.000000   \n",
              "50%            NaN                   60.000000         3000.000000   \n",
              "75%            NaN                   90.000000        17039.750000   \n",
              "max            NaN                 1000.000000       619999.000000   \n",
              "\n",
              "        Line Item Value    Pack Price    Unit Price  \\\n",
              "count      1.032400e+04  10324.000000  10324.000000   \n",
              "unique              NaN           NaN           NaN   \n",
              "top                 NaN           NaN           NaN   \n",
              "freq                NaN           NaN           NaN   \n",
              "mean       1.576506e+05     21.910241      0.611701   \n",
              "std        3.452921e+05     45.609223      3.275808   \n",
              "min        0.000000e+00      0.000000      0.000000   \n",
              "25%        4.314593e+03      4.120000      0.080000   \n",
              "50%        3.047147e+04      9.300000      0.160000   \n",
              "75%        1.664471e+05     23.592500      0.470000   \n",
              "max        5.951990e+06   1345.640000    238.650000   \n",
              "\n",
              "               Manufacturing Site First Line Designation  \\\n",
              "count                       10324                  10324   \n",
              "unique                         88                      2   \n",
              "top     Aurobindo Unit III, India                    Yes   \n",
              "freq                         3172                   7030   \n",
              "mean                          NaN                    NaN   \n",
              "std                           NaN                    NaN   \n",
              "min                           NaN                    NaN   \n",
              "25%                           NaN                    NaN   \n",
              "50%                           NaN                    NaN   \n",
              "75%                           NaN                    NaN   \n",
              "max                           NaN                    NaN   \n",
              "\n",
              "                Weight (Kilograms)                  Freight Cost (USD)  \\\n",
              "count                        10324                               10324   \n",
              "unique                        4688                                6733   \n",
              "top     Weight Captured Separately  Freight Included in Commodity Cost   \n",
              "freq                          1507                                1442   \n",
              "mean                           NaN                                 NaN   \n",
              "std                            NaN                                 NaN   \n",
              "min                            NaN                                 NaN   \n",
              "25%                            NaN                                 NaN   \n",
              "50%                            NaN                                 NaN   \n",
              "75%                            NaN                                 NaN   \n",
              "max                            NaN                                 NaN   \n",
              "\n",
              "        Line Item Insurance (USD)  \n",
              "count                10037.000000  \n",
              "unique                        NaN  \n",
              "top                           NaN  \n",
              "freq                          NaN  \n",
              "mean                   240.117626  \n",
              "std                    500.190568  \n",
              "min                      0.000000  \n",
              "25%                      6.510000  \n",
              "50%                     47.040000  \n",
              "75%                    252.400000  \n",
              "max                   7708.440000  "
            ],
            "text/html": [
              "\n",
              "  <div id=\"df-36c154ee-9bc7-4a2e-8db1-7daa337bc6f8\">\n",
              "    <div class=\"colab-df-container\">\n",
              "      <div>\n",
              "<style scoped>\n",
              "    .dataframe tbody tr th:only-of-type {\n",
              "        vertical-align: middle;\n",
              "    }\n",
              "\n",
              "    .dataframe tbody tr th {\n",
              "        vertical-align: top;\n",
              "    }\n",
              "\n",
              "    .dataframe thead th {\n",
              "        text-align: right;\n",
              "    }\n",
              "</style>\n",
              "<table border=\"1\" class=\"dataframe\">\n",
              "  <thead>\n",
              "    <tr style=\"text-align: right;\">\n",
              "      <th></th>\n",
              "      <th>ID</th>\n",
              "      <th>Project Code</th>\n",
              "      <th>PQ #</th>\n",
              "      <th>PO / SO #</th>\n",
              "      <th>ASN/DN #</th>\n",
              "      <th>Country</th>\n",
              "      <th>Managed By</th>\n",
              "      <th>Fulfill Via</th>\n",
              "      <th>Vendor INCO Term</th>\n",
              "      <th>Shipment Mode</th>\n",
              "      <th>PQ First Sent to Client Date</th>\n",
              "      <th>PO Sent to Vendor Date</th>\n",
              "      <th>Scheduled Delivery Date</th>\n",
              "      <th>Delivered to Client Date</th>\n",
              "      <th>Delivery Recorded Date</th>\n",
              "      <th>Product Group</th>\n",
              "      <th>Sub Classification</th>\n",
              "      <th>Vendor</th>\n",
              "      <th>Item Description</th>\n",
              "      <th>Molecule/Test Type</th>\n",
              "      <th>Brand</th>\n",
              "      <th>Dosage</th>\n",
              "      <th>Dosage Form</th>\n",
              "      <th>Unit of Measure (Per Pack)</th>\n",
              "      <th>Line Item Quantity</th>\n",
              "      <th>Line Item Value</th>\n",
              "      <th>Pack Price</th>\n",
              "      <th>Unit Price</th>\n",
              "      <th>Manufacturing Site</th>\n",
              "      <th>First Line Designation</th>\n",
              "      <th>Weight (Kilograms)</th>\n",
              "      <th>Freight Cost (USD)</th>\n",
              "      <th>Line Item Insurance (USD)</th>\n",
              "    </tr>\n",
              "  </thead>\n",
              "  <tbody>\n",
              "    <tr>\n",
              "      <th>count</th>\n",
              "      <td>10324.000000</td>\n",
              "      <td>10324</td>\n",
              "      <td>10324</td>\n",
              "      <td>10324</td>\n",
              "      <td>10324</td>\n",
              "      <td>10324</td>\n",
              "      <td>10324</td>\n",
              "      <td>10324</td>\n",
              "      <td>10324</td>\n",
              "      <td>9964</td>\n",
              "      <td>10324</td>\n",
              "      <td>10324</td>\n",
              "      <td>10324</td>\n",
              "      <td>10324</td>\n",
              "      <td>10324</td>\n",
              "      <td>10324</td>\n",
              "      <td>10324</td>\n",
              "      <td>10324</td>\n",
              "      <td>10324</td>\n",
              "      <td>10324</td>\n",
              "      <td>10324</td>\n",
              "      <td>8588</td>\n",
              "      <td>10324</td>\n",
              "      <td>10324.000000</td>\n",
              "      <td>10324.000000</td>\n",
              "      <td>1.032400e+04</td>\n",
              "      <td>10324.000000</td>\n",
              "      <td>10324.000000</td>\n",
              "      <td>10324</td>\n",
              "      <td>10324</td>\n",
              "      <td>10324</td>\n",
              "      <td>10324</td>\n",
              "      <td>10037.000000</td>\n",
              "    </tr>\n",
              "    <tr>\n",
              "      <th>unique</th>\n",
              "      <td>NaN</td>\n",
              "      <td>142</td>\n",
              "      <td>1237</td>\n",
              "      <td>6233</td>\n",
              "      <td>7030</td>\n",
              "      <td>43</td>\n",
              "      <td>4</td>\n",
              "      <td>2</td>\n",
              "      <td>8</td>\n",
              "      <td>4</td>\n",
              "      <td>765</td>\n",
              "      <td>897</td>\n",
              "      <td>2006</td>\n",
              "      <td>2093</td>\n",
              "      <td>2042</td>\n",
              "      <td>5</td>\n",
              "      <td>6</td>\n",
              "      <td>73</td>\n",
              "      <td>184</td>\n",
              "      <td>86</td>\n",
              "      <td>48</td>\n",
              "      <td>54</td>\n",
              "      <td>17</td>\n",
              "      <td>NaN</td>\n",
              "      <td>NaN</td>\n",
              "      <td>NaN</td>\n",
              "      <td>NaN</td>\n",
              "      <td>NaN</td>\n",
              "      <td>88</td>\n",
              "      <td>2</td>\n",
              "      <td>4688</td>\n",
              "      <td>6733</td>\n",
              "      <td>NaN</td>\n",
              "    </tr>\n",
              "    <tr>\n",
              "      <th>top</th>\n",
              "      <td>NaN</td>\n",
              "      <td>116-ZA-T30</td>\n",
              "      <td>Pre-PQ Process</td>\n",
              "      <td>SCMS-199289</td>\n",
              "      <td>ASN-19166</td>\n",
              "      <td>South Africa</td>\n",
              "      <td>PMO - US</td>\n",
              "      <td>From RDC</td>\n",
              "      <td>N/A - From RDC</td>\n",
              "      <td>Air</td>\n",
              "      <td>Pre-PQ Process</td>\n",
              "      <td>N/A - From RDC</td>\n",
              "      <td>29-Aug-14</td>\n",
              "      <td>29-Aug-14</td>\n",
              "      <td>29-Aug-14</td>\n",
              "      <td>ARV</td>\n",
              "      <td>Adult</td>\n",
              "      <td>SCMS from RDC</td>\n",
              "      <td>Efavirenz 600mg, tablets, 30 Tabs</td>\n",
              "      <td>Efavirenz</td>\n",
              "      <td>Generic</td>\n",
              "      <td>300mg</td>\n",
              "      <td>Tablet</td>\n",
              "      <td>NaN</td>\n",
              "      <td>NaN</td>\n",
              "      <td>NaN</td>\n",
              "      <td>NaN</td>\n",
              "      <td>NaN</td>\n",
              "      <td>Aurobindo Unit III, India</td>\n",
              "      <td>Yes</td>\n",
              "      <td>Weight Captured Separately</td>\n",
              "      <td>Freight Included in Commodity Cost</td>\n",
              "      <td>NaN</td>\n",
              "    </tr>\n",
              "    <tr>\n",
              "      <th>freq</th>\n",
              "      <td>NaN</td>\n",
              "      <td>768</td>\n",
              "      <td>2681</td>\n",
              "      <td>67</td>\n",
              "      <td>54</td>\n",
              "      <td>1406</td>\n",
              "      <td>10265</td>\n",
              "      <td>5404</td>\n",
              "      <td>5404</td>\n",
              "      <td>6113</td>\n",
              "      <td>2476</td>\n",
              "      <td>5404</td>\n",
              "      <td>97</td>\n",
              "      <td>74</td>\n",
              "      <td>67</td>\n",
              "      <td>8550</td>\n",
              "      <td>6595</td>\n",
              "      <td>5404</td>\n",
              "      <td>755</td>\n",
              "      <td>1125</td>\n",
              "      <td>7285</td>\n",
              "      <td>990</td>\n",
              "      <td>3532</td>\n",
              "      <td>NaN</td>\n",
              "      <td>NaN</td>\n",
              "      <td>NaN</td>\n",
              "      <td>NaN</td>\n",
              "      <td>NaN</td>\n",
              "      <td>3172</td>\n",
              "      <td>7030</td>\n",
              "      <td>1507</td>\n",
              "      <td>1442</td>\n",
              "      <td>NaN</td>\n",
              "    </tr>\n",
              "    <tr>\n",
              "      <th>mean</th>\n",
              "      <td>51098.968229</td>\n",
              "      <td>NaN</td>\n",
              "      <td>NaN</td>\n",
              "      <td>NaN</td>\n",
              "      <td>NaN</td>\n",
              "      <td>NaN</td>\n",
              "      <td>NaN</td>\n",
              "      <td>NaN</td>\n",
              "      <td>NaN</td>\n",
              "      <td>NaN</td>\n",
              "      <td>NaN</td>\n",
              "      <td>NaN</td>\n",
              "      <td>NaN</td>\n",
              "      <td>NaN</td>\n",
              "      <td>NaN</td>\n",
              "      <td>NaN</td>\n",
              "      <td>NaN</td>\n",
              "      <td>NaN</td>\n",
              "      <td>NaN</td>\n",
              "      <td>NaN</td>\n",
              "      <td>NaN</td>\n",
              "      <td>NaN</td>\n",
              "      <td>NaN</td>\n",
              "      <td>77.990895</td>\n",
              "      <td>18332.534870</td>\n",
              "      <td>1.576506e+05</td>\n",
              "      <td>21.910241</td>\n",
              "      <td>0.611701</td>\n",
              "      <td>NaN</td>\n",
              "      <td>NaN</td>\n",
              "      <td>NaN</td>\n",
              "      <td>NaN</td>\n",
              "      <td>240.117626</td>\n",
              "    </tr>\n",
              "    <tr>\n",
              "      <th>std</th>\n",
              "      <td>31944.332496</td>\n",
              "      <td>NaN</td>\n",
              "      <td>NaN</td>\n",
              "      <td>NaN</td>\n",
              "      <td>NaN</td>\n",
              "      <td>NaN</td>\n",
              "      <td>NaN</td>\n",
              "      <td>NaN</td>\n",
              "      <td>NaN</td>\n",
              "      <td>NaN</td>\n",
              "      <td>NaN</td>\n",
              "      <td>NaN</td>\n",
              "      <td>NaN</td>\n",
              "      <td>NaN</td>\n",
              "      <td>NaN</td>\n",
              "      <td>NaN</td>\n",
              "      <td>NaN</td>\n",
              "      <td>NaN</td>\n",
              "      <td>NaN</td>\n",
              "      <td>NaN</td>\n",
              "      <td>NaN</td>\n",
              "      <td>NaN</td>\n",
              "      <td>NaN</td>\n",
              "      <td>76.579764</td>\n",
              "      <td>40035.302961</td>\n",
              "      <td>3.452921e+05</td>\n",
              "      <td>45.609223</td>\n",
              "      <td>3.275808</td>\n",
              "      <td>NaN</td>\n",
              "      <td>NaN</td>\n",
              "      <td>NaN</td>\n",
              "      <td>NaN</td>\n",
              "      <td>500.190568</td>\n",
              "    </tr>\n",
              "    <tr>\n",
              "      <th>min</th>\n",
              "      <td>1.000000</td>\n",
              "      <td>NaN</td>\n",
              "      <td>NaN</td>\n",
              "      <td>NaN</td>\n",
              "      <td>NaN</td>\n",
              "      <td>NaN</td>\n",
              "      <td>NaN</td>\n",
              "      <td>NaN</td>\n",
              "      <td>NaN</td>\n",
              "      <td>NaN</td>\n",
              "      <td>NaN</td>\n",
              "      <td>NaN</td>\n",
              "      <td>NaN</td>\n",
              "      <td>NaN</td>\n",
              "      <td>NaN</td>\n",
              "      <td>NaN</td>\n",
              "      <td>NaN</td>\n",
              "      <td>NaN</td>\n",
              "      <td>NaN</td>\n",
              "      <td>NaN</td>\n",
              "      <td>NaN</td>\n",
              "      <td>NaN</td>\n",
              "      <td>NaN</td>\n",
              "      <td>1.000000</td>\n",
              "      <td>1.000000</td>\n",
              "      <td>0.000000e+00</td>\n",
              "      <td>0.000000</td>\n",
              "      <td>0.000000</td>\n",
              "      <td>NaN</td>\n",
              "      <td>NaN</td>\n",
              "      <td>NaN</td>\n",
              "      <td>NaN</td>\n",
              "      <td>0.000000</td>\n",
              "    </tr>\n",
              "    <tr>\n",
              "      <th>25%</th>\n",
              "      <td>12795.750000</td>\n",
              "      <td>NaN</td>\n",
              "      <td>NaN</td>\n",
              "      <td>NaN</td>\n",
              "      <td>NaN</td>\n",
              "      <td>NaN</td>\n",
              "      <td>NaN</td>\n",
              "      <td>NaN</td>\n",
              "      <td>NaN</td>\n",
              "      <td>NaN</td>\n",
              "      <td>NaN</td>\n",
              "      <td>NaN</td>\n",
              "      <td>NaN</td>\n",
              "      <td>NaN</td>\n",
              "      <td>NaN</td>\n",
              "      <td>NaN</td>\n",
              "      <td>NaN</td>\n",
              "      <td>NaN</td>\n",
              "      <td>NaN</td>\n",
              "      <td>NaN</td>\n",
              "      <td>NaN</td>\n",
              "      <td>NaN</td>\n",
              "      <td>NaN</td>\n",
              "      <td>30.000000</td>\n",
              "      <td>408.000000</td>\n",
              "      <td>4.314593e+03</td>\n",
              "      <td>4.120000</td>\n",
              "      <td>0.080000</td>\n",
              "      <td>NaN</td>\n",
              "      <td>NaN</td>\n",
              "      <td>NaN</td>\n",
              "      <td>NaN</td>\n",
              "      <td>6.510000</td>\n",
              "    </tr>\n",
              "    <tr>\n",
              "      <th>50%</th>\n",
              "      <td>57540.500000</td>\n",
              "      <td>NaN</td>\n",
              "      <td>NaN</td>\n",
              "      <td>NaN</td>\n",
              "      <td>NaN</td>\n",
              "      <td>NaN</td>\n",
              "      <td>NaN</td>\n",
              "      <td>NaN</td>\n",
              "      <td>NaN</td>\n",
              "      <td>NaN</td>\n",
              "      <td>NaN</td>\n",
              "      <td>NaN</td>\n",
              "      <td>NaN</td>\n",
              "      <td>NaN</td>\n",
              "      <td>NaN</td>\n",
              "      <td>NaN</td>\n",
              "      <td>NaN</td>\n",
              "      <td>NaN</td>\n",
              "      <td>NaN</td>\n",
              "      <td>NaN</td>\n",
              "      <td>NaN</td>\n",
              "      <td>NaN</td>\n",
              "      <td>NaN</td>\n",
              "      <td>60.000000</td>\n",
              "      <td>3000.000000</td>\n",
              "      <td>3.047147e+04</td>\n",
              "      <td>9.300000</td>\n",
              "      <td>0.160000</td>\n",
              "      <td>NaN</td>\n",
              "      <td>NaN</td>\n",
              "      <td>NaN</td>\n",
              "      <td>NaN</td>\n",
              "      <td>47.040000</td>\n",
              "    </tr>\n",
              "    <tr>\n",
              "      <th>75%</th>\n",
              "      <td>83648.250000</td>\n",
              "      <td>NaN</td>\n",
              "      <td>NaN</td>\n",
              "      <td>NaN</td>\n",
              "      <td>NaN</td>\n",
              "      <td>NaN</td>\n",
              "      <td>NaN</td>\n",
              "      <td>NaN</td>\n",
              "      <td>NaN</td>\n",
              "      <td>NaN</td>\n",
              "      <td>NaN</td>\n",
              "      <td>NaN</td>\n",
              "      <td>NaN</td>\n",
              "      <td>NaN</td>\n",
              "      <td>NaN</td>\n",
              "      <td>NaN</td>\n",
              "      <td>NaN</td>\n",
              "      <td>NaN</td>\n",
              "      <td>NaN</td>\n",
              "      <td>NaN</td>\n",
              "      <td>NaN</td>\n",
              "      <td>NaN</td>\n",
              "      <td>NaN</td>\n",
              "      <td>90.000000</td>\n",
              "      <td>17039.750000</td>\n",
              "      <td>1.664471e+05</td>\n",
              "      <td>23.592500</td>\n",
              "      <td>0.470000</td>\n",
              "      <td>NaN</td>\n",
              "      <td>NaN</td>\n",
              "      <td>NaN</td>\n",
              "      <td>NaN</td>\n",
              "      <td>252.400000</td>\n",
              "    </tr>\n",
              "    <tr>\n",
              "      <th>max</th>\n",
              "      <td>86823.000000</td>\n",
              "      <td>NaN</td>\n",
              "      <td>NaN</td>\n",
              "      <td>NaN</td>\n",
              "      <td>NaN</td>\n",
              "      <td>NaN</td>\n",
              "      <td>NaN</td>\n",
              "      <td>NaN</td>\n",
              "      <td>NaN</td>\n",
              "      <td>NaN</td>\n",
              "      <td>NaN</td>\n",
              "      <td>NaN</td>\n",
              "      <td>NaN</td>\n",
              "      <td>NaN</td>\n",
              "      <td>NaN</td>\n",
              "      <td>NaN</td>\n",
              "      <td>NaN</td>\n",
              "      <td>NaN</td>\n",
              "      <td>NaN</td>\n",
              "      <td>NaN</td>\n",
              "      <td>NaN</td>\n",
              "      <td>NaN</td>\n",
              "      <td>NaN</td>\n",
              "      <td>1000.000000</td>\n",
              "      <td>619999.000000</td>\n",
              "      <td>5.951990e+06</td>\n",
              "      <td>1345.640000</td>\n",
              "      <td>238.650000</td>\n",
              "      <td>NaN</td>\n",
              "      <td>NaN</td>\n",
              "      <td>NaN</td>\n",
              "      <td>NaN</td>\n",
              "      <td>7708.440000</td>\n",
              "    </tr>\n",
              "  </tbody>\n",
              "</table>\n",
              "</div>\n",
              "      <button class=\"colab-df-convert\" onclick=\"convertToInteractive('df-36c154ee-9bc7-4a2e-8db1-7daa337bc6f8')\"\n",
              "              title=\"Convert this dataframe to an interactive table.\"\n",
              "              style=\"display:none;\">\n",
              "        \n",
              "  <svg xmlns=\"http://www.w3.org/2000/svg\" height=\"24px\"viewBox=\"0 0 24 24\"\n",
              "       width=\"24px\">\n",
              "    <path d=\"M0 0h24v24H0V0z\" fill=\"none\"/>\n",
              "    <path d=\"M18.56 5.44l.94 2.06.94-2.06 2.06-.94-2.06-.94-.94-2.06-.94 2.06-2.06.94zm-11 1L8.5 8.5l.94-2.06 2.06-.94-2.06-.94L8.5 2.5l-.94 2.06-2.06.94zm10 10l.94 2.06.94-2.06 2.06-.94-2.06-.94-.94-2.06-.94 2.06-2.06.94z\"/><path d=\"M17.41 7.96l-1.37-1.37c-.4-.4-.92-.59-1.43-.59-.52 0-1.04.2-1.43.59L10.3 9.45l-7.72 7.72c-.78.78-.78 2.05 0 2.83L4 21.41c.39.39.9.59 1.41.59.51 0 1.02-.2 1.41-.59l7.78-7.78 2.81-2.81c.8-.78.8-2.07 0-2.86zM5.41 20L4 18.59l7.72-7.72 1.47 1.35L5.41 20z\"/>\n",
              "  </svg>\n",
              "      </button>\n",
              "      \n",
              "  <style>\n",
              "    .colab-df-container {\n",
              "      display:flex;\n",
              "      flex-wrap:wrap;\n",
              "      gap: 12px;\n",
              "    }\n",
              "\n",
              "    .colab-df-convert {\n",
              "      background-color: #E8F0FE;\n",
              "      border: none;\n",
              "      border-radius: 50%;\n",
              "      cursor: pointer;\n",
              "      display: none;\n",
              "      fill: #1967D2;\n",
              "      height: 32px;\n",
              "      padding: 0 0 0 0;\n",
              "      width: 32px;\n",
              "    }\n",
              "\n",
              "    .colab-df-convert:hover {\n",
              "      background-color: #E2EBFA;\n",
              "      box-shadow: 0px 1px 2px rgba(60, 64, 67, 0.3), 0px 1px 3px 1px rgba(60, 64, 67, 0.15);\n",
              "      fill: #174EA6;\n",
              "    }\n",
              "\n",
              "    [theme=dark] .colab-df-convert {\n",
              "      background-color: #3B4455;\n",
              "      fill: #D2E3FC;\n",
              "    }\n",
              "\n",
              "    [theme=dark] .colab-df-convert:hover {\n",
              "      background-color: #434B5C;\n",
              "      box-shadow: 0px 1px 3px 1px rgba(0, 0, 0, 0.15);\n",
              "      filter: drop-shadow(0px 1px 2px rgba(0, 0, 0, 0.3));\n",
              "      fill: #FFFFFF;\n",
              "    }\n",
              "  </style>\n",
              "\n",
              "      <script>\n",
              "        const buttonEl =\n",
              "          document.querySelector('#df-36c154ee-9bc7-4a2e-8db1-7daa337bc6f8 button.colab-df-convert');\n",
              "        buttonEl.style.display =\n",
              "          google.colab.kernel.accessAllowed ? 'block' : 'none';\n",
              "\n",
              "        async function convertToInteractive(key) {\n",
              "          const element = document.querySelector('#df-36c154ee-9bc7-4a2e-8db1-7daa337bc6f8');\n",
              "          const dataTable =\n",
              "            await google.colab.kernel.invokeFunction('convertToInteractive',\n",
              "                                                     [key], {});\n",
              "          if (!dataTable) return;\n",
              "\n",
              "          const docLinkHtml = 'Like what you see? Visit the ' +\n",
              "            '<a target=\"_blank\" href=https://colab.research.google.com/notebooks/data_table.ipynb>data table notebook</a>'\n",
              "            + ' to learn more about interactive tables.';\n",
              "          element.innerHTML = '';\n",
              "          dataTable['output_type'] = 'display_data';\n",
              "          await google.colab.output.renderOutput(dataTable, element);\n",
              "          const docLink = document.createElement('div');\n",
              "          docLink.innerHTML = docLinkHtml;\n",
              "          element.appendChild(docLink);\n",
              "        }\n",
              "      </script>\n",
              "    </div>\n",
              "  </div>\n",
              "  "
            ]
          },
          "metadata": {},
          "execution_count": 92
        }
      ],
      "source": [
        "df.describe(include='all')"
      ],
      "id": "2V327Y2F0dF3"
    },
    {
      "cell_type": "markdown",
      "metadata": {
        "id": "9OPBDuoY0kTr"
      },
      "source": [
        "We found out count,mean etc for each numerical variable"
      ],
      "id": "9OPBDuoY0kTr"
    },
    {
      "cell_type": "markdown",
      "metadata": {
        "id": "XgjGozt_2V0R"
      },
      "source": [
        "# UNIVARAITE"
      ],
      "id": "XgjGozt_2V0R"
    },
    {
      "cell_type": "code",
      "execution_count": null,
      "metadata": {
        "id": "aaf21816",
        "colab": {
          "base_uri": "https://localhost:8080/"
        },
        "outputId": "834b5b82-5339-4b9a-8870-c03e7f67f663"
      },
      "outputs": [
        {
          "output_type": "execute_result",
          "data": {
            "text/plain": [
              "array([\"Côte d'Ivoire\", 'Vietnam', 'Nigeria', 'Zambia', 'Tanzania',\n",
              "       'Rwanda', 'Haiti', 'Zimbabwe', 'Ethiopia', 'South Africa',\n",
              "       'Guyana', 'Namibia', 'Botswana', 'Mozambique', 'Kenya',\n",
              "       'Kazakhstan', 'Uganda', 'Kyrgyzstan', 'Senegal', 'Benin',\n",
              "       'Lesotho', 'Pakistan', 'Swaziland', 'Ghana', 'Angola', 'Lebanon',\n",
              "       'Sierra Leone', 'Cameroon', 'South Sudan', 'Burundi',\n",
              "       'Dominican Republic', 'Malawi', 'Congo, DRC', 'Sudan', 'Mali',\n",
              "       'Guatemala', 'Togo', 'Afghanistan', 'Liberia', 'Burkina Faso',\n",
              "       'Guinea', 'Libya', 'Belize'], dtype=object)"
            ]
          },
          "metadata": {},
          "execution_count": 93
        }
      ],
      "source": [
        "df[\"Country\"].unique()"
      ],
      "id": "aaf21816"
    },
    {
      "cell_type": "code",
      "execution_count": null,
      "metadata": {
        "id": "fua-LDLK8_Y8",
        "colab": {
          "base_uri": "https://localhost:8080/"
        },
        "outputId": "05370cd5-95be-407b-f330-8c21220fe907"
      },
      "outputs": [
        {
          "output_type": "execute_result",
          "data": {
            "text/plain": [
              "43"
            ]
          },
          "metadata": {},
          "execution_count": 94
        }
      ],
      "source": [
        "df[\"Country\"].nunique()"
      ],
      "id": "fua-LDLK8_Y8"
    },
    {
      "cell_type": "code",
      "execution_count": null,
      "metadata": {
        "id": "wGdoCpnp6tyt",
        "colab": {
          "base_uri": "https://localhost:8080/",
          "height": 560
        },
        "outputId": "f07c38fc-833c-479a-f2a0-c7e1879d5595"
      },
      "outputs": [
        {
          "output_type": "execute_result",
          "data": {
            "text/plain": [
              "Text(0.5, 0, 'Country Name')"
            ]
          },
          "metadata": {},
          "execution_count": 95
        },
        {
          "output_type": "display_data",
          "data": {
            "text/plain": [
              "<Figure size 1800x1080 with 1 Axes>"
            ],
            "image/png": "[encoded data removed]"
          },
          "metadata": {
            "needs_background": "light"
          }
        }
      ],
      "source": [
        "ItemCount = df[\"Country\"].value_counts().nlargest(20)\n",
        "plt.figure(figsize=(25,15))\n",
        "sns.countplot(df['Country'],order = df['Country'].value_counts().nlargest(20).index)\n",
        "plt.title('Top 20 Countries Wise Count \\n')\n",
        "plt.ylabel('Total Count')\n",
        "plt.xlabel('Country Name')"
      ],
      "id": "wGdoCpnp6tyt"
    },
    {
      "cell_type": "code",
      "execution_count": null,
      "metadata": {
        "id": "eIxWA-y9zPp4",
        "colab": {
          "base_uri": "https://localhost:8080/",
          "height": 248
        },
        "outputId": "f34fe6f4-0da1-47b8-eabe-965b58ecdb31"
      },
      "outputs": [
        {
          "output_type": "display_data",
          "data": {
            "text/plain": [
              "<Figure size 432x288 with 1 Axes>"
            ],
            "image/png": "[encoded data removed]"
          },
          "metadata": {}
        }
      ],
      "source": [
        "Shipping = df[\"Shipment Mode\"].value_counts().index\n",
        "ShippingMode = df[\"Shipment Mode\"].value_counts()\n",
        "plt.pie(ShippingMode,labels=Shipping,autopct='%1.2f%%')\n",
        "plt.show()"
      ],
      "id": "eIxWA-y9zPp4"
    },
    {
      "cell_type": "markdown",
      "metadata": {
        "id": "hGR1Ja2n6oN1"
      },
      "source": [
        "# Bivariate"
      ],
      "id": "hGR1Ja2n6oN1"
    },
    {
      "cell_type": "code",
      "execution_count": null,
      "metadata": {
        "id": "ZkdAl5hC54jN",
        "colab": {
          "base_uri": "https://localhost:8080/"
        },
        "outputId": "e997f8d3-80ab-4a92-936e-f1b1f95a6465"
      },
      "outputs": [
        {
          "output_type": "execute_result",
          "data": {
            "text/plain": [
              "Shipment Mode\n",
              "Air            43\n",
              "Air Charter     6\n",
              "Ocean          14\n",
              "Truck          22\n",
              "Name: Country, dtype: int64"
            ]
          },
          "metadata": {},
          "execution_count": 97
        }
      ],
      "source": [
        "from pandas._libs.hashtable import value_count\n",
        "df[\"Country\"].groupby(df['Shipment Mode']).nunique()"
      ],
      "id": "ZkdAl5hC54jN"
    },
    {
      "cell_type": "code",
      "execution_count": null,
      "metadata": {
        "id": "ff1558b0",
        "colab": {
          "base_uri": "https://localhost:8080/",
          "height": 708
        },
        "outputId": "757a3d0d-c799-4723-e2f8-03a59b76395e"
      },
      "outputs": [
        {
          "output_type": "execute_result",
          "data": {
            "text/plain": [
              "Text(0, 0.5, 'Shipment Value')"
            ]
          },
          "metadata": {},
          "execution_count": 98
        },
        {
          "output_type": "display_data",
          "data": {
            "text/plain": [
              "<Figure size 1440x720 with 3 Axes>"
            ],
            "image/png": "[encoded data removed]"
          },
          "metadata": {
            "needs_background": "light"
          }
        }
      ],
      "source": [
        "fig,ax=plt.subplots(1,3,figsize=(20,10))\n",
        "\n",
        "# Top 10 Manufacturing sites by Total Price/Value of Packs produced \n",
        "df.groupby(['Manufacturing Site'])['Line Item Value'].sum().nlargest(10).plot(kind='bar',ax=ax[0])\n",
        "ax[0].set_ylabel('Shipment Value')\n",
        "\n",
        "# Top 10 Countries by Total Price/Value of Packs produced \n",
        "df.groupby(['Country'])['Line Item Value'].sum().nlargest(10).plot(kind='bar',ax=ax[1])\n",
        "ax[1].set_ylabel('Shipment Value')\n",
        "\n",
        "# Top 10 Vendors sites by Total Price/Value of Packs produced \n",
        "df.groupby(['Vendor'])['Line Item Value'].sum().nlargest(10).plot(kind='bar',ax=ax[2])\n",
        "ax[2].set_ylabel('Shipment Value')"
      ],
      "id": "ff1558b0"
    },
    {
      "cell_type": "code",
      "execution_count": null,
      "metadata": {
        "id": "7bb2a8a5",
        "colab": {
          "base_uri": "https://localhost:8080/",
          "height": 789
        },
        "outputId": "b940e8cb-25bc-4b7d-b4e8-5dec8924137f"
      },
      "outputs": [
        {
          "output_type": "execute_result",
          "data": {
            "text/plain": [
              "Text(0, 0.5, 'Shipment Value')"
            ]
          },
          "metadata": {},
          "execution_count": 99
        },
        {
          "output_type": "display_data",
          "data": {
            "text/plain": [
              "<Figure size 1440x720 with 3 Axes>"
            ],
            "image/png": "[encoded data removed]"
          },
          "metadata": {
            "needs_background": "light"
          }
        }
      ],
      "source": [
        "fig,ax=plt.subplots(1,3,figsize=(20,10))\n",
        "df.groupby(['Shipment Mode'])['Line Item Value'].sum().nlargest(5).plot(kind='bar',ax=ax[0])\n",
        "ax[0].set_ylabel('Shipment Value')\n",
        "df.groupby(['Dosage Form'])['Line Item Value'].sum().nlargest(5).plot(kind='bar',ax=ax[1])\n",
        "ax[1].set_ylabel('Shipment Value')\n",
        "df.groupby(['Item Description'])['Line Item Value'].sum().nlargest(5).plot(kind='bar',ax=ax[2])\n",
        "plt.xticks(rotation=90)\n",
        "ax[2].set_ylabel('Shipment Value')"
      ],
      "id": "7bb2a8a5"
    },
    {
      "cell_type": "code",
      "execution_count": null,
      "metadata": {
        "id": "4DT2kc7o9eGJ",
        "colab": {
          "base_uri": "https://localhost:8080/"
        },
        "outputId": "f93218fd-96a6-49dd-b714-648d5999f0f7"
      },
      "outputs": [
        {
          "output_type": "execute_result",
          "data": {
            "text/plain": [
              "Brand   Vendor                                                    \n",
              "Aluvia  ABBOTT LABORATORIES (PUERTO RICO)                               1\n",
              "        ABBOTT LOGISTICS B.V.                                           1\n",
              "        ABBVIE LOGISTICS (FORMERLY ABBOTT LOGISTICS BV)               110\n",
              "        INTERNATIONAL HEALTHCARE DISTRIBUTORS                           1\n",
              "        S. BUYS WHOLESALER                                             27\n",
              "                                                                     ... \n",
              "Zerit   LAWRENCE LABORATORIES (SUBSIDIARY OF BRISTOL MYERS SQUIBB)      1\n",
              "        S. BUYS WHOLESALER                                             36\n",
              "Ziagen  ASPEN PHARMACARE                                                5\n",
              "        GLAXOSMITHKLINE EXPORT LIMITED                                 14\n",
              "        S. BUYS WHOLESALER                                             18\n",
              "Length: 175, dtype: int64"
            ]
          },
          "metadata": {},
          "execution_count": 100
        }
      ],
      "source": [
        "#checking relation b/w Brands and vendors\n",
        "df.groupby(['Brand','Vendor']).size()"
      ],
      "id": "4DT2kc7o9eGJ"
    },
    {
      "cell_type": "code",
      "execution_count": null,
      "metadata": {
        "id": "TC8uPPyMdEaU",
        "colab": {
          "base_uri": "https://localhost:8080/",
          "height": 279
        },
        "outputId": "f2be5415-a845-4659-8afa-707d63e92d68"
      },
      "outputs": [
        {
          "output_type": "display_data",
          "data": {
            "text/plain": [
              "<Figure size 432x288 with 1 Axes>"
            ],
            "image/png": "[encoded data removed]"
          },
          "metadata": {
            "needs_background": "light"
          }
        }
      ],
      "source": [
        "sns.barplot('Shipment Mode','Pack Price', data=df)\n",
        "plt.show()"
      ],
      "id": "TC8uPPyMdEaU"
    },
    {
      "cell_type": "code",
      "execution_count": null,
      "metadata": {
        "id": "J_sT8UhOgQS7",
        "colab": {
          "base_uri": "https://localhost:8080/"
        },
        "outputId": "14da13b5-6797-4f5b-cab1-4a00f9e30d6c"
      },
      "outputs": [
        {
          "output_type": "stream",
          "name": "stdout",
          "text": [
            "Total Pack Price for Top 15 Countries\n",
            "\n",
            "Country\n",
            "Kazakhstan            350.000000\n",
            "Lesotho               203.000000\n",
            "Mali                  101.764706\n",
            "Botswana              100.750571\n",
            "Kyrgyzstan             79.000000\n",
            "Guinea                 72.000000\n",
            "Guatemala              61.680667\n",
            "Kenya                  57.199459\n",
            "Pakistan               54.133333\n",
            "Cameroon               51.528267\n",
            "Liberia                44.000000\n",
            "Malawi                 43.282857\n",
            "Sierra Leone           41.125000\n",
            "Sudan                  40.908696\n",
            "Namibia                39.762526\n",
            "Angola                 38.508571\n",
            "Afghanistan            37.183333\n",
            "Dominican Republic     36.404423\n",
            "Senegal                35.213333\n",
            "Haiti                  29.803511\n",
            "South Sudan            26.833720\n",
            "Swaziland              25.716857\n",
            "Guyana                 23.879114\n",
            "Mozambique             22.333439\n",
            "Nigeria                21.457889\n",
            "Tanzania               21.286551\n",
            "Côte d'Ivoire          21.128670\n",
            "Burundi                20.936837\n",
            "Uganda                 20.107933\n",
            "Congo, DRC             18.115345\n",
            "Rwanda                 17.963465\n",
            "Zambia                 17.408009\n",
            "Vietnam                17.389215\n",
            "Ethiopia               17.358426\n",
            "South Africa           17.296515\n",
            "Benin                  14.421538\n",
            "Zimbabwe               12.199926\n",
            "Libya                   9.216250\n",
            "Togo                    8.680000\n",
            "Ghana                   4.680690\n",
            "Burkina Faso            4.425000\n",
            "Belize                  2.100000\n",
            "Lebanon                 0.010000\n",
            "Name: Pack Price, dtype: float64\n"
          ]
        }
      ],
      "source": [
        "TotalPrice = df.groupby(['Country'])['Pack Price'].mean().nlargest(43)\n",
        "print(\"Total Pack Price for Top 15 Countries\\n\")\n",
        "print(TotalPrice)"
      ],
      "id": "J_sT8UhOgQS7"
    },
    {
      "cell_type": "code",
      "execution_count": null,
      "metadata": {
        "id": "qBmmwIBPAf3P",
        "colab": {
          "base_uri": "https://localhost:8080/"
        },
        "outputId": "83d5569c-6f34-41c2-ac45-12ef8f1efbfe"
      },
      "outputs": [
        {
          "output_type": "execute_result",
          "data": {
            "text/plain": [
              "6233"
            ]
          },
          "metadata": {},
          "execution_count": 104
        }
      ],
      "source": [
        "order = df['PO / SO #'].nunique()\n",
        "order"
      ],
      "id": "qBmmwIBPAf3P"
    },
    {
      "cell_type": "code",
      "execution_count": null,
      "metadata": {
        "id": "W5s9B83sBB96",
        "colab": {
          "base_uri": "https://localhost:8080/"
        },
        "outputId": "895c8dea-4fbc-46e4-8520-6b1f3d294d77"
      },
      "outputs": [
        {
          "output_type": "execute_result",
          "data": {
            "text/plain": [
              "142"
            ]
          },
          "metadata": {},
          "execution_count": 105
        }
      ],
      "source": [
        "total_projects=df['Project Code'].nunique()\n",
        "total_projects"
      ],
      "id": "W5s9B83sBB96"
    },
    {
      "cell_type": "code",
      "execution_count": null,
      "metadata": {
        "id": "l_8zbeErBfHg",
        "colab": {
          "base_uri": "https://localhost:8080/",
          "height": 192
        },
        "outputId": "80a5d38e-ecd1-47d3-ca69-7ede3553daf9"
      },
      "outputs": [
        {
          "output_type": "execute_result",
          "data": {
            "text/plain": [
              "'780.344521.51653.7816007.0645450.085920.42Freight Included in Commodity Cost6212.41See ASN-93 (ID#:1281)Freight Included in Commodity CostFreight Included in Commodity Cost13569.49Invoiced Separately64179.421760.32Freight Included in Commodity CostFreight Included in Commodity Cost3120.7912.962682.4715893.71Freight Included in Commodity Cost4193.491767.383518.383097.8527869.7428461.128359.812237.6120885.78Freight Included in Commodity Cost2282.572149.050.75Invoiced SeparatelyFreight Included in Commodity CostInvoiced Separately5446.512656.12Invoiced Separately360Freight Included in Commodity Cost4112.465468.881715.174051.34Freight Included in Commodity CostFreight Included in Commodity Cost2211.05Freight Included in Commodity Cost16090.22Invoiced SeparatelyFreight Included in Commodity Cost13507.92Freight Included in Commodity CostFreight Included in Commodity CostFreight Included in Commodity Cost645.1782.13871.57Freight Included in Commodity Cost18614.721755.8710179.16Freight Included in Commodity Cost4686.8818011062.05Invoiced Separately11298.1312830.91Freight Included in Commodity Cost2698.04578.011122.24Freight Included in Commodity CostFreight Included in Commodity CostFreight Included in Commodity CostFreight Included in Commodity CostFreight Included in Commodity CostFreight Included in Commodity Cost933925405.2223914.812835.2See ASN-3562 (ID#:960)4225.93892.56668.61Freight Included in Commodity Cost12595.81463260See ASN-3675 (ID#:1046)893.22Freight Included in Commodity CostFreight Included in Commodity CostFreight Included in Commodity CostFreight Included in Commodity CostFreight Included in Commodity CostFreight Included in Commodity CostFreight Included in Commodity CostFreight Included in Commodity CostFreight Included in Commodity CostFreight Included in Commodity CostFreight Included in Commodity CostFreight Included in Commodity CostFreight Included in Commodity Cost1172.1114806.487642.97Freight Included in Commodity CostFreight Included in Commodity Cost3134.853128.1916835.3124514.3337404.748074.033366.046341.88684.42401.9714.361736.18Freight Included in Commodity CostFreight Included in Commodity CostFreight Included in Commodity Cost1816.571039.53292.151195.29Freight Included in Commodity Cost4861.1418772.9442453.214989.87Freight Included in Commodity Cost31858.09See ASN-242 (ID#:64)See ASN-242 (ID#:64)Invoiced Separately21439.594445.7524859.45Freight Included in Commodity Cost5858.57Freight Included in Commodity Cost13762.41See ASN-744 (ID#:1356)See ASN-781 (ID#:115)4454.6216095.391767.3825165.37922.24Freight Included in Commodity CostFreight Included in Commodity Cost2535.428002.751511.252429.85Freight Included in Commodity Cost2577.27Freight Included in Commodity Cost2496.6218864.3755746.5924689Freight Included in Commodity Cost1104.695298.9Invoiced Separately5175.727118.123740.04959.46604Invoiced SeparatelyFreight Included in Commodity CostFreight Included in Commodity CostFreight Included in Commodity Cost4159.453796.05Freight Included in Commodity CostFreight Included in Commodity CostFreight Included in Commodity CostFreight Included in Commodity CostInvoiced Separately3013.097575.6Freight Included in Commodity CostFreight Included in Commodity CostFreight Included in Commodity CostFreight Included in Commodity Cost2851.725446.0630408.0438120.96See ASN-2274 (ID#:610)5822.44Freight Included in Commodity CostFreight Included in Commodity CostFreight Included in Commodity CostFreight Included in Commodity Cost7303.521047.3924870.0519992.752709.982568.63247.732335.19648.2711066.177303.2544347.71Freight Included in Commodity CostFreight Included in Commodity Cost19882.2522433.91Freight Included in Commodity Cost2653.27Freight Included in Commodity CostFreight Included in Commodity CostFreight Included in Commodity CostFreight Included in Commodity Cost22451.67963.34692.381003.529809.7See ASN-3562 (ID#:960)7933.383241.061903.5425052.69Freight Included in Commodity CostFreight Included in Commodity CostFreight Included in Commodity CostFreight Included in Commodity CostFreight Included in Commodity CostFreight Included in Commodity CostFreight Included in Commodity CostFreight Included in Commodity CostFreight Included in Commodity Cost428.91Freight Included in Commodity CostFreight Included in Commodity CostFreight Included in Commodity Cost853.88Freight Included in Commodity CostFreight Included in Commodity CostFreight Included in Commodity Cost1859.791205.7See ASN-4332 (ID#:1115)1332.4312561.42753777.9330661.58114.112008.544111.714318.211484.75Freight Included in Commodity CostFreight Included in Commodity CostFreight Included in Commodity Cost5962.583141845.74854.347682.69See ASN-55 (ID#:16)See ASN-55 (ID#:16)See ASN-57 (ID#:23)See ASN-57 (ID#:23)3850.814364.29See ASN-93 (ID#:1281)See ASN-93 (ID#:1281)49824.5725124.12See ASN-272 (ID#:1282)1498.0221150.56Freight Included in Commodity Cost3004.6228118.5843664.7122838.2918045.24See ASN-744 (ID#:1356)2514.052326.127791.6214505.37Invoiced Separately6755.816524.19Freight Included in Commodity CostFreight Included in Commodity CostFreight Included in Commodity CostFreight Included in Commodity Cost38425.292426.05Invoiced SeparatelyInvoiced SeparatelyFreight Included in Commodity CostFreight Included in Commodity CostFreight Included in Commodity CostFreight Included in Commodity CostFreight Included in Commodity Cost20635.312770.058213.59Freight Included in Commodity CostFreight Included in Commodity CostInvoiced Separately4113.16515.485303.052642.45Freight Included in Commodity CostFreight Included in Commodity Cost5260.462789.742879.96641.04Invoiced Separately1038.39Freight Included in Commodity CostFreight Included in Commodity CostFreight Included in Commodity CostFreight Included in Commodity Cost2873.5634902.965921.97Freight Included in Commodity Cost29954.153302147.61See ASN-2641 (ID#:670)46117.09Freight Included in Commodity CostFreight Included in Commodity CostFreight Included in Commodity CostInvoiced SeparatelySee ASN-2921 (ID#:719)3499.182648.8225080.521727.212646.153854.232946.6437820083.74Freight Included in Commodity Cost3261.3722775.45See ASN-3110 (ID#:2173)4457.291083.362525.73See ASN-3561 (ID#:2297)3936.25See ASN-3675 (ID#:1046)2490.67Freight Included in Commodity CostFreight Included in Commodity CostFreight Included in Commodity CostFreight Included in Commodity CostFreight Included in Commodity CostFreight Included in Commodity Cost4230.75Freight Included in Commodity CostFreight Included in Commodity CostFreight Included in Commodity CostFreight Included in Commodity CostFreight Included in Commodity CostFreight Included in Commodity CostFreight Included in Commodity CostFreight Included in Commodity CostFreight Included in Commodity CostFreight Included in Commodity CostFreight Included in Commodity CostFreight Included in Commodity CostFreight Included in Commodity CostFreight Included in Commodity CostFreight Included in Commodity Cost684.42Freight Included in Commodity Cost17974.6561925.72760.11Freight Included in Commodity Cost10048.14453.719931.49See ASN-4419 (ID#:3851)597.43Freight Included in Commodity CostFreight Included in Commodity CostFreight Included in Commodity CostFreight Included in Commodity CostFreight Included in Commodity CostFreight Included in Commodity CostFreight Included in Commodity Cost633.735595.4413981.965714.3117928.535157.65963.734702.793906.29See ASN-737 (ID#:2765)2923.46Invoiced SeparatelyFreight Included in Commodity Cost28466.0622856.02Invoiced Separately1711.86Freight Included in Commodity CostFreight Included in Commodity CostSee ASN-1028 (ID#:2927)105005866.31See ASN-1231 (ID#:2947)Freight Included in Commodity CostFreight Included in Commodity CostFreight Included in Commodity Cost910.86Freight Included in Commodity Cost8690.266924.8315987.054014.574717.51Invoiced SeparatelyFreight Included in Commodity CostInvoiced SeparatelyFreight Included in Commodity CostSee ASN-2023 (ID#:3094)7526.067265.054393.323449.4Freight Included in Commodity Cost5412.145881.575551.972035.66See ASN-2336 (ID#:530)Freight Included in Commodity Cost3684.28Freight Included in Commodity Cost19569.48Freight Included in Commodity CostSee ASN-2448 (ID#:1939)3976.331225.17559.953171.36Freight Included in Commodity Cost46117.0944360.4444347.7123743.0116414.227078.9Freight Included in Commodity CostFreight Included in Commodity Cost4810.994856.143451.411097.78See ASN-3562 (ID#:960)1205.4381212620.12Freight Included in Commodity CostFreight Included in Commodity CostFreight Included in Commodity CostFreight Included in Commodity CostFreight Included in Commodity CostFreight Included in Commodity CostFreight Included in Commodity CostFreight Included in Commodity CostFreight Included in Commodity CostFreight Included in Commodity CostFreight Included in Commodity CostFreight Included in Commodity CostFreight Included in Commodity CostFreight Included in Commodity Cost1521.4Freight Included in Commodity CostFreight Included in Commodity CostFreight Included in Commodity CostFreight Included in Commodity CostFreight Included in Commodity CostFreight Included in Commodity Cost1119.99Freight Included in Commodity CostFreight Included in Commodity CostFreight Included in Commodity Cost19023.3617170.079471.522199.4317643.813310.89Freight Included in Commodity CostFreight Included in Commodity Cost133.25Freight Included in Commodity Cost515.32859.537286.16See ASN-57 (ID#:23)20257.08See ASN-61 (ID#:5260)569.522623.49See ASN-123 (ID#:2685)27923.2614982.1See ASN-276 (ID#:2686)See ASN-276 (ID#:2686)13453.12801.54713.58Invoiced SeparatelyFreight Included in Commodity Cost3114.085240.478576.81398.6Freight Included in Commodity CostInvoiced Separately2407961.73616.95Freight Included in Commodity CostFreight Included in Commodity CostFreight Included in Commodity CostFreight Included in Commodity Cost3120.929479.89See ASN-1230 (ID#:1530)897.52Freight Included in Commodity Cost1625.0816036.94Invoiced Separately6687.51Invoiced Separately2358.13587.631028.18Invoiced Separately3604193.881253.987915.98Freight Included in Commodity CostFreight Included in Commodity CostFreight Included in Commodity CostFreight Included in Commodity Cost5217.592864.441796.68Freight Included in Commodity CostInvoiced Separately10356.862519.897884.8Freight Included in Commodity CostFreight Included in Commodity CostFreight Included in Commodity CostFreight Included in Commodity Cost1372.85871.71Freight Included in Commodity Cost26574.615781.146609.024883.46633Freight Included in Commodity Cost4404.922229.322709.982771.841516.0544347.71Freight Included in Commodity CostFreight Included in Commodity Cost401521015.775243.53See ASN-2717 (ID#:791)3894.21See ASN-3313 (ID#:3456)23300.188101.5715619.220083.74Freight Included in Commodity CostFreight Included in Commodity Cost536.786862.01See ASN-3561 (ID#:2297)4323.9315022.74807.282246.81Freight Included in Commodity CostFreight Included in Commodity CostFreight Included in Commodity CostFreight Included in Commodity CostFreight Included in Commodity CostFreight Included in Commodity CostSee ASN-3635 (ID#:3745)Freight Included in Commodity CostSee ASN-3760 (ID#:5049)Freight Included in Commodity CostFreight Included in Commodity CostFreight Included in Commodity CostFreight Included in Commodity CostFreight Included in Commodity CostFreight Included in Commodity CostFreight Included in Commodity CostFreight Included in Commodity Cost1939.99Freight Included in Commodity CostFreight Included in Commodity CostSee ASN-4332 (ID#:1115)See ASN-4332 (ID#:1115)See ASN-4332 (ID#:1115)Freight Included in Commodity Cost3272.621686.2114515.44See ASN-4420 (ID#:1183)3321.0887.73Freight Included in Commodity CostSee ASN-4488 (ID#:1213)Freight Included in Commodity CostFreight Included in Commodity Cost1187.19Freight Included in Commodity Cost10657.1919044.324110.88See ASN-127 (ID#:3955)3181.2Freight Included in Commodity Cost6546.6914571.5See ASN-276 (ID#:2686)See ASN-273 (ID#:1283)Freight Included in Commodity Cost859.37Freight Included in Commodity CostFreight Included in Commodity Cost2794.345294.51581.186.43719.911928.936197Freight Included in Commodity Cost186.25See ASN-990 (ID#:1502)Freight Included in Commodity CostFreight Included in Commodity Cost10500105001521.113238.795137.76Freight Included in Commodity CostFreight Included in Commodity CostFreight Included in Commodity CostFreight Included in Commodity Cost18750.213535.557781.88Freight Included in Commodity Cost16291496.761401.49Freight Included in Commodity CostFreight Included in Commodity Cost2211.052729.91Freight Included in Commodity CostFreight Included in Commodity Cost2442.322442.32See ASN-2335 (ID#:5796)See ASN-2336 (ID#:530)7444.35Freight Included in Commodity CostFreight Included in Commodity CostFreight Included in Commodity CostFreight Included in Commodity CostFreight Included in Commodity Cost20134.4322370.6417331.6618087.8623071.26Freight Included in Commodity CostSee ASN-2274 (ID#:610)Freight Included in Commodity Cost180Invoiced Separately18180.65See ASN-2658 (ID#:4650)Freight Included in Commodity CostFreight Included in Commodity CostFreight Included in Commodity Cost8530.299698.2285.27See ASN-3312 (ID#:6081)20083.7423035.6923035.69Freight Included in Commodity CostFreight Included in Commodity CostFreight Included in Commodity CostSee ASN-3561 (ID#:2297)12815.428603.58See ASN-3628 (ID#:2399)1448.551953.6Freight Included in Commodity CostFreight Included in Commodity CostFreight Included in Commodity CostFreight Included in Commodity CostSee ASN-3635 (ID#:3745)Freight Included in Commodity CostFreight Included in Commodity CostFreight Included in Commodity CostFreight Included in Commodity CostFreight Included in Commodity CostFreight Included in Commodity CostFreight Included in Commodity CostFreight Included in Commodity CostFreight Included in Commodity CostFreight Included in Commodity CostFreight Included in Commodity CostFreight Included in Commodity Cost5733.61Freight Included in Commodity CostFreight Included in Commodity CostSee ASN-4420 (ID#:1183)See ASN-4511 (ID#:2571)390.81383.6516751.58868.317828.281275.12Freight Included in Commodity Cost2373.73Freight Included in Commodity Cost156.972487.58Freight Included in Commodity CostSee ASN-270 (ID#:5279)1262.91Freight Included in Commodity Cost749.964474.1511731.15378.62802.425469.91See ASN-781 (ID#:115)28837.2822691.75Freight Included in Commodity CostFreight Included in Commodity CostFreight Included in Commodity Cost35034.75Freight Included in Commodity Cost28336.18Freight Included in Commodity CostFreight Included in Commodity CostFreight Included in Commodity Cost523.121425.77Freight Included in Commodity Cost12768.47Invoiced Separately1136.372556.611550.95Invoiced SeparatelyFreight Included in Commodity Cost4408.293748.24641.06Invoiced Separately1225.175136.08See ASN-2277 (ID#:5793)See ASN-2335 (ID#:5796)See ASN-2336 (ID#:530)Freight Included in Commodity CostFreight Included in Commodity CostFreight Included in Commodity Cost1808.19Freight Included in Commodity Cost1754.04Freight Included in Commodity Cost2985.93See ASN-2809 (ID#:1955)See ASN-2792 (ID#:5936)658.6844347.71Freight Included in Commodity CostFreight Included in Commodity Cost24025.77924.4Freight Included in Commodity Cost526.05See ASN-3508 (ID#:3441)13093.277936.811153.43585.1222803.83146.63See ASN-3853 (ID#:4824)12937.162793.624443.97810.85See ASN-4381 (ID#:4949)6269.97853.87810.36806.552704.58Freight Included in Commodity CostFreight Included in Commodity CostFreight Included in Commodity CostFreight Included in Commodity CostFreight Included in Commodity CostFreight Included in Commodity CostFreight Included in Commodity CostFreight Included in Commodity CostFreight Included in Commodity CostFreight Included in Commodity CostFreight Included in Commodity CostFreight Included in Commodity CostFreight Included in Commodity CostFreight Included in Commodity CostFreight Included in Commodity CostFreight Included in Commodity CostFreight Included in Commodity CostFreight Included in Commodity CostFreight Included in Commodity CostFreight Included in Commodity CostFreight Included in Commodity CostFreight Included in Commodity CostSee ASN-4332 (ID#:1115)2094.0811559.651894.412486.153013.19See ASN-3984 (ID#:2499)17974.6911653.6471206148.295209.46See ASN-4419 (ID#:3851)1770.43808Freight Included in Commodity CostFreight Included in Commodity CostFreight Included in Commodity CostFreight Included in Commodity Cost10490.777079.252829.611215.847878.061020.6See ASN-127 (ID#:3955)See ASN-123 (ID#:2685)10879.22Freight Included in Commodity CostSee ASN-737 (ID#:2765)2947022663.181091.643850.43379.62536.089898.84360.83See ASN-1085 (ID#:9487)2127.2219088.861800.334829.61Invoiced SeparatelySee ASN-1329 (ID#:6896)Freight Included in Commodity CostFreight Included in Commodity CostFreight Included in Commodity CostFreight Included in Commodity CostInvoiced Separately15636.732437.45Freight Included in Commodity Cost1442.926267.381802.143740.04Freight Included in Commodity CostFreight Included in Commodity CostFreight Included in Commodity CostFreight Included in Commodity CostSee ASN-2017 (ID#:5701)2869.035893.082867.81Freight Included in Commodity Cost2652.33See ASN-2335 (ID#:5796)Freight Included in Commodity CostFreight Included in Commodity CostFreight Included in Commodity Cost399.18See ASN-2997 (ID#:5860)87692.851976.57See ASN-2106 (ID#:9841)Freight Included in Commodity CostSee ASN-2438 (ID#:1941)1516.051528.06See ASN-2515 (ID#:4635)44360.44Freight Included in Commodity CostFreight Included in Commodity CostSee ASN-2513 (ID#:3360)See ASN-2921 (ID#:719)See ASN-2403 (ID#:3386)See ASN-3313 (ID#:3456)Freight Included in Commodity Cost15288.756112.63Freight Included in Commodity Cost15045.56See ASN-3853 (ID#:4824)5926.53See ASN-3561 (ID#:2297)See ASN-3562 (ID#:960)25513.66Freight Included in Commodity Cost865.63100.669749.73Freight Included in Commodity CostFreight Included in Commodity CostFreight Included in Commodity CostFreight Included in Commodity CostFreight Included in Commodity CostFreight Included in Commodity CostFreight Included in Commodity CostFreight Included in Commodity CostFreight Included in Commodity CostSee ASN-3760 (ID#:5049)See ASN-3760 (ID#:5049)Freight Included in Commodity CostFreight Included in Commodity CostFreight Included in Commodity CostFreight Included in Commodity CostFreight Included in Commodity CostFreight Included in Commodity CostFreight Included in Commodity CostFreight Included in Commodity Cost8727.54Freight Included in Commodity CostFreight Included in Commodity CostFreight Included in Commodity Cost4185.2917662.9830697.9133235.445761.87238.565213.021060.43Freight Included in Commodity Cost2681.23Freight Included in Commodity CostFreight Included in Commodity CostFreight Included in Commodity CostFreight Included in Commodity Cost7513.711862.271218.91859.14See DN-13 (ID#:10535)1893.82292128041338.041428.674535See DN-27 (ID#:10544)37365245.984104.57364.32601316613736.0313094.694761.518892.48See DN-148 (ID#:10564)17327271283.241956.93977.55175879789.07192031351266.392731.581699688.847629.949869.551949.841465618941.31209916734602.466678880127624068.442938.2713873See DN-373 (ID#:10623)See DN-373 (ID#:10623)See DN-373 (ID#:10623)21721532.41162113267.310879.28518015220.1880042219.4438515.8See DN-445 (ID#:10640)182085780.21370.28364613356.6517008618118.6412130.93894.68771.342292.6223012977.284207.46141.251148130112569.925962.31794.221430.22519.71919.25014.6515210Invoiced Separately2750.894528.52882.8599417.422145.172810.582295612508.6511862.210231.8498.0835933.810451.254887.18785.88See DN-686 (ID#:10691)1381.75491.081759.4886.3515696.73056.963826.171910.61690.392944.215974.747525.691891.446308.62605.777363.735401.953671.923671.924060.551340.965637.8256631012.4323070.5813353.3410624.0440301.6510073.762938.923487.94See DN-909 (ID#:10727)34773671.923227.481188.976757.333680.3316901.373482.591522.92462.513353.343852.5514974.47321.0418617.9310990.364060.5422985.7293303874.22968.55Invoiced Separately2922.5315128.373599.7615128.371375.362393.34See DN-1237 (ID#:10767)Invoiced Separately2280.6417384.767789.882219.277329.831759.216111.211047.041854.882400.262448.713588.3413518.566087.843144.579797.4113518.5625874.1See DN-1458 (ID#:10795)1173.12217.59547.72298.612298.6Invoiced Separately939.08913.1523000.343660.44965.24710.68348.09348.0933572.7812740.42See DN-44 (ID#:10549)See DN-44 (ID#:10549)11609.3124571013.2424401363See DN-148 (ID#:10564)See DN-172 (ID#:10566)15161589See DN-196 (ID#:10573)2554.391012.591126.8437695.461324.611352764.621850350.784603473See DN-323 (ID#:10588)968913952.38See DN-304 (ID#:10589)See DN-304 (ID#:10589)891See DN-320 (ID#:10593)See DN-320 (ID#:10593)6056.76See DN-356 (ID#:10867)See DN-330 (ID#:10612)See DN-332 (ID#:10613)See DN-332 (ID#:10613)See DN-332 (ID#:10613)944.212650.3614182.5427171737See DN-349 (ID#:10885)34781157.5813721.28See DN-380 (ID#:10622)549.44See DN-373 (ID#:10623)See DN-373 (ID#:10623)See DN-373 (ID#:10623)See DN-376 (ID#:10628)1007.3425739.491616.04See DN-426 (ID#:10633)598.08163713715.5533932951.941448.2472.5639.755947.882511.67See DN-488 (ID#:10652)13317.22587.9See DN-628 (ID#:10654)See DN-628 (ID#:10654)172214199.35042559.28See DN-479 (ID#:10647)2724.27See DN-557 (ID#:10663)12643.6310654.944680.13787.32See DN-597 (ID#:10671)15252.7See DN-709 (ID#:10945)3594.6954.133562.4See DN-826 (ID#:10674)8787.285226.6See DN-743 (ID#:10683)11053.5335246.51890.762348.923335.1516430.726051.02See DN-686 (ID#:10691)11340.210314.289904.651054.52190.061917.53See DN-718 (ID#:10968)4551.5232146.52See DN-687 (ID#:10697)1608.7774.841772.422666.98See DN-813 (ID#:10979)9161.959043.6543041.343613.31772.0452979.7Invoiced Separately3629.3714931.84401.43210.188185.214336.9513586.135513.013817.12Freight Included in Commodity Cost64506.782408.91845.373409.9123866.2See DN-1100 (ID#:11005)See DN-1100 (ID#:11005)37040.861287.779021.82See DN-917 (ID#:10745)121330.068231.95See DN-944 (ID#:11012)21895.0113538.351096.71101348.7510460.945866.2915281.8122758.496443.61Freight Included in Commodity Cost11492.868669.38Invoiced Separately997.46Invoiced Separately35673.583366.985873See DN-1189 (ID#:10759)15128.371047.241180.71537.321152.633599.76See DN-1235 (ID#:10769)12798.0415922.677329.831012.181053.867329.8313293.417329.83See DN-1296 (ID#:10779)1000.5111032.424506.186811.39See DN-1373 (ID#:11062)See DN-1401 (ID#:10793)1112.313054.17302.489341.491234.91Invoiced SeparatelyInvoiced SeparatelyInvoiced Separately4897.421317.4Freight Included in Commodity Cost1380.4519480.97See DN-16 (ID#:10540)1448See DN-17 (ID#:10541)See DN-17 (ID#:10541)1619See DN-30 (ID#:11091)3684.6695.234251907.4118375.7See DN-122 (ID#:11100)30066433.282912.01See DN-44 (ID#:10549)947.05317919288.91Freight Included in Commodity Cost3256See DN-194 (ID#:11117)3501157425729.7See DN-146 (ID#:10834)See DN-190 (ID#:10570)411.078331.36See DN-209 (ID#:11136)41982094148938258791.843438.841676.91160718101.325834See DN-304 (ID#:10589)632.6See DN-362 (ID#:10600)63886.29See DN-366 (ID#:11161)25442See DN-332 (ID#:10613)See DN-327 (ID#:10883)See DN-395 (ID#:10887)164217549.8119590.04707.41161.133682.3410137.04See DN-605 (ID#:10636)919.668405.91See DN-435 (ID#:10908)3452See DN-440 (ID#:11200)4963See DN-445 (ID#:10640)13923499.1636.52Invoiced SeparatelySee DN-475 (ID#:10642)See DN-475 (ID#:10642)4522.033187.186346.2226877.3See DN-535 (ID#:10658)See DN-614 (ID#:11219)301671372.38See DN-556 (ID#:10662)3256930718856.33See DN-589 (ID#:10670)8008.6520578.231051.3See DN-826 (ID#:10674)798.598654.7See DN-800 (ID#:10953)See DN-800 (ID#:10953)See DN-744 (ID#:10684)133321280.9115307.626539.8See DN-686 (ID#:10691)Invoiced Separately5936.992963.86299.56See DN-667 (ID#:10967)3733.57See DN-698 (ID#:10970)See DN-687 (ID#:10697)2446.58See DN-730 (ID#:11260)3472.55See DN-690 (ID#:10706)939.122185.821476.81277.227053.511146.271062.52739.343704.81409.268504.72851.243238165See DN-897 (ID#:10722)30585.171648.642437.631793.11See DN-990 (ID#:11001)See DN-1052 (ID#:10737)6708.25See DN-1100 (ID#:11005)2151.271755See DN-944 (ID#:11012)See DN-1058 (ID#:11015)1883266.3891381012.431181.413680.335127.91418.751762.5Invoiced Separately15128.373133.2318638.8410823.521954.23See DN-1231 (ID#:11044)See DN-1232 (ID#:10766)Invoiced SeparatelySee DN-1235 (ID#:10769)Freight Included in Commodity CostSee DN-1250 (ID#:10774)See DN-1250 (ID#:10774)7329.8314958.27329.83See DN-1315 (ID#:10781)8502.122787.55See DN-1335 (ID#:11338)7445.87445.87445.87445.81854.88Freight Included in Commodity Cost7445.711799.881588.05See DN-1395 (ID#:11350)14958.29341.499341.494997.4775688.58Invoiced Separately275112205.4See DN-30 (ID#:11091)See DN-30 (ID#:11091)1200.12See DN-93 (ID#:10546)1931158313820.4516.84See DN-132 (ID#:11105)1250.72119311684.15See DN-100 (ID#:10823)See DN-100 (ID#:10823)31661619144815561See DN-182 (ID#:10562)505.172880.353908See DN-160 (ID#:11397)2805.51See DN-150 (ID#:11401)2129.46Freight Included in Commodity Cost16034613.67364.51286.76See DN-282 (ID#:11144)9343.181149.57See DN-220 (ID#:10585)See DN-240 (ID#:10847)1300.45740.436889See DN-298 (ID#:10863)5911.51998.51998.513116See DN-320 (ID#:10593)See DN-320 (ID#:10593)2839.2See DN-344 (ID#:11173)See DN-332 (ID#:10613)518113484.72See DN-373 (ID#:10623)1871.053094See DN-385 (ID#:11186)5145.86See DN-401 (ID#:11474)See DN-411 (ID#:10631)See DN-426 (ID#:10633)1566.1919832.4612349.51See DN-609 (ID#:11480)25563See DN-434 (ID#:11483)6785.11066610722.75See DN-444 (ID#:10639)See DN-451 (ID#:11205)See DN-475 (ID#:10642)See DN-475 (ID#:10642)33363.1612492870.41542.15See DN-535 (ID#:10658)13016035.44641.85See DN-421 (ID#:10919)See DN-623 (ID#:10925)1154.55531.4See DN-481 (ID#:10656)755.5See DN-479 (ID#:10647)1628.18204711339.5See DN-559 (ID#:10940)1888.4812894.855468.93See DN-692 (ID#:11233)19069.171934.31See DN-732 (ID#:10675)10098.2514637See DN-800 (ID#:10953)991.49See DN-663 (ID#:10960)See DN-836 (ID#:11244)5228.67See DN-480 (ID#:10693)1015.24See DN-718 (ID#:10968)6923.31225.426074.621472.77896.5512047.8See DN-690 (ID#:10706)6260.71See DN-813 (ID#:10979)See DN-823 (ID#:11271)4220.154152.561153.971774.329883.71659.48Invoiced Separately1465.71978.924060.555698.0121215.44984.4See DN-1008 (ID#:11570)See DN-1008 (ID#:11570)4401.42426.86269.7See DN-900 (ID#:11284)747.56338.092938.927534.18157.52989.45See DN-953 (ID#:11585)14732.366381.87See DN-948 (ID#:10994)See DN-968 (ID#:11289)4503See DN-969 (ID#:11593)14041.179001.03See DN-1034 (ID#:10732)See DN-850 (ID#:10733)7199.726381.872202.02See DN-1052 (ID#:10737)7876.448399.76See DN-1084 (ID#:11295)See DN-1052 (ID#:10737)See DN-1052 (ID#:10737)1764.936120.068924.98See DN-944 (ID#:11012)See DN-1059 (ID#:11016)2331.03See DN-986 (ID#:10748)29336.4614538.3611492.866443.616443.616443.61896.267363.73See DN-933 (ID#:10755)286.653515.96See DN-1205 (ID#:11314)See DN-1209 (ID#:10763)23441.881122.878288.78See DN-1231 (ID#:11044)See DN-1235 (ID#:10769)See DN-1235 (ID#:10769)7493.57329.837789.85See DN-1280 (ID#:10776)3338.35See DN-1287 (ID#:11055)See DN-1289 (ID#:11332)4329.01See DN-1315 (ID#:10781)11206.844506.22400.25423.897445.87445.87445.811332737.976811.39See DN-1382 (ID#:10788)8281.695233.52See DN-1387 (ID#:11674)2014.864999.486037.196575.716339.9811005.675678.79341.499341.491588.064764.16749.25See DN-1470 (ID#:10798)523.4533279.39See DN-1487 (ID#:11073)See DN-1488 (ID#:11074)4897.424702.02See DN-15 (ID#:10804)See DN-16 (ID#:10540)60129437.24596.4See DN-72 (ID#:11097)22081027977.643026See DN-71 (ID#:11374)944.678526.943205See DN-44 (ID#:10549)314214583155See DN-187 (ID#:10825)1848.37See DN-199 (ID#:11391)68341489.52See DN-141 (ID#:10571)952.045348See DN-269 (ID#:11738)21023267939.621105.932434407.2613889538.745234.8See DN-258 (ID#:11425)See DN-290 (ID#:10859)3901.78See DN-304 (ID#:10589)See DN-304 (ID#:10589)1786See DN-314 (ID#:11757)1645.1241772.09912.455663See DN-320 (ID#:10593)See DN-320 (ID#:10593)541.42See DN-324 (ID#:10610)13788.25See DN-379 (ID#:10890)See DN-384 (ID#:10901)See DN-384 (ID#:10901)13606.423907.052056.989008.48See DN-426 (ID#:10633)See DN-426 (ID#:10633)17358.74See DN-422 (ID#:10634)7364.52See DN-434 (ID#:11483)See DN-434 (ID#:11483)See DN-434 (ID#:11483)2523.612782372.8See DN-482 (ID#:11496)See DN-500 (ID#:11213)14554.58451260.1See DN-535 (ID#:10658)244488586See DN-488 (ID#:10652)See DN-489 (ID#:11516)36417.89See DN-535 (ID#:10658)See DN-569 (ID#:11224)8143.1917600.24172961469187.81902.9See DN-550 (ID#:11846)17975.21See DN-559 (ID#:10940)See DN-581 (ID#:10667)Invoiced SeparatelySee DN-604 (ID#:11527)See DN-604 (ID#:11527)See DN-685 (ID#:11234)2812.3See DN-823 (ID#:11271)1422.32See DN-737 (ID#:11533)22041110.56002.1911815.1245047.32See DN-761 (ID#:10951)4217.451214.2See DN-617 (ID#:11236)See DN-673 (ID#:10682)1606.93See DN-800 (ID#:10953)See DN-744 (ID#:10684)9906.63See DN-625 (ID#:10956)See DN-834 (ID#:10686)See DN-733 (ID#:10688)See DN-734 (ID#:10689)See DN-770 (ID#:10959)8381.221996.68See DN-797 (ID#:10966)2504.441765.4See DN-698 (ID#:10970)6195.24See DN-634 (ID#:10972)1746.31651.161730.41See DN-690 (ID#:10706)838.831988.97100.67See DN-946 (ID#:10983)See DN-1015 (ID#:11561)See DN-998 (ID#:11568)8762.02See DN-859 (ID#:11907)9185.151151.48See DN-1105 (ID#:11303)11898.8See DN-1004 (ID#:11280)13353.3411836.613629.373754.14See DN-909 (ID#:10727)5110.425029.05See DN-893 (ID#:11596)See DN-1034 (ID#:10732)77951297.576443.63See DN-917 (ID#:10745)See DN-917 (ID#:10745)See DN-917 (ID#:10745)See DN-944 (ID#:11012)See DN-944 (ID#:11012)1432.884099.5136855.6See DN-945 (ID#:11018)See DN-945 (ID#:11018)See DN-1060 (ID#:11618)18617.93See DN-960 (ID#:11945)See DN-960 (ID#:11945)11519.94See DN-1124 (ID#:11620)19495.7312868539.26See DN-988 (ID#:11022)11492.8622985.73Invoiced SeparatelyInvoiced SeparatelySee DN-933 (ID#:10755)See DN-1163 (ID#:11030)Invoiced Separately1328.031763.846759.55See DN-1193 (ID#:11312)2922.53See DN-1221 (ID#:11636)See DN-1231 (ID#:11044)9936.96See DN-1238 (ID#:11046)See DN-1238 (ID#:11046)1943.05See DN-1176 (ID#:11973)10069.54See DN-1244 (ID#:11048)See DN-1250 (ID#:10774)See DN-1261 (ID#:11647)12448.02See DN-1289 (ID#:11332)6111.2See DN-1303 (ID#:11661)1670.633017.152448.714506.187445.87445.8See DN-1373 (ID#:11062)6811.41799.88See DN-1386 (ID#:11673)See DN-1398 (ID#:11679)15250.996759.28See DN-1411 (ID#:11352)2590.35See DN-1422 (ID#:11682)See DN-1427 (ID#:11683)9341.494997.46See DN-1466 (ID#:11357)4311.22See DN-1487 (ID#:11073)667.17747.177573.926774.59See DN-16 (ID#:10540)See DN-16 (ID#:10540)7441.23See DN-72 (ID#:11097)See DN-121 (ID#:10814)3002See DN-46 (ID#:10550)See DN-100 (ID#:10823)316214702527See DN-74 (ID#:12045)2656See DN-209 (ID#:11136)See DN-209 (ID#:11136)2297439.17630.23See DN-148 (ID#:10564)See DN-148 (ID#:10564)See DN-172 (ID#:10566)See DN-172 (ID#:10566)1339.81130.49759.41See DN-209 (ID#:11136)See DN-247 (ID#:11139)794730412.534200.7811611604.96See DN-265 (ID#:10580)15477533See DN-304 (ID#:10589)See DN-304 (ID#:10589)See DN-304 (ID#:10589)See DN-304 (ID#:10589)See DN-304 (ID#:10589)See DN-304 (ID#:10589)See DN-304 (ID#:10589)7670.041886.39See DN-332 (ID#:10613)See DN-332 (ID#:10613)4436.76See DN-355 (ID#:11787)10698.63See DN-423 (ID#:11194)See DN-424 (ID#:10905)4807See DN-458 (ID#:11814)See DN-442 (ID#:11202)See DN-545 (ID#:11817)See DN-445 (ID#:10640)See DN-475 (ID#:10642)See DN-475 (ID#:10642)1100.415671.53See DN-495 (ID#:11824)892See DN-478 (ID#:10645)1318See DN-601 (ID#:10651)See DN-601 (ID#:10651)See DN-488 (ID#:10652)See DN-488 (ID#:10652)See DN-489 (ID#:11516)1671.843303.52See DN-614 (ID#:11219)1778.7See DN-445 (ID#:10640)3016.95261.86See DN-717 (ID#:11858)See DN-756 (ID#:11866)1651798.582722.3810288.1See DN-742 (ID#:11537)2347.91675See DN-833 (ID#:11243)See DN-834 (ID#:10686)3182.5237199.061157210575.63See DN-839 (ID#:10961)See DN-840 (ID#:12179)See DN-840 (ID#:12179)See DN-841 (ID#:11540)2350.532313.55See DN-682 (ID#:10963)See DN-682 (ID#:10963)See DN-682 (ID#:10963)15923.411286.7See DN-718 (ID#:10968)20395.6See DN-810 (ID#:11257)15007.8See DN-698 (ID#:10970)1220.73See DN-678 (ID#:12199)See DN-678 (ID#:12199)405.97See DN-729 (ID#:11895)See DN-703 (ID#:11263)See DN-650 (ID#:11897)6148.1Invoiced SeparatelySee DN-818 (ID#:11270)1608.72See DN-1015 (ID#:11561)23382.0421821.955048.32See DN-1143 (ID#:10711)See DN-964 (ID#:10987)1742.25See DN-1083 (ID#:12219)1020.98See DN-921 (ID#:11917)3540.3511584.54See DN-1034 (ID#:10732)See DN-1034 (ID#:10732)See DN-1044 (ID#:10996)813.753558.49Freight Included in Commodity Cost9009189.571169.95463.97Freight Included in Commodity Cost167.447363.74See DN-917 (ID#:10745)See DN-944 (ID#:11012)14036.311960.81See DN-846 (ID#:11939)15128.378252.73See DN-987 (ID#:12252)See DN-853 (ID#:11940)See DN-1060 (ID#:11618)14144.68See DN-960 (ID#:11945)See DN-960 (ID#:11945)See DN-958 (ID#:10750)3680.33See DN-1124 (ID#:11620)6443.6111492.86Freight Included in Commodity Cost1719.65See DN-933 (ID#:10755)See DN-1163 (ID#:11030)15128.371217.37See DN-1180 (ID#:11033)2698.04See DN-1215 (ID#:10764)15128.477584.12See DN-1221 (ID#:11636)526.41See DN-1228 (ID#:11638)See DN-1234 (ID#:11970)See DN-1234 (ID#:11970)See DN-1244 (ID#:11048)1012.18See DN-1263 (ID#:11053)Invoiced Separately7789.857329.8314569.147329.836759.28See DN-1332 (ID#:11663)7445.87445.81854.88See DN-1367 (ID#:11346)See DN-1374 (ID#:11999)1799.884257.01See DN-1397 (ID#:11678)38957.51See DN-1399 (ID#:12311)See DN-1401 (ID#:10793)6759.286759.28See DN-1411 (ID#:11352)See DN-1407 (ID#:11681)1713.012233.6113518.5630983.249341.491234.9See DN-1457 (ID#:11687)1489.4See DN-1486 (ID#:11072)See DN-1488 (ID#:11074)5097.09396.081366.221886.21See DN-27 (ID#:10544)See DN-70 (ID#:11095)478.51See DN-44 (ID#:10549)See DN-44 (ID#:10549)1225.372658Freight Included in Commodity CostFreight Included in Commodity CostSee DN-193 (ID#:11387)See DN-209 (ID#:11136)650.122520.47See DN-184 (ID#:12060)See DN-209 (ID#:11136)See DN-148 (ID#:10564)See DN-157 (ID#:11403)1432See DN-246 (ID#:11138)See DN-268 (ID#:12074)874.57See DN-270 (ID#:10843)See DN-282 (ID#:11144)3291See DN-260 (ID#:11426)12438See DN-290 (ID#:10859)See DN-304 (ID#:10589)See DN-304 (ID#:10589)See DN-314 (ID#:11757)3818.4See DN-319 (ID#:11765)2465See DN-366 (ID#:11161)7927.55723.59See DN-323 (ID#:10588)3085.84See DN-379 (ID#:10890)1320.08See DN-388 (ID#:11188)See DN-409 (ID#:10903)See DN-415 (ID#:12120)See DN-422 (ID#:10634)See DN-423 (ID#:11194)7836.6See DN-603 (ID#:11197)See DN-434 (ID#:11483)See DN-434 (ID#:11483)810.86See DN-435 (ID#:10908)4147.99736.51566.2132483.52440583323228220620222.4See DN-601 (ID#:10651)See DN-590 (ID#:11517)15245.254428.75See DN-569 (ID#:11224)See DN-571 (ID#:10660)See DN-572 (ID#:11840)See DN-445 (ID#:10640)See DN-551 (ID#:11523)4485.256778.918321.2912781.58933.09See DN-693 (ID#:12475)See DN-717 (ID#:11858)See DN-717 (ID#:11858)See DN-717 (ID#:11858)See DN-717 (ID#:11858)See DN-826 (ID#:10674)2705.711328.293302891.680239.66See DN-620 (ID#:12168)3316.9See DN-744 (ID#:10684)See DN-625 (ID#:10956)935.88831.92See DN-836 (ID#:11244)See DN-684 (ID#:11884)1850.7See DN-675 (ID#:11247)See DN-682 (ID#:10963)See DN-641 (ID#:10695)See DN-637 (ID#:12195)25991108.082196.183428.5See DN-632 (ID#:11547)See DN-644 (ID#:11894)1355.06See DN-760 (ID#:12207)See DN-690 (ID#:10706)400.75See DN-817 (ID#:10981)22965.4See DN-763 (ID#:10982)See DN-763 (ID#:10982)578.24See DN-1024 (ID#:10984)2765.64See DN-965 (ID#:11563)See DN-1017 (ID#:11564)3629.375110.76857.17See DN-1004 (ID#:11280)7463.744579.42See DN-993 (ID#:11919)157.510665.711240See DN-850 (ID#:10733)See DN-850 (ID#:10733)See DN-850 (ID#:10733)5574.061002.2966.37See DN-992 (ID#:11602)6315.37293.9See DN-1125 (ID#:11298)See DN-917 (ID#:10745)See DN-944 (ID#:11012)13538.35See DN-844 (ID#:12249)See DN-987 (ID#:12252)See DN-1060 (ID#:11618)See DN-1061 (ID#:11019)See DN-960 (ID#:11945)11180.32See DN-1120 (ID#:12556)11492.86Invoiced Separately2938.92See DN-1163 (ID#:11030)5432.9313853.2915990.3515128.371381.6416864.5815128.37See DN-1205 (ID#:11314)15128.37988.244881.0617096.24See DN-1221 (ID#:11636)See DN-1222 (ID#:11317)See DN-1234 (ID#:11970)See DN-1234 (ID#:11970)Invoiced Separately7329.832317.21848.591359.416702.262951.121660.0726714.632448.717445.87445.88281.69See DN-1300 (ID#:11669)1534.1See DN-1380 (ID#:12000)1588.056759.282233.61See DN-1432 (ID#:12320)2400.259341.492217.5See DN-1471 (ID#:12015)32104.31074.8Invoiced Separately955.362123.04Freight Included in Commodity Cost3807.29679.6See DN-89 (ID#:10813)18137.64574.561483.320896.5See DN-129 (ID#:10818)96661170.161004.61824.1126603166See DN-144 (ID#:12058)See DN-160 (ID#:11397)202991754147813884458See DN-246 (ID#:11138)661.062457See DN-268 (ID#:12074)1356See DN-242 (ID#:12077)33484465.1See DN-282 (ID#:11144)See DN-220 (ID#:10585)1439See DN-322 (ID#:10587)See DN-290 (ID#:10859)See DN-290 (ID#:10859)See DN-290 (ID#:10859)See DN-304 (ID#:10589)See DN-304 (ID#:10589)See DN-320 (ID#:10593)1106See DN-354 (ID#:10597)739See DN-323 (ID#:10588)See DN-332 (ID#:10613)See DN-332 (ID#:10613)4119.6See DN-349 (ID#:10885)13094.921732.74See DN-380 (ID#:10622)See DN-373 (ID#:10623)See DN-426 (ID#:10633)See DN-423 (ID#:11194)See DN-425 (ID#:11810)See DN-609 (ID#:11480)See DN-611 (ID#:12472)See DN-416 (ID#:12125)See DN-434 (ID#:11483)7194.3See DN-458 (ID#:11814)See DN-458 (ID#:11814)See DN-446 (ID#:11204)1603.44See DN-475 (ID#:10642)See DN-475 (ID#:10642)740.16133253147See DN-535 (ID#:10658)6483See DN-601 (ID#:10651)1617.52See DN-488 (ID#:10652)See DN-627 (ID#:10926)See DN-628 (ID#:10654)See DN-614 (ID#:11219)112733609.2See DN-581 (ID#:10667)1704.79See DN-589 (ID#:10670)See DN-709 (ID#:10945)17289See DN-717 (ID#:11858)1514.68See DN-737 (ID#:11533)See DN-748 (ID#:12484)See DN-748 (ID#:12484)See DN-761 (ID#:10951)2107.14See DN-828 (ID#:10678)24594.29See DN-744 (ID#:10684)179109711.2See DN-736 (ID#:12790)See DN-770 (ID#:10959)7805.33See DN-838 (ID#:10718)See DN-686 (ID#:10691)30610.2See DN-682 (ID#:10963)213.75See DN-698 (ID#:10970)See DN-698 (ID#:10970)1593.48See DN-697 (ID#:12202)1074.95740.349742See DN-773 (ID#:11267)See DN-774 (ID#:11268)1282.62938.922938.92See DN-1047 (ID#:12215)12501700.323022.74See DN-860 (ID#:12820)See DN-1008 (ID#:11570)1266.05See DN-888 (ID#:11910)1102.98See DN-1004 (ID#:11280)10581250See DN-912 (ID#:11577)Invoiced SeparatelySee DN-893 (ID#:11596)See DN-1034 (ID#:10732)See DN-1044 (ID#:10996)See DN-850 (ID#:10733)505See DN-907 (ID#:12839)4983.229995.55See DN-1098 (ID#:12242)See DN-1115 (ID#:11008)See DN-1147 (ID#:11610)See DN-1147 (ID#:11610)See DN-1115 (ID#:11008)See DN-1152 (ID#:11010)See DN-1152 (ID#:11010)6269.77641.1See DN-861 (ID#:11013)5367.09See DN-1060 (ID#:11618)See DN-1061 (ID#:11019)See DN-1062 (ID#:12256)See DN-960 (ID#:11945)4608.92Freight Included in Commodity CostSee DN-1124 (ID#:11620)11492.867608.72947.593616.67Invoiced SeparatelySee DN-1166 (ID#:12271)See DN-1168 (ID#:11031)10211.52See DN-1180 (ID#:11033)1547.941981.115128.37See DN-1235 (ID#:10769)See DN-1244 (ID#:11048)See DN-1244 (ID#:11048)2798.77329.837329.83See DN-1296 (ID#:10779)2342.922448.71See DN-1332 (ID#:11663)7445.86759.2811774.5See DN-1373 (ID#:11062)See DN-1374 (ID#:11999)6739.08See DN-1397 (ID#:11678)7338.54See DN-1407 (ID#:11681)See DN-1422 (ID#:11682)4031.3See DN-1427 (ID#:11683)9341.499341.499341.499341.499341.49See DN-1448 (ID#:12012)1799.88See DN-1473 (ID#:11358)See DN-1473 (ID#:11358)3842.226027.6810083.691869.4128709.52304.621434.98642.9912922.07836.8969.555616.0210923.46Freight Included in Commodity CostFreight Included in Commodity Cost2021.053138.25Freight Included in Commodity Cost25193.28Freight Included in Commodity CostInvoiced Separately5886.912858.12Freight Included in Commodity Cost3816.3791.434781.818919.5624875.46Freight Included in Commodity CostFreight Included in Commodity Cost7658.276523.858021.112504.64Freight Included in Commodity Cost1692.354504.46199Invoiced Separately4191.83844.3619286.532734.027117.391437.4583.66Invoiced SeparatelyInvoiced Separately25730.1363600.42516.57Freight Included in Commodity Cost865.6713257.2526516090.59Freight Included in Commodity Cost1090.873245.393708.7251331.093646.14316.344124.748163.832581.832800.9534778.32Freight Included in Commodity Cost3538.5720583.3733228.6821952.3520621.15864.56Freight Included in Commodity Cost5300.247152.99Invoiced Separately979.143868.245970.8510612.9341585.938263.161176.543216.15See ASN-12145 (ID#:13696)1162.5226014.88Freight Included in Commodity Cost8403.6710511.3325199.315810.56Freight Included in Commodity Cost2205.25Freight Included in Commodity CostFreight Included in Commodity CostFreight Included in Commodity Cost4232.7127236.25Freight Included in Commodity CostFreight Included in Commodity Cost28734.438768.767558.01Freight Included in Commodity Cost14603.712486.621742.1214650.417334.8320822.73Freight Included in Commodity Cost37680.0414959.842570.867308.377707.42Freight Included in Commodity Cost1028.15834.1435Freight Included in Commodity Cost4978.09Freight Included in Commodity Cost28595.45Freight Included in Commodity Cost47101.63Freight Included in Commodity Cost8969.973196.3138354.264263.0718207.5Freight Included in Commodity Cost1802949.23Freight Included in Commodity Cost11648.3115794.47Freight Included in Commodity Cost1222.31646.8120910.432190.784760.43Freight Included in Commodity Cost9275.5920526.2325485.814876.3120082.38Freight Included in Commodity Cost13489.96Freight Included in Commodity Cost7938.18Freight Included in Commodity Cost31434.312154.5115236.5227894.815433.21642.45See ASN-32231 (ID#:13648)17392.052082.39Invoiced SeparatelyFreight Included in Commodity Cost779.0616537.12Freight Included in Commodity CostInvoiced Separately28833.9132530.2214223.39Freight Included in Commodity Cost16438.261131.4811314.23429.7817581.924420.313658.08Freight Included in Commodity CostFreight Included in Commodity Cost7019.071312.216028.784134.922052.9712689.714461.72694.123616.6812749.392211.0414842.19334.65Invoiced SeparatelyFreight Included in Commodity CostInvoiced Separately81246.12Freight Included in Commodity Cost23650.4323397.414957.812350.55Freight Included in Commodity Cost6072.85145.691565.138452.7313343.235904.941238.16730.829759.5566260.333824.967784.9233029.82Invoiced Separately4288.83See ASN-6355 (ID#:16828)7665.38Freight Included in Commodity Cost5265.2217603.58828.768695.1815174.532527.9414402.9221384.7514959.834909.7220194.78Freight Included in Commodity Cost9013.856121.42See ASN-24721 (ID#:13708)23722.961870.73Freight Included in Commodity Cost18323.97Freight Included in Commodity CostFreight Included in Commodity Cost6020.53678.961428.138680.2711372.23Freight Included in Commodity Cost12974.121840.973248.6Freight Included in Commodity Cost13894.082419.3315891.9630257.974529.86Freight Included in Commodity Cost5314.56Freight Included in Commodity CostFreight Included in Commodity Cost26663.64Freight Included in Commodity Cost1881.2411372.23See ASN-32231 (ID#:13648)5298.03Freight Included in Commodity CostFreight Included in Commodity CostFreight Included in Commodity Cost4689.6594.51Freight Included in Commodity Cost12745.062348.57753.35467.268280.731800.481893.24See ASN-13410 (ID#:16901)Invoiced SeparatelySee ASN-26738 (ID#:15115)6438.911100.21472.031584.0911167.4513829.58Freight Included in Commodity Cost4673.7718256.13306.511117.7914493.817474.2Invoiced Separately7992.5688823014.35Freight Included in Commodity CostFreight Included in Commodity Cost5924.3316994.9617.79460.91013.192234.96Freight Included in Commodity Cost882.811791.4292092395.42See ASN-21751 (ID#:13968)16386.1213116.5717.72Freight Included in Commodity CostInvoiced Separately24728.57Freight Included in Commodity CostFreight Included in Commodity Cost4969.35See ASN-28279 (ID#:13547)4136.581134.513836.993918.37Freight Included in Commodity Cost737.11Freight Included in Commodity Cost1076.15541.88Freight Included in Commodity Cost1333.416777.2421351.183565.0828132.965924.8927361.873401.49Freight Included in Commodity Cost12022.1713562.36Invoiced Separately1079.3917022.1312225.76Freight Included in Commodity Cost10365.13Freight Included in Commodity Cost11057.251692.7See ASN-24394 (ID#:16053)10670.09Freight Included in Commodity Cost3688.7710898.12Freight Included in Commodity CostFreight Included in Commodity Cost17267.1413083.721256.433273.1411034.01Freight Included in Commodity CostFreight Included in Commodity Cost571.53Freight Included in Commodity Cost15681.99814.0413801.892084.521934.17See ASN-27324 (ID#:13842)13244.8642.0526266.344753701.66852.02Freight Included in Commodity Cost119474.0930885.267211.04See ASN-16124 (ID#:20321)11252.537208.11Freight Included in Commodity CostFreight Included in Commodity Cost9323.32782.9411463.462730.911950.7416876.25See ASN-32231 (ID#:13648)1317.8217579.56Freight Included in Commodity CostFreight Included in Commodity Cost1599.22Invoiced Separately7292.27Freight Included in Commodity Cost17912.610770.55Freight Included in Commodity Cost102761.99309.95Freight Included in Commodity Cost1067.024042.474329.08See ASN-14408 (ID#:16232)Freight Included in Commodity CostFreight Included in Commodity CostFreight Included in Commodity Cost9740.2736502.8Freight Included in Commodity Cost892.5Freight Included in Commodity Cost14384.9199746.8926266.341242.3310682.418538.034263.077428.381308.4Freight Included in Commodity Cost29878.2128238.31Freight Included in Commodity Cost37548.871257.169815.52127285.483524.93938.051122.07Freight Included in Commodity CostFreight Included in Commodity CostInvoiced Separately19610.111069.31Freight Included in Commodity Cost30764.18See ASN-32106 (ID#:19172)Freight Included in Commodity Cost2718.0331917.191682.15Freight Included in Commodity Cost19489.83Freight Included in Commodity Cost6368.029299.2628270.785639.42Freight Included in Commodity Cost4489.32See ASN-8019 (ID#:14694)3524.9522508.32Invoiced SeparatelySee ASN-13410 (ID#:16901)4802.9236166.79269.9813320.8Freight Included in Commodity Cost6390.83887.67Freight Included in Commodity Cost8033.133416.26247.82512.31Freight Included in Commodity Cost2231.97Freight Included in Commodity CostFreight Included in Commodity Cost9481.9226266.34See ASN-19819 (ID#:13739)Freight Included in Commodity Cost19759.683622.583669.8415331.499165.296418.119195.61Freight Included in Commodity Cost3796.95Freight Included in Commodity Cost6195.84Freight Included in Commodity Cost1765.037526.14Freight Included in Commodity CostFreight Included in Commodity Cost19517.1215331.514503.42Freight Included in Commodity CostFreight Included in Commodity Cost4573.212969.3435437.3818263.459323.34126.920121.1412463.7413949.95Freight Included in Commodity Cost12423.96Invoiced Separately2561.612322.087292.2612463.745906.4317036.9925709.525316.944662748.161626.67859.1811448.01Freight Included in Commodity Cost2453.164295.611471.46Invoiced Separately20706.211049.3Invoiced Separately59186.46Freight Included in Commodity CostInvoiced SeparatelyFreight Included in Commodity Cost31305.04718.3220684.731462.7111363.07703.252329.14Freight Included in Commodity Cost7339.84Freight Included in Commodity CostSee ASN-32106 (ID#:19172)5173.143981.9710477.63See ASN-24394 (ID#:16053)1082.89See ASN-25567 (ID#:21563)Freight Included in Commodity Cost9951.38See ASN-27545 (ID#:22160)Freight Included in Commodity Cost5886.91791.411600.98350.0223760.456773.132612.791014.5Freight Included in Commodity CostSee ASN-31323 (ID#:14240)3316.79Invoiced Separately7531.7817703.624011.66Freight Included in Commodity Cost783.22Freight Included in Commodity Cost26014.8848Freight Included in Commodity Cost10711.06Freight Included in Commodity Cost9648.44599.739650.6Freight Included in Commodity Cost1002.356786.64603.53Freight Included in Commodity Cost3126.61Freight Included in Commodity Cost436.86402894138.1125129.154312.92Freight Included in Commodity CostInvoiced Separately52057.826380.35See ASN-28279 (ID#:13547)36096.761158.73730.811979.1803.6Freight Included in Commodity Cost13330.731712.6Freight Included in Commodity Cost10446.3788264672.771791.4242028.45Freight Included in Commodity Cost5914Freight Included in Commodity Cost20134.6210648.454835.399718.8512791.342355.52106142199.1118369.56Freight Included in Commodity CostFreight Included in Commodity Cost449Freight Included in Commodity Cost6233.794976.336363.92See ASN-29097 (ID#:17900)Freight Included in Commodity Cost9193.822737.951659.7121384.751962.1Freight Included in Commodity CostFreight Included in Commodity CostSee ASN-19787 (ID#:13978)8128.9564075.1Freight Included in Commodity Cost3296.573212.2511984.917238.4650030.3710898.13729.03Freight Included in Commodity Cost19123.35Invoiced Separately751.43See ASN-28777 (ID#:22196)2483.49Freight Included in Commodity Cost9726.549168.488231.14752.581921.1430754.1Freight Included in Commodity CostFreight Included in Commodity CostFreight Included in Commodity Cost26084.1421683.2321555.1618423.9129603.24Freight Included in Commodity CostInvoiced SeparatelyFreight Included in Commodity Cost2115.211765.54Invoiced Separately548.2Freight Included in Commodity Cost5013710.653161.68See ASN-9407 (ID#:17697)4967.03Freight Included in Commodity CostFreight Included in Commodity Cost13983.9846213.44268.93Freight Included in Commodity Cost4444.331170.24625.813908.554035.455248.93See ASN-27809 (ID#:13106)3225.123314.0315873.449177.1912917.310626.812723.325018.69Invoiced Separately3467.7See ASN-30463 (ID#:15460)14934.2618141.6228734.431629.857539.52See ASN-24721 (ID#:13708)Freight Included in Commodity Cost2455.714890.6348501.5Freight Included in Commodity CostFreight Included in Commodity Cost15504.422187.0123030.384384.01Freight Included in Commodity Cost7258.89Invoiced Separately20480.64Freight Included in Commodity CostFreight Included in Commodity Cost2590.2429339.638858.67Freight Included in Commodity Cost21737.72428.661195.24365.48322.12Freight Included in Commodity CostFreight Included in Commodity Cost6105.794354.8710Invoiced SeparatelyFreight Included in Commodity Cost13179.8See ASN-19193 (ID#:14265)5613.63Freight Included in Commodity CostFreight Included in Commodity CostFreight Included in Commodity Cost3744.183646.13Freight Included in Commodity Cost578.73Freight Included in Commodity Cost6660.05Invoiced Separately2179.496161.42Freight Included in Commodity Cost2562.6800See ASN-18971 (ID#:16186)Freight Included in Commodity Cost4171.651881.2410790.63624.922808.1257484.063638.86422.84Freight Included in Commodity Cost9706.851026.4See ASN-20434 (ID#:13874)569.11See ASN-17075 (ID#:20697)1949.64Invoiced Separately35499.5812793.77616.197060.97Freight Included in Commodity CostSee ASN-26923 (ID#:13027)Freight Included in Commodity Cost749.361310.92Freight Included in Commodity Cost5112.92Freight Included in Commodity Cost5124.228806.76See ASN-28279 (ID#:13547)3484.4822271.36855.411193.151719.787024.8620553.858859.91Freight Included in Commodity Cost1860.69See ASN-32716 (ID#:22417)1404594.0718700.095024.15See ASN-17572 (ID#:19630)10816.49Freight Included in Commodity Cost25136.394281.43Invoiced SeparatelyFreight Included in Commodity CostFreight Included in Commodity Cost363.961097.08See ASN-13475 (ID#:15772)Freight Included in Commodity CostFreight Included in Commodity CostFreight Included in Commodity Cost20258.2910405.58Freight Included in Commodity Cost5460.4818826.6214110.84Freight Included in Commodity Cost18756.256969.827180.1614189.02Freight Included in Commodity Cost10334.23Freight Included in Commodity Cost1405.56Freight Included in Commodity Cost12643.4790677.0424428.55Freight Included in Commodity Cost10075.769452.02Freight Included in Commodity Cost31284.022818.79See ASN-21668 (ID#:17501)1220.847580.09Freight Included in Commodity Cost4835.171477.341716.4720258.2817657.0228514.49See ASN-27812 (ID#:25926)3087.6813740.741703.625017.187292.2710304.62Freight Included in Commodity CostFreight Included in Commodity Cost18669.96Freight Included in Commodity Cost7030.943145.8520188.132949.13891.28256.97Freight Included in Commodity CostFreight Included in Commodity Cost1148.655159.334139.9535569.751025.375953.38Freight Included in Commodity Cost2004.44525.568303.483026.243605215.491255.772480.22Freight Included in Commodity Cost13988723.46459.721140.7119261.02Freight Included in Commodity CostFreight Included in Commodity Cost1099.3919587.3429039.1844128.81See ASN-16470 (ID#:14279)6808.991113.011670.06Freight Included in Commodity CostFreight Included in Commodity Cost4885.332504.6521146.0436173.15Freight Included in Commodity CostInvoiced Separately1015.98See ASN-31750 (ID#:19272)10101.17Freight Included in Commodity Cost7727.856878.632971.3Freight Included in Commodity Cost3775.51941.3416337.0317266.5931401.36534.86Freight Included in Commodity CostSee ASN-19520 (ID#:18405)8823.415294.24Freight Included in Commodity Cost1458.88See ASN-8909 (ID#:19905)16036.9849502.92Freight Included in Commodity CostFreight Included in Commodity Cost16956.86876.99See ASN-27718 (ID#:24358)16337.03Freight Included in Commodity Cost3587.813024.366400.441497.5325593.8743304.68See ASN-20242 (ID#:29951)Freight Included in Commodity Cost6269.653252.2624069.996445.6817507.94Invoiced Separately877.612644.79Freight Included in Commodity Cost760.2235696.951215.46Freight Included in Commodity Cost94267.7760185.3330395.15Freight Included in Commodity Cost19502.0922650.588334.777444.134263.07Freight Included in Commodity CostFreight Included in Commodity Cost6318.92Freight Included in Commodity CostFreight Included in Commodity Cost16173.92387.6214398.691344.941768.154363.06Invoiced Separately4876.34421.24846.0362458.88559.89Freight Included in Commodity Cost13880.575726.24See ASN-24721 (ID#:13708)218.75See ASN-14757 (ID#:30618)6776.8See ASN-20649 (ID#:28306)Freight Included in Commodity CostInvoiced Separately9693.68Freight Included in Commodity Cost17969.34Invoiced SeparatelyFreight Included in Commodity CostFreight Included in Commodity Cost2478.87654.72Freight Included in Commodity CostFreight Included in Commodity Cost51243.6933008.05Freight Included in Commodity CostSee ASN-9477 (ID#:26879)65851.291575.13798.95See ASN-9486 (ID#:24187)321.94Freight Included in Commodity Cost6914.44209.37Freight Included in Commodity CostFreight Included in Commodity Cost4525.0511789.318036.883790.99751017068.843353.3Freight Included in Commodity Cost1123.1425682.65See ASN-26738 (ID#:15115)2093.322038.97See ASN-6341 (ID#:29298)354.5935593.04Invoiced Separately4784.19526.44Freight Included in Commodity Cost1593.67255885.49666.661697.92701.162906255.87Freight Included in Commodity Cost4304.3411986.596323.7636695.74Freight Included in Commodity CostSee ASN-5364 (ID#:16097)1009.66409.913446.07Freight Included in Commodity Cost5002.736455.3716429.121906.7Freight Included in Commodity Cost1243.983549.711186.24See ASN-11024 (ID#:15149)1467.824209.615159.3462196.13Freight Included in Commodity CostFreight Included in Commodity Cost16537.11See ASN-32231 (ID#:13648)Freight Included in Commodity CostFreight Included in Commodity Cost24035.49418.947008.1Freight Included in Commodity CostInvoiced SeparatelyFreight Included in Commodity Cost7514.752534.68Freight Included in Commodity Cost98763.023678.454142.0720534.4Freight Included in Commodity CostInvoiced Separately1726.751662.721719560.03Invoiced Separately297.25240Invoiced Separately2445.68Freight Included in Commodity Cost3821.494545.6418612.64See ASN-26928 (ID#:23156)20882.95851.62Freight Included in Commodity Cost2265.8830412.15Freight Included in Commodity Cost32683.4723273.76Freight Included in Commodity CostFreight Included in Commodity Cost5977.2Freight Included in Commodity Cost2336.461259.053548.81Freight Included in Commodity CostFreight Included in Commodity CostFreight Included in Commodity CostFreight Included in Commodity Cost41173.7712396.575583.1119569.9315041.23See ASN-29503 (ID#:13571)Freight Included in Commodity Cost26028620.227797.61329.991393.42939.382965.323446.682660.05Freight Included in Commodity Cost9024.04Invoiced SeparatelyFreight Included in Commodity CostSee ASN-11528 (ID#:29347)7300.682023.76Freight Included in Commodity Cost21346.47See ASN-7485 (ID#:30256)16002.97Freight Included in Commodity Cost11835.695714.74Freight Included in Commodity Cost9507.261587.92See ASN-26738 (ID#:15115)Invoiced Separately61035.9227714419.911555.211599.6711491.61910.932786.221573.41481.6338029.422864.6321084.84460.9113456.0531656.6110748.748851.4Freight Included in Commodity CostFreight Included in Commodity CostFreight Included in Commodity CostInvoiced SeparatelyFreight Included in Commodity CostFreight Included in Commodity Cost3977.24Freight Included in Commodity CostFreight Included in Commodity Cost3691.221340.233809.9429724927.19See ASN-4871 (ID#:14331)30132.3220602.3294.86Freight Included in Commodity Cost2911.161779.09See ASN-6355 (ID#:16828)Invoiced SeparatelyFreight Included in Commodity CostFreight Included in Commodity CostFreight Included in Commodity CostFreight Included in Commodity Cost11915.514514.061743.84See ASN-14125 (ID#:22658)See ASN-28777 (ID#:22196)4232.712177.5615120.6115994.7340583.636105.83900.53Freight Included in Commodity CostFreight Included in Commodity Cost25512.84Freight Included in Commodity Cost8678.7110743.33Freight Included in Commodity Cost16740.974449.177756.12916.22802.85461.51367.5956180.343646.131831.831571.765764.281626.1Freight Included in Commodity Cost6121.39Freight Included in Commodity CostSee ASN-24373 (ID#:16513)2859.58See ASN-15941 (ID#:30211)Freight Included in Commodity Cost6518.69Invoiced Separately1806.8119116.64Freight Included in Commodity Cost1305.28See ASN-32258 (ID#:29880)Freight Included in Commodity Cost2604.311101.91Freight Included in Commodity Cost2215.1333279.831347Freight Included in Commodity CostFreight Included in Commodity Cost14621.34355.74256.38Invoiced Separately12609.89Freight Included in Commodity Cost19328.28527.45See ASN-26559 (ID#:15240)9726.532542.174761.9See ASN-9407 (ID#:17697)26281.493900.39Freight Included in Commodity Cost2698.2814423.28Freight Included in Commodity Cost1338.19See ASN-30941 (ID#:32306)9914.591697.941Freight Included in Commodity CostFreight Included in Commodity Cost1136.316150.751276.53Freight Included in Commodity CostFreight Included in Commodity CostInvoiced Separately13543.63941.7459767.71Freight Included in Commodity CostSee ASN-17696 (ID#:31712)Freight Included in Commodity CostFreight Included in Commodity CostFreight Included in Commodity Cost5255.14Freight Included in Commodity Cost15519.779674.88990.044531.2928788.73Freight Included in Commodity CostFreight Included in Commodity CostFreight Included in Commodity CostInvoiced SeparatelyFreight Included in Commodity Cost37744.27See ASN-10816 (ID#:28664)915.093267.663787.72137.51773.7146850.66Freight Included in Commodity CostFreight Included in Commodity Cost1572.92Freight Included in Commodity CostFreight Included in Commodity Cost771.88Freight Included in Commodity CostSee ASN-31750 (ID#:19272)2183.9249573.62Freight Included in Commodity CostFreight Included in Commodity Cost1088.935417.87See ASN-9945 (ID#:28542)1646.53283.623360.7525189.51See ASN-32231 (ID#:13648)22837.9824927.19Freight Included in Commodity CostSee ASN-31750 (ID#:19272)11346.48Freight Included in Commodity CostFreight Included in Commodity CostSee ASN-23182 (ID#:16967)289653.25664.492702.635404.341661.015886.921730.4910784.6915593.136147.094498.9831318.31Freight Included in Commodity Cost1987.82Freight Included in Commodity Cost22100.467172.917858.6810925.469254.0624927.1940520.83Freight Included in Commodity Cost693.169141.1824410.674957.81Freight Included in Commodity Cost2251.942006.632251.42776.622158.886369.7935943.582918.1234730.62Freight Included in Commodity Cost10159.156969.97593.8Freight Included in Commodity CostInvoiced SeparatelySee ASN-18406 (ID#:14871)See ASN-16852 (ID#:25990)Invoiced SeparatelyFreight Included in Commodity Cost71720067.34Freight Included in Commodity Cost27262.44See ASN-27241 (ID#:23488)19839.2612336.453278.117073.569316.9126846.5913394.09283.212708.04Invoiced Separately8363.61Freight Included in Commodity Cost11770.87Freight Included in Commodity Cost25636.67Invoiced Separately2335.9Freight Included in Commodity Cost1167.9735753.932347.774803.06Freight Included in Commodity Cost379.656185.25Freight Included in Commodity Cost925.04See ASN-6341 (ID#:29298)14439.1734282.33889.5510719.64Freight Included in Commodity Cost13150.2118473.571487.767175.2713688.034784.1911208.38881.3325383.34Freight Included in Commodity CostSee ASN-31750 (ID#:19272)Invoiced Separately4204.67Freight Included in Commodity Cost11163.496654.24Freight Included in Commodity Cost6161.4721087.71059.597326.639656.19Freight Included in Commodity Cost16189.947898.154901.5121695.97980.714314.8322886.81Freight Included in Commodity CostSee ASN-26927 (ID#:26612)1731.893824.0635281.735161.5529845061.461921.02612.071488.99Freight Included in Commodity CostFreight Included in Commodity CostFreight Included in Commodity CostFreight Included in Commodity CostFreight Included in Commodity Cost2796.5830130.825678.36Invoiced Separately4462.61985.26See ASN-13412 (ID#:16085)Freight Included in Commodity CostInvoiced Separately910.73Freight Included in Commodity Cost2769.455656.7415687.32See ASN-27241 (ID#:23488)Freight Included in Commodity Cost2454.99Invoiced Separately37942.89659.58Freight Included in Commodity Cost1190.0212838.8515222.94447.73161962.325325.3See ASN-31321 (ID#:30363)11409.2924079.79Freight Included in Commodity Cost5221.886560.3431784.0915106.615766.83See ASN-28279 (ID#:13547)Freight Included in Commodity Cost4339.64Freight Included in Commodity Cost22041.418809.08Freight Included in Commodity CostFreight Included in Commodity Cost493.42Invoiced SeparatelySee ASN-17176 (ID#:20219)Freight Included in Commodity Cost790.7130648.28Freight Included in Commodity Cost17266.6Freight Included in Commodity CostSee ASN-14875 (ID#:35053)10883.65Freight Included in Commodity Cost453.313845.67938.065298.02Freight Included in Commodity Cost4756.062386.355953.37Freight Included in Commodity Cost118541.2640917.195586.53555.494219.32Freight Included in Commodity Cost1324.437414.66Invoiced SeparatelyFreight Included in Commodity Cost55886.4334670.933806.01See ASN-18919 (ID#:14578)2391.08Freight Included in Commodity CostFreight Included in Commodity Cost694.54See ASN-11024 (ID#:15149)See ASN-16123 (ID#:20371)Freight Included in Commodity Cost755.0315509.1625760.94Freight Included in Commodity Cost11203.791871.0715408.291032.121105.613084.26Freight Included in Commodity Cost20654.13See ASN-9195 (ID#:39724)16938.13Freight Included in Commodity CostFreight Included in Commodity CostFreight Included in Commodity Cost14307.97658.271681.581488.995626.769951.3712205.04Invoiced Separately12751.68Freight Included in Commodity CostInvoiced Separately241407.27See ASN-31129 (ID#:40205)12965.93Freight Included in Commodity CostInvoiced SeparatelyFreight Included in Commodity CostFreight Included in Commodity Cost12632.99See ASN-17806 (ID#:37475)See ASN-28279 (ID#:13547)7842.4Freight Included in Commodity CostFreight Included in Commodity CostFreight Included in Commodity Cost6369.79Invoiced SeparatelyFreight Included in Commodity CostSee ASN-32107 (ID#:16391)See ASN-6266 (ID#:15368)Freight Included in Commodity Cost6121.414400.852690.2Freight Included in Commodity Cost3843.259539.6Freight Included in Commodity Cost46552.33315.243847.96Freight Included in Commodity Cost26095.9921689.391637.8611163.277292.27Freight Included in Commodity Cost8217.84520.66Invoiced Separately14558.8713829.5714405.311262.36885.49See ASN-6489 (ID#:23365)See ASN-26923 (ID#:13027)Freight Included in Commodity Cost11954.71See ASN-24398 (ID#:18664)6488.441766.57See ASN-5132 (ID#:22186)8509.57853.07Freight Included in Commodity Cost2220.8611063.78Freight Included in Commodity Cost9014.833343.63See ASN-17077 (ID#:37031)7883.325178.47See ASN-21751 (ID#:13968)Freight Included in Commodity CostSee ASN-15571 (ID#:21091)See ASN-20218 (ID#:20450)See ASN-13412 (ID#:16085)1045.0427372.2411847.257704.7712678.52Freight Included in Commodity Cost3444.281475.95Freight Included in Commodity Cost14692.819193.57Freight Included in Commodity CostSee ASN-24398 (ID#:18664)592.461170.362689.85Freight Included in Commodity Cost14581.5186928.23See ASN-28279 (ID#:13547)Freight Included in Commodity Cost2473.961922.511234.118475.61See ASN-26738 (ID#:15115)17118.8Freight Included in Commodity CostFreight Included in Commodity Cost16633.3670509.14Freight Included in Commodity Cost976.44Freight Included in Commodity CostFreight Included in Commodity Cost586.16Freight Included in Commodity Cost27478.63Freight Included in Commodity Cost7775301.65Freight Included in Commodity Cost986.794219.3267915.7281.611286.684126.9Invoiced SeparatelyFreight Included in Commodity CostSee ASN-21698 (ID#:33964)Freight Included in Commodity CostFreight Included in Commodity Cost10879.44Freight Included in Commodity Cost11367.59Freight Included in Commodity Cost28895.07Freight Included in Commodity Cost1182.5Freight Included in Commodity CostFreight Included in Commodity Cost1965.62See ASN-13475 (ID#:15772)25380.888527.46Freight Included in Commodity CostFreight Included in Commodity Cost439.1716661.3443237.33Freight Included in Commodity CostSee ASN-31750 (ID#:19272)10455.35Invoiced Separately15006.27See ASN-32258 (ID#:29880)304.7634137.03Invoiced Separately13850.652093.327894.7612035.4731090.27Freight Included in Commodity CostInvoiced SeparatelyFreight Included in Commodity CostFreight Included in Commodity Cost6158Freight Included in Commodity Cost13325.593759.22677.41791.42Freight Included in Commodity CostFreight Included in Commodity CostFreight Included in Commodity CostFreight Included in Commodity CostFreight Included in Commodity CostFreight Included in Commodity CostInvoiced Separately3657.69See ASN-19143 (ID#:26345)8227.991743.35Freight Included in Commodity Cost2997.85Freight Included in Commodity CostFreight Included in Commodity Cost10780.631032.57Freight Included in Commodity Cost5192.741694.3Freight Included in Commodity CostSee ASN-29183 (ID#:31368)1666.35Freight Included in Commodity CostFreight Included in Commodity CostFreight Included in Commodity CostFreight Included in Commodity Cost4410.73Freight Included in Commodity Cost9726.53Freight Included in Commodity Cost870.22Freight Included in Commodity Cost3251.352865.63See ASN-31132 (ID#:36641)Freight Included in Commodity Cost1789.85See ASN-24721 (ID#:13708)Freight Included in Commodity Cost1615.07Freight Included in Commodity Cost3256.766599.86See ASN-31765 (ID#:41640)Freight Included in Commodity Cost836.141573.4129244.02823.945765.113010.89Freight Included in Commodity CostSee ASN-11005 (ID#:27881)406.68Freight Included in Commodity Cost6369.83088.04Invoiced Separately82095.851001.476881.6524596.33698Freight Included in Commodity Cost1842.23Freight Included in Commodity Cost46638.41Freight Included in Commodity Cost18232.173743.84Invoiced Separately77194683.0222859.071274.35Freight Included in Commodity CostFreight Included in Commodity CostSee ASN-32231 (ID#:13648)23237.62Freight Included in Commodity Cost2986.16359.531488.9927254.17Freight Included in Commodity CostSee ASN-18664 (ID#:19406)7681.19Freight Included in Commodity CostFreight Included in Commodity Cost221.964890.384116.8213241.081539.55Freight Included in Commodity Cost2951.78Freight Included in Commodity CostFreight Included in Commodity Cost37518638.442181.917208See ASN-17673 (ID#:36978)1001.0210546.6819775.555408.9351732.625850.252048.912531.3947.3519026.726105.79840.172171.5726532.855375.13Freight Included in Commodity CostFreight Included in Commodity CostFreight Included in Commodity Cost21886.492077.87See ASN-31129 (ID#:40205)Freight Included in Commodity Cost1201.7215089.111344.94See ASN-18805 (ID#:18997)40289Freight Included in Commodity Cost4762.44See ASN-16560 (ID#:29734)See ASN-26283 (ID#:46875)19598.71Invoiced Separately7296.975372.871025.69Freight Included in Commodity Cost13491.19Freight Included in Commodity Cost767.63See ASN-15554 (ID#:33116)5506.0117819.74Freight Included in Commodity CostFreight Included in Commodity CostInvoiced Separately2365.053646.13325.67See ASN-32231 (ID#:13648)Freight Included in Commodity CostFreight Included in Commodity CostFreight Included in Commodity Cost958.85Freight Included in Commodity CostSee ASN-5131 (ID#:25886)2147.1110296.993054.136923.2827.88Freight Included in Commodity Cost6937.66581.733791.818764.53Freight Included in Commodity CostSee ASN-18408 (ID#:21705)5528.416664.29Invoiced Separately15200.59See ASN-19143 (ID#:26345)3283.59See ASN-31750 (ID#:19272)Freight Included in Commodity Cost7388.1425382.52See ASN-9408 (ID#:39263)722.351923.14Freight Included in Commodity Cost13215.1510821.66Freight Included in Commodity CostInvoiced Separately57933.93Freight Included in Commodity Cost19007.7276113677.6823736.39820.5618841.09See ASN-22040 (ID#:45178)22223.94Freight Included in Commodity CostSee ASN-33152 (ID#:38571)3387.72Invoiced Separately877.52Freight Included in Commodity Cost812.845754.166499.25Freight Included in Commodity Cost3740.011791.42See ASN-16472 (ID#:20383)Freight Included in Commodity Cost8664.8959711.34Invoiced SeparatelyInvoiced SeparatelyFreight Included in Commodity Cost23013.2Freight Included in Commodity Cost2154.521152.9Freight Included in Commodity Cost916.22Freight Included in Commodity CostFreight Included in Commodity Cost33981.11See ASN-24721 (ID#:13708)6717.7921584.0223226.688560.1920602.3Freight Included in Commodity Cost7312.6942.642569.33Invoiced Separately5610.177175.2816769.432160.52Freight Included in Commodity Cost787.281060.22Freight Included in Commodity CostSee ASN-19428 (ID#:12981)Freight Included in Commodity Cost17975.84Freight Included in Commodity Cost12796.594669.0215353.452788.0716337.0420464.55Freight Included in Commodity CostSee ASN-27809 (ID#:13106)433Freight Included in Commodity CostFreight Included in Commodity Cost1191.93146734.85Freight Included in Commodity CostFreight Included in Commodity CostSee ASN-22706 (ID#:46447)Freight Included in Commodity CostSee ASN-31765 (ID#:41640)17919.41See ASN-19142 (ID#:22600)Freight Included in Commodity CostSee ASN-31750 (ID#:19272)Freight Included in Commodity Cost20572.96See ASN-20331 (ID#:34113)1046.02Freight Included in Commodity CostFreight Included in Commodity Cost10748.815020.211069.31Invoiced SeparatelyFreight Included in Commodity CostFreight Included in Commodity CostFreight Included in Commodity CostFreight Included in Commodity CostSee ASN-28279 (ID#:13547)7488.39See ASN-31132 (ID#:36641)See ASN-6266 (ID#:15368)13959.222543.6741158.49Freight Included in Commodity Cost1021.347378.6343338.9317214.74Freight Included in Commodity CostSee ASN-13952 (ID#:16173)Freight Included in Commodity Cost280.23Freight Included in Commodity Cost17758.82Freight Included in Commodity Cost24400.672228.92See ASN-6250 (ID#:17228)Freight Included in Commodity CostFreight Included in Commodity Cost33525.9615873.33Freight Included in Commodity Cost3496.34575.1719518.982572.919972.68See ASN-18919 (ID#:14578)28620.81See ASN-27659 (ID#:16881)4168.1917075.4311865.6223178.68Invoiced SeparatelySee ASN-30463 (ID#:15460)19328.36Freight Included in Commodity Cost304.63Freight Included in Commodity CostSee ASN-29409 (ID#:20185)28759.536522.645180.86Freight Included in Commodity CostFreight Included in Commodity CostSee ASN-9568 (ID#:29427)10351.26See ASN-9118 (ID#:42125)5362.3939662.7221821.9754424.24Freight Included in Commodity Cost1593.6726859.3925577.15See ASN-19098 (ID#:21556)3456.02Freight Included in Commodity Cost7655.99Freight Included in Commodity CostFreight Included in Commodity Cost32667.0911051.22Freight Included in Commodity CostSee ASN-16107 (ID#:32594)See ASN-22818 (ID#:39794)659.27Freight Included in Commodity CostInvoiced SeparatelySee ASN-14092 (ID#:39053)Freight Included in Commodity CostFreight Included in Commodity Cost5642.36Freight Included in Commodity CostSee ASN-28279 (ID#:13547)6369.79Invoiced SeparatelyFreight Included in Commodity CostInvoiced SeparatelySee ASN-14321 (ID#:18629)1472.4115123.48Freight Included in Commodity Cost5324.0818114.34Freight Included in Commodity CostInvoiced Separately2274.64Freight Included in Commodity CostFreight Included in Commodity Cost5567.7525577.2Freight Included in Commodity Cost4379.4826930.797354.24Freight Included in Commodity Cost14760.611941.942933.2531923.61Freight Included in Commodity Cost3073.7417074.8Freight Included in Commodity Cost26380.35Freight Included in Commodity Cost1075.54Freight Included in Commodity Cost7878.43393.293978.494259.57See ASN-11362 (ID#:47253)1375.8See ASN-19787 (ID#:13978)7845.091042.3624636.233755.917153.63Freight Included in Commodity Cost8144.11See ASN-26738 (ID#:15115)3035.8728304.8519112.91Freight Included in Commodity CostFreight Included in Commodity Cost1206.62See ASN-27943 (ID#:13904)2964.492319.8648.952214.691454.81Freight Included in Commodity Cost2553.0637297.95990.07See ASN-14517 (ID#:44737)Freight Included in Commodity Cost1595.3822734.921327.61258051294.878776.57Freight Included in Commodity Cost21672.24Freight Included in Commodity CostFreight Included in Commodity Cost17541.062016.427567.9926980.59Freight Included in Commodity Cost1664.124822.0114515.01See ASN-19819 (ID#:13739)1411.5223489.63Freight Included in Commodity Cost125.42Freight Included in Commodity Cost77833.242242.319162.215346.383161.683825.2125818.23Freight Included in Commodity Cost22223.959612.4921084.84794.72See ASN-19819 (ID#:13739)146.5250Freight Included in Commodity Cost21684.995848.399021.5Freight Included in Commodity Cost7651.46Freight Included in Commodity Cost1328.1325052.445806.53Freight Included in Commodity Cost11729.82See ASN-31750 (ID#:19272)Invoiced SeparatelyFreight Included in Commodity CostFreight Included in Commodity CostInvoiced SeparatelyFreight Included in Commodity CostSee ASN-22749 (ID#:45723)25732.1754417.75970.795795.92Freight Included in Commodity Cost5134.126105.79954.38541.7520371.77Freight Included in Commodity Cost12474.062492.47See ASN-10811 (ID#:17259)5631.8724821.13630.5558.46Freight Included in Commodity Cost12950.74Freight Included in Commodity Cost3646.13See ASN-14125 (ID#:22658)13303.36Invoiced Separately13789.732631.39Freight Included in Commodity CostFreight Included in Commodity Cost2502.051192.256369.794851Freight Included in Commodity Cost3095.282384.791003.184116.8191.6739069.63See ASN-20555 (ID#:25809)Freight Included in Commodity Cost7549.41Freight Included in Commodity Cost9334.68Invoiced Separately36060Freight Included in Commodity Cost119695.66678.8324927.19Freight Included in Commodity Cost1120.57Freight Included in Commodity CostFreight Included in Commodity CostInvoiced SeparatelyFreight Included in Commodity Cost13753.58Invoiced Separately3940.542162.26Freight Included in Commodity Cost20312.64See ASN-17430 (ID#:24384)1315.1420869.6Freight Included in Commodity Cost618.89143.5720705.23Freight Included in Commodity Cost20193.21Invoiced SeparatelyFreight Included in Commodity CostSee ASN-31129 (ID#:40205)See ASN-5853 (ID#:24427)Freight Included in Commodity Cost1084.271938.1532272Freight Included in Commodity Cost4263.08See ASN-14517 (ID#:44737)5159.333896.68See ASN-33143 (ID#:42190)4263.076105.793785.842160.361729.9530490.2324308.251437.623961.7Freight Included in Commodity CostSee ASN-29768 (ID#:13555)22158.58950.05See ASN-33266 (ID#:44615)3453.53Freight Included in Commodity CostFreight Included in Commodity Cost20294.8517918.72Freight Included in Commodity Cost16847.521133.171442.83Freight Included in Commodity CostInvoiced Separately19026.7213383.47Freight Included in Commodity Cost2794.21See ASN-31321 (ID#:30363)Freight Included in Commodity Cost37130.88Freight Included in Commodity Cost18875.8323269.06See ASN-28248 (ID#:48994)Freight Included in Commodity Cost63818.031434.5Freight Included in Commodity Cost24936.540091.65See ASN-27933 (ID#:22761)Freight Included in Commodity Cost4885.21See ASN-15571 (ID#:21091)1510.051045.5See ASN-27328 (ID#:27829)Freight Included in Commodity Cost7651.56Freight Included in Commodity CostFreight Included in Commodity Cost29918.5822746.6224147.39783.21Freight Included in Commodity Cost4500.7123408.337015.047168.627261.69Freight Included in Commodity Cost5489.553649.67See ASN-18910 (ID#:50309)See ASN-16123 (ID#:20371)See ASN-32265 (ID#:56716)3029.1816654.292204.84Freight Included in Commodity CostFreight Included in Commodity Cost25577.21961.6516382.89Freight Included in Commodity Cost2242.71Freight Included in Commodity CostFreight Included in Commodity Cost1003.187487.81Freight Included in Commodity CostSee ASN-24394 (ID#:16053)33872.8421170.3See ASN-24432 (ID#:40680)66059.652335.73379012499.27See ASN-6266 (ID#:15368)Freight Included in Commodity Cost36219.03Freight Included in Commodity Cost7292.26Freight Included in Commodity Cost549.16Freight Included in Commodity Cost12793.9448653.36Invoiced Separately1377.021475.94830.059597.9Freight Included in Commodity Cost7321.43See ASN-20218 (ID#:20450)2556.61See ASN-32776 (ID#:40935)18550.9312323.939054.081209.564350.03584.11845.943408.71887.58Freight Included in Commodity CostSee ASN-31820 (ID#:16098)Freight Included in Commodity CostSee ASN-32270 (ID#:35968)See ASN-26927 (ID#:26612)See ASN-32262 (ID#:41943)11737.26Freight Included in Commodity CostFreight Included in Commodity Cost1249.78Freight Included in Commodity CostFreight Included in Commodity Cost570.75Freight Included in Commodity CostFreight Included in Commodity Cost16061.5Freight Included in Commodity CostSee ASN-18919 (ID#:14578)5187.9Freight Included in Commodity CostSee ASN-14517 (ID#:44737)5101.218169.722872.42Freight Included in Commodity Cost17278.9619458.844872.6512619.38See ASN-15985 (ID#:30320)See ASN-4872 (ID#:13652)5074.331908.34871.285257.725678.33871.317773.94Freight Included in Commodity Cost28703.53Freight Included in Commodity CostFreight Included in Commodity CostFreight Included in Commodity Cost65875.32Freight Included in Commodity Cost3958.28See ASN-17750 (ID#:36539)Freight Included in Commodity CostSee ASN-14319 (ID#:19512)5440.0111203.81644.021011.6See ASN-26738 (ID#:15115)Freight Included in Commodity Cost251.52Freight Included in Commodity CostInvoiced SeparatelySee ASN-16730 (ID#:27586)Freight Included in Commodity CostSee ASN-11024 (ID#:15149)Freight Included in Commodity Cost5150.82Freight Included in Commodity Cost1003.65Freight Included in Commodity CostFreight Included in Commodity CostFreight Included in Commodity Cost25272.81818.56766.62See ASN-28279 (ID#:13547)17060.14See ASN-27525 (ID#:38099)Freight Included in Commodity Cost20519.0712225.765215.078308.741769.68See ASN-26454 (ID#:15994)Freight Included in Commodity Cost10867.28Freight Included in Commodity Cost1697.892908.8852462.8118779.99See ASN-26923 (ID#:13027)Freight Included in Commodity Cost1332.29Freight Included in Commodity Cost23796.98Freight Included in Commodity CostFreight Included in Commodity CostFreight Included in Commodity CostFreight Included in Commodity CostFreight Included in Commodity CostSee ASN-15795 (ID#:16725)Freight Included in Commodity Cost3961.691421.863133.86Freight Included in Commodity Cost25037.09See ASN-11023 (ID#:37963)Freight Included in Commodity CostSee ASN-15987 (ID#:42394)2530.734476.29Freight Included in Commodity Cost32208.32Freight Included in Commodity CostFreight Included in Commodity Cost2503.07Freight Included in Commodity Cost2883.5145118.64Freight Included in Commodity Cost10657.3313677.6716066.92304.63Freight Included in Commodity Cost11109.1884791.11807.36Freight Included in Commodity Cost26515.216757.18693.545298.03Invoiced Separately1659.21See ASN-23448 (ID#:58372)Freight Included in Commodity CostInvoiced SeparatelySee ASN-31750 (ID#:19272)See ASN-22040 (ID#:45178)732.47Freight Included in Commodity CostFreight Included in Commodity Cost22523.12Freight Included in Commodity Cost14532.091945.458809.0819745.22315.44Freight Included in Commodity CostSee ASN-13475 (ID#:15772)4236.819253.449182.45See ASN-10127 (ID#:17949)708.2290Freight Included in Commodity Cost2383.6514682.98See ASN-14125 (ID#:22658)Freight Included in Commodity Cost14493.3Freight Included in Commodity Cost8738.06Freight Included in Commodity Cost980.73283.595322.35Freight Included in Commodity Cost923.18Freight Included in Commodity Cost23372.431312.7510898.12Freight Included in Commodity CostSee ASN-9370 (ID#:48500)31521.6521084.8415670.6Freight Included in Commodity Cost16210.31Invoiced Separately4540.553646.13Freight Included in Commodity Cost86Invoiced SeparatelyFreight Included in Commodity Cost1428.2315213.22See ASN-26738 (ID#:15115)650.8111293.85152368.716574.554092.2112711.931579.8914439.192461.63Freight Included in Commodity Cost6121.4131382.0314019.38593.72Freight Included in Commodity CostSee ASN-7487 (ID#:48120)Freight Included in Commodity Cost6072.82508.46See ASN-29376 (ID#:13766)11566.5527952.72Freight Included in Commodity Cost7814.59Freight Included in Commodity CostInvoiced Separately3489.46483.684116.81See ASN-19649 (ID#:15382)See ASN-21751 (ID#:13968)30711.925293.7616397.94810.964559.25See ASN-32231 (ID#:13648)See ASN-32265 (ID#:56716)5385.375159.33See ASN-11129 (ID#:32064)See ASN-30463 (ID#:15460)732.72See ASN-14875 (ID#:35053)2093.3120555.45781.5Freight Included in Commodity CostSee ASN-19819 (ID#:13739)Freight Included in Commodity CostFreight Included in Commodity CostInvoiced Separately19196.73See ASN-30942 (ID#:19840)Freight Included in Commodity Cost62466.0330778.293603.93Freight Included in Commodity Cost1317.011400.9113790.1Freight Included in Commodity CostFreight Included in Commodity Cost1127.9522892.071226.11Freight Included in Commodity Cost23167.841406.755248.474022.89Freight Included in Commodity Cost2462424172.01330Freight Included in Commodity CostFreight Included in Commodity Cost3809.94See ASN-18768 (ID#:62403)See ASN-31323 (ID#:14240)958.852265.8910283.251726.5Freight Included in Commodity Cost10748.78Freight Included in Commodity Cost6020.81Invoiced SeparatelyFreight Included in Commodity Cost1254.612905.842191.21Invoiced SeparatelySee ASN-5132 (ID#:22186)9272.181619.3Freight Included in Commodity CostSee ASN-17672 (ID#:15352)See ASN-6252 (ID#:36969)Freight Included in Commodity Cost19891.23584.0840227.6See ASN-24507 (ID#:53327)See ASN-16472 (ID#:20383)3997.311060.35Freight Included in Commodity Cost2742.8322067.21See ASN-7510 (ID#:35983)46044.38379.77650.9710500.29Freight Included in Commodity Cost7326.63Freight Included in Commodity Cost281.9440716.167727.12514.5227376.2950445.73Freight Included in Commodity CostFreight Included in Commodity CostSee ASN-19859 (ID#:59267)971.831306.65See ASN-18558 (ID#:27015)41141.5See ASN-22955 (ID#:19019)1353.35See ASN-26738 (ID#:15115)1441.21Freight Included in Commodity Cost41300.114604.8329022317.2525285.11798.4313383.4752239.497609.717278.964837.3823708.813899.332033.62Freight Included in Commodity CostSee ASN-17075 (ID#:20697)1128.742429.39See ASN-20472 (ID#:38266)846.695180.343135.9710446.368542.9450550.5811216.7830726.22277.462102.07See ASN-33269 (ID#:25323)2863.47See ASN-18919 (ID#:14578)20602.315537.0430726.22See ASN-29141 (ID#:63419)5755.58See ASN-5953 (ID#:39606)Freight Included in Commodity Cost6164.127686.291076.1511368.84Freight Included in Commodity CostSee ASN-30940 (ID#:51233)Freight Included in Commodity CostSee ASN-32231 (ID#:13648)4881.421180.7313765.8123097.8123826.259061.8420416.039689.811026.153428.3740965.771393.29Freight Included in Commodity Cost6806.86See ASN-20003 (ID#:38247)160.52See ASN-31338 (ID#:38992)1302905718.392549.5211732.9See ASN-26736 (ID#:64603)9205.051414.69Freight Included in Commodity Cost24927.19See ASN-26738 (ID#:15115)3315.824659.751412.961637.1See ASN-22712 (ID#:47413)2682.48See ASN-33146 (ID#:44860)Freight Included in Commodity Cost2418.6220705.236194.69See ASN-31449 (ID#:41304)2039.73926.135110.281681.44See ASN-28279 (ID#:13547)Freight Included in Commodity CostSee ASN-11929 (ID#:61871)See ASN-18662 (ID#:38299)3163.8717806.3425501.178813.53572.5545028669.23See ASN-30941 (ID#:32306)34441.93Freight Included in Commodity Cost911.3214829.77Freight Included in Commodity Cost33442.63971.79582.53Freight Included in Commodity CostSee ASN-9567 (ID#:15946)Freight Included in Commodity Cost9299.2627038.58Freight Included in Commodity Cost13325.65946.77Freight Included in Commodity Cost13222.33404.784228.61Freight Included in Commodity Cost9951.3820906.77Freight Included in Commodity Cost9169.63See ASN-6341 (ID#:29298)402.42See ASN-17088 (ID#:18269)16416.58Freight Included in Commodity Cost529.4Freight Included in Commodity Cost2906.319716.76296.52Freight Included in Commodity Cost46002.44See ASN-15514 (ID#:57392)4877.3411534.482278.11See ASN-24398 (ID#:18664)19625.64Freight Included in Commodity CostFreight Included in Commodity Cost3060.82Freight Included in Commodity CostFreight Included in Commodity Cost8494.45742.14399.654876.34Invoiced Separately3755.9111663.1620394.49Freight Included in Commodity CostFreight Included in Commodity CostSee ASN-7237 (ID#:50231)1604.56845.1Freight Included in Commodity Cost37173.011899.22Freight Included in Commodity CostInvoiced Separately527See ASN-14875 (ID#:35053)11077.852572.68Freight Included in Commodity CostFreight Included in Commodity Cost1504.59Freight Included in Commodity Cost7765.6117907.76558.088559.241203.414582.141072.351119.093587.3410263.55Freight Included in Commodity CostSee ASN-14875 (ID#:35053)Freight Included in Commodity CostSee ASN-16852 (ID#:25990)13325.5See ASN-9407 (ID#:17697)660.774876.3421084.8417031.91See ASN-9408 (ID#:39263)1697.9520.1928142.929891804.28711.4See ASN-17177 (ID#:18240)2058.843174.1311067.86See ASN-11023 (ID#:37963)734.667905.94386.1629257.65See ASN-6355 (ID#:16828)2531.6257017.6814125.63Freight Included in Commodity Cost2658.0911656.59See ASN-32231 (ID#:13648)Freight Included in Commodity Cost13562.351691.15See ASN-21627 (ID#:48945)1470.09985.7827376.22828.2311138.89Freight Included in Commodity CostSee ASN-31765 (ID#:41640)26266.34Freight Included in Commodity Cost22523.12See ASN-16634 (ID#:46858)929.851836.81634.36See ASN-7581 (ID#:42811)Freight Included in Commodity CostSee ASN-24721 (ID#:13708)3296.5816359.217997.84Freight Included in Commodity CostInvoiced SeparatelyFreight Included in Commodity Cost13180.76See ASN-32231 (ID#:13648)2173.4See ASN-31337 (ID#:26619)Freight Included in Commodity CostFreight Included in Commodity Cost672.49Freight Included in Commodity Cost3765.28See ASN-7661 (ID#:21752)See ASN-31331 (ID#:51668)1899.891794.89Freight Included in Commodity CostSee ASN-22277 (ID#:61493)1701.13840.853868.4922617.384588.02Freight Included in Commodity CostFreight Included in Commodity Cost24927.1918862.39See ASN-19859 (ID#:59267)8747.56Freight Included in Commodity CostFreight Included in Commodity CostFreight Included in Commodity Cost9894.85See ASN-21751 (ID#:13968)24382.982454.46Freight Included in Commodity Cost9768.224755.76Freight Included in Commodity Cost98521.566941.12Freight Included in Commodity Cost6038.212148.124250.15Freight Included in Commodity Cost3231.11395897.87Freight Included in Commodity Cost2204.0836428.24Invoiced Separately11884.14See ASN-30463 (ID#:15460)82236.745054.6810533.016758.0113037.01See ASN-22749 (ID#:45723)1779.1Freight Included in Commodity CostFreight Included in Commodity CostFreight Included in Commodity Cost18937.337479.21Freight Included in Commodity Cost3790.3222086.15See ASN-24721 (ID#:13708)9535.67See ASN-6264 (ID#:52856)Freight Included in Commodity Cost1000.94935.89Freight Included in Commodity Cost1219.85Freight Included in Commodity Cost1253.452516.6268350.524885.2Freight Included in Commodity Cost22614.24Freight Included in Commodity Cost15890.5212091.9118044.491961.4913731.6592.46Invoiced Separately29027313Freight Included in Commodity Cost10627.8See ASN-33526 (ID#:32150)Freight Included in Commodity Cost4116.81516.3515331.5Freight Included in Commodity CostSee ASN-28761 (ID#:38632)Freight Included in Commodity CostInvoiced SeparatelyFreight Included in Commodity Cost28734.438024.1Invoiced SeparatelySee ASN-31750 (ID#:19272)Freight Included in Commodity CostSee ASN-18152 (ID#:66768)See ASN-31750 (ID#:19272)See ASN-28246 (ID#:33379)Freight Included in Commodity Cost23623.43See ASN-26923 (ID#:13027)16061.512704See ASN-27824 (ID#:26961)111419056.133646.13See ASN-10007 (ID#:23194)See ASN-31335 (ID#:42778)125.425697.6411203.81See ASN-31750 (ID#:19272)33718.085808.69Freight Included in Commodity CostFreight Included in Commodity Cost7421.816949.938399.6See ASN-30674 (ID#:54100)Freight Included in Commodity CostSee ASN-29503 (ID#:13571)12127.5810758.45See ASN-16123 (ID#:20371)See ASN-9090 (ID#:29979)Freight Included in Commodity Cost807.6526294.9546723.42566.5615773.2Freight Included in Commodity Cost4295.615012.16Freight Included in Commodity Cost16429.131924.57Freight Included in Commodity Cost3463.531849.17Freight Included in Commodity Cost10277.9213674.647769.416147.081721.9116002.97See ASN-26927 (ID#:26612)See ASN-20434 (ID#:13874)2076.583254.239145.1Freight Included in Commodity Cost6475.64See ASN-32231 (ID#:13648)32471.833147.8835912.432040.93See ASN-29503 (ID#:13571)5964.5235813.9821225.33Freight Included in Commodity Cost1264.16See ASN-17077 (ID#:37031)1013.7See ASN-29409 (ID#:20185)53062.211678.5349069.749507.818134.376637.36498.72690.0221807.62See ASN-32107 (ID#:16391)Freight Included in Commodity Cost45060.6Freight Included in Commodity Cost11372.2211855.59Invoiced Separately2215.8117654.9419430.861360.1410365.14See ASN-21679 (ID#:13900)Freight Included in Commodity Cost10122.756897.71See ASN-32527 (ID#:24386)733.64403.66See ASN-14984 (ID#:14988)See ASN-30672 (ID#:40443)1342.4413336.6429251.2429274.168809.051640.995915.6313380.0712225.76Freight Included in Commodity Cost3011.723789.527136.6Freight Included in Commodity CostSee ASN-16124 (ID#:20321)1678.574427.5211447.38See ASN-19142 (ID#:22600)See ASN-26738 (ID#:15115)Freight Included in Commodity CostFreight Included in Commodity Cost1083.8543692.4622194.09Freight Included in Commodity CostSee ASN-6355 (ID#:16828)1649.91See ASN-27812 (ID#:25926)Freight Included in Commodity Cost8291.961767.914532.442595.6326266.34See ASN-18970 (ID#:33422)See ASN-15795 (ID#:16725)See ASN-30463 (ID#:15460)13312.884146.33Freight Included in Commodity Cost8143.97Freight Included in Commodity Cost9054.61Freight Included in Commodity Cost2874.03Freight Included in Commodity Cost9915.56630.5See ASN-32108 (ID#:53922)Invoiced Separately53062.21Invoiced Separately5886.92541.84015.8234182.97984.399456.4610203.15768.669592.95Freight Included in Commodity Cost3089.836879.32Freight Included in Commodity CostInvoiced Separately10929.388248.336433.823482.06Invoiced Separately47892.57486.1815105.99Freight Included in Commodity Cost2905557.27See ASN-10663 (ID#:32313)430.532609.44926.3See ASN-28379 (ID#:32865)9106.51See ASN-31958 (ID#:15788)17568.618545.177754.144573.213397.02Freight Included in Commodity Cost25778.9See ASN-30499 (ID#:52793)Freight Included in Commodity Cost24000.919582.55See ASN-24721 (ID#:13708)4084.56630.51368.78Freight Included in Commodity Cost15241.75See ASN-9408 (ID#:39263)297Freight Included in Commodity Cost1053.88Freight Included in Commodity Cost5066.44See ASN-31572 (ID#:24983)Freight Included in Commodity Cost668.75852.02Freight Included in Commodity CostSee ASN-6264 (ID#:52856)Freight Included in Commodity CostFreight Included in Commodity CostFreight Included in Commodity Cost968.2525607.4422647.8113771.6344952.61See ASN-5131 (ID#:25886)See ASN-31750 (ID#:19272)Freight Included in Commodity CostSee ASN-30861 (ID#:41238)43848.04Invoiced SeparatelySee ASN-11362 (ID#:47253)Freight Included in Commodity Cost16816.338956.053341.4511372.23See ASN-21667 (ID#:41892)Invoiced SeparatelySee ASN-18919 (ID#:14578)1794.8920618.5513303.8See ASN-32231 (ID#:13648)See ASN-32682 (ID#:38510)Invoiced SeparatelyFreight Included in Commodity CostFreight Included in Commodity Cost17085.16See ASN-9179 (ID#:28515)See ASN-13475 (ID#:15772)See ASN-31129 (ID#:40205)6956.1823808.371360.3421084.844568.928301.76Freight Included in Commodity CostFreight Included in Commodity CostSee ASN-31958 (ID#:15788)12034.9621348.51Freight Included in Commodity Cost28610486.42Freight Included in Commodity CostSee ASN-29386 (ID#:42295)See ASN-24412 (ID#:64757)1278.12Freight Included in Commodity CostFreight Included in Commodity Cost1442.4411827.07Freight Included in Commodity CostSee ASN-22955 (ID#:19019)9323.27Freight Included in Commodity Cost15722.0532499.11757.425456.4466916.5290Freight Included in Commodity Cost20559.392633.91Freight Included in Commodity Cost23721.991.669046.76Freight Included in Commodity CostFreight Included in Commodity Cost1765.86Freight Included in Commodity Cost4388.8412067.268130.55Freight Included in Commodity Cost10191.281614.83Freight Included in Commodity CostFreight Included in Commodity Cost12363.3519368.23Freight Included in Commodity Cost8423.76Invoiced Separately737.12See ASN-11023 (ID#:37963)21714.6813625.75Freight Included in Commodity Cost4701.1Freight Included in Commodity Cost663.77Freight Included in Commodity Cost2789.675824.1110959.548434.27Freight Included in Commodity Cost1615.885758.84Freight Included in Commodity CostSee ASN-24721 (ID#:13708)16189.27See ASN-28279 (ID#:13547)20626.58Freight Included in Commodity CostFreight Included in Commodity CostSee ASN-17077 (ID#:37031)18459.5828778.76See ASN-31765 (ID#:41640)20233.34Freight Included in Commodity Cost3478.55740.543001.351832.54See ASN-31820 (ID#:16098)6683.69702.422849.7920136.282520.54See ASN-14880 (ID#:25423)1112.112060.79Freight Included in Commodity Cost31201.821944.998495.836006.373109.21Freight Included in Commodity Cost45032.5525955.06Invoiced SeparatelyFreight Included in Commodity Cost102199.13See ASN-31335 (ID#:42778)14419.86See ASN-27241 (ID#:23488)2010.693125.6529373.14Freight Included in Commodity Cost1001.121872.5321340.3516835.52See ASN-11955 (ID#:61190)37444.13269.9See ASN-30261 (ID#:19627)34940.023315.23See ASN-22955 (ID#:19019)13146.21See ASN-20026 (ID#:64635)See ASN-31338 (ID#:38992)Freight Included in Commodity Cost26849.5791.671457.92Freight Included in Commodity CostSee ASN-11024 (ID#:15149)See ASN-4489 (ID#:43989)See ASN-32265 (ID#:56716)19145.8139951.34See ASN-18919 (ID#:14578)1592.72Freight Included in Commodity Cost2084.49Freight Included in Commodity CostInvoiced Separately19632.73790.78Freight Included in Commodity Cost1143.04Freight Included in Commodity Cost15450.88Freight Included in Commodity Cost1498.16Freight Included in Commodity Cost995.22Invoiced SeparatelyFreight Included in Commodity Cost1088.7932575.03928.11515.11Freight Included in Commodity Cost17512.528809.08Freight Included in Commodity CostInvoiced Separately6311.8912498.657905.964726.15Freight Included in Commodity CostFreight Included in Commodity CostFreight Included in Commodity Cost14758.34See ASN-32109 (ID#:25915)Freight Included in Commodity Cost3787.715640.234267.13Freight Included in Commodity Cost11617.57917.35Invoiced Separately4088.4314256.58978.412673.822990.6419461.76758.65See ASN-26923 (ID#:13027)Freight Included in Commodity Cost10833.067175.68See ASN-31129 (ID#:40205)See ASN-7262 (ID#:25201)See ASN-26906 (ID#:33218)See ASN-31331 (ID#:51668)20602.327939.911573.41Freight Included in Commodity Cost4620.03Freight Included in Commodity Cost22212.752865.221489.333169.345405.4215578.891960.891238.94886Freight Included in Commodity Cost418.9488176.17Freight Included in Commodity CostFreight Included in Commodity CostFreight Included in Commodity CostFreight Included in Commodity Cost1573.4153102.2221654.064964.6824.37436.621222.564429.37Invoiced Separately22059.2511838.566015.18See ASN-16124 (ID#:20321)Freight Included in Commodity CostSee ASN-14757 (ID#:30618)See ASN-11855 (ID#:69871)6020.481791.42Freight Included in Commodity CostFreight Included in Commodity Cost17405.6529742.64Freight Included in Commodity Cost1416.0336677.0815367.037811.665487.5311372.45Freight Included in Commodity Cost707.19Freight Included in Commodity Cost4359634.168683.99290Freight Included in Commodity Cost13257.79767.87677.373222.2760840.32706.18Freight Included in Commodity Cost12506.1221035.4911311.63530.946617.84Freight Included in Commodity CostSee ASN-18662 (ID#:38299)37401.431253.71See ASN-6341 (ID#:29298)3341.459802.9560713.127457.1922523.12See ASN-24041 (ID#:34062)31491.2357561.3820407.9518212.8716793.45Freight Included in Commodity CostFreight Included in Commodity Cost1847.9769016.63Freight Included in Commodity CostSee ASN-14835 (ID#:77780)2061.8See ASN-32258 (ID#:29880)4059.8573790.43Invoiced SeparatelyFreight Included in Commodity CostSee ASN-29384 (ID#:33441)16856.6See ASN-13475 (ID#:15772)Freight Included in Commodity CostFreight Included in Commodity CostInvoiced Separately878.34Freight Included in Commodity Cost260See ASN-31750 (ID#:19272)33865.2635747.2823270.258344.8615230.88See ASN-28062 (ID#:14016)4676.61660.3Freight Included in Commodity Cost8108.91See ASN-28279 (ID#:13547)Freight Included in Commodity CostFreight Included in Commodity Cost35117.35See ASN-28279 (ID#:13547)5335.6See ASN-15328 (ID#:46005)26710.223396.048158.825467.64See ASN-14757 (ID#:30618)Freight Included in Commodity CostFreight Included in Commodity CostFreight Included in Commodity CostSee ASN-30942 (ID#:19840)Freight Included in Commodity CostSee ASN-5131 (ID#:25886)9502.511413.527032.513117.862905.4913383.4722460.87Freight Included in Commodity CostSee ASN-4974 (ID#:18694)3165.69See ASN-16560 (ID#:29734)Freight Included in Commodity Cost3283.593573.323574.24Freight Included in Commodity Cost840.467393.13See ASN-20331 (ID#:34113)896.352162.5519557.011333.016568.7Freight Included in Commodity Cost957.88Freight Included in Commodity Cost1051.517068.8530046.8429478.421396.041766.5626859.39See ASN-32231 (ID#:13648)See ASN-18722 (ID#:71773)11814.576038.2220644.03Invoiced SeparatelyFreight Included in Commodity Cost10051.8932728.965463.16Freight Included in Commodity CostFreight Included in Commodity CostFreight Included in Commodity CostFreight Included in Commodity CostFreight Included in Commodity Cost31073.951176.031952.7712961.76Freight Included in Commodity CostSee ASN-30320 (ID#:53759)See ASN-4979 (ID#:21174)2782.773852.86337.89Freight Included in Commodity CostFreight Included in Commodity CostFreight Included in Commodity CostSee ASN-30183 (ID#:51410)21825.6Freight Included in Commodity Cost15504.4Freight Included in Commodity Cost5886.96See ASN-33614 (ID#:36005)7326.626639.33See ASN-18664 (ID#:19406)Freight Included in Commodity Cost10893.856012.42807.47835.011464.24See ASN-27328 (ID#:27829)6639.352836.141857.3915387.63Freight Included in Commodity Cost41461.114589.33Freight Included in Commodity CostFreight Included in Commodity CostFreight Included in Commodity Cost13479.254263.076973.87Freight Included in Commodity Cost16835.5250104.3437115.713324.85Freight Included in Commodity CostSee ASN-28761 (ID#:38632)Invoiced Separately13677.692325.6258592.5420705.239230.19Freight Included in Commodity Cost925.05Freight Included in Commodity Cost3908.56Freight Included in Commodity Cost5577.1310984.82Freight Included in Commodity CostFreight Included in Commodity Cost5460.48Freight Included in Commodity CostFreight Included in Commodity CostFreight Included in Commodity Cost1454.64See ASN-27582 (ID#:79885)Freight Included in Commodity Cost4263.07See ASN-32108 (ID#:53922)Invoiced SeparatelySee ASN-9408 (ID#:39263)See ASN-29372 (ID#:71477)817.99Freight Included in Commodity Cost1764.849341.594266.2415332.689973.5133279.391211.481211.484969.951898.841816.732412.99131126830.441236.1314489.15254.112016.693423.25See DN-1628 (ID#:82291)16898.2Freight Included in Commodity Cost3945.333302.146298.341042.581042.58Freight Included in Commodity CostFreight Included in Commodity CostFreight Included in Commodity CostFreight Included in Commodity CostFreight Included in Commodity CostFreight Included in Commodity CostFreight Included in Commodity CostFreight Included in Commodity CostFreight Included in Commodity CostFreight Included in Commodity CostFreight Included in Commodity Cost40971073.464964.2710959.635194.229736.115254.434549.953833.1725790.826153.8Freight Included in Commodity CostFreight Included in Commodity Cost11054.5627912.64See DN-1867 (ID#:82326)19372.863365.4511054.59See DN-1875 (ID#:82330)5121.685121.685121.69755.64Freight Included in Commodity CostFreight Included in Commodity CostFreight Included in Commodity CostFreight Included in Commodity Cost81670.571647.251647.256147.186147.1812648.36530.368953.23307.8616981.1531214.2714163.131221.836406.53See DN-2035 (ID#:82356)6406.546500.4518046.121794.5874839.92859.162768.966770.6435481401.768758.372294.85104604.0616222.856218.584277.0460010.733403.982452.542452.5478442.2113398.064428.064428.064398.32Invoiced Separately13398.063949.1916064.09940.233798.733865.6310928.524969.8760432.8811969.681812.9424213.8121397.383127.3518495.918495.918495.9See DN-2358 (ID#:82405)3134.82See DN-2360 (ID#:82407)5324.697168.827823.072367.46888.3221326.7321326.732779.533296.344075.111291.75Freight Included in Commodity CostFreight Included in Commodity Cost15322.7315322.7312102.8115322.7315322.7324940.9715322.71182.25Freight Included in Commodity Cost6476.7456.17456.18Invoiced Separately912.361824.72See DN-2500 (ID#:82436)See DN-2500 (ID#:82436)2460.793436.141418.011524.55636.311292.054313.33522.42491.4311292.051698.833641.161698.836009.477651.5925231.9625231.963940.1822788.95See DN-2581 (ID#:82457)Invoiced SeparatelySee DN-2582 (ID#:82459)3494.54054.19See DN-2597 (ID#:82462)See DN-2597 (ID#:82462)3279.253848.9129250.681188.7527441.2227441.223758.4See DN-2643 (ID#:82471)1061115219.716079.276079.2726205.8329683.0617090170905530.115530.125530.112394.2731029.9927321.5221347.1330482.8491111702.272252.4211188.5316532.581100.7716532.516532.54754.536014.2219730.6212101.9618461.2282283.919667.947317.487317.4736194.847317.47248895825.174934.4323249.4715677.9834356.267659.3318661.975825.1867732.5476176.431783.644261.038211.0315459.09131278.8124772.957433.0211444.779251.85109018337.825109017192.43026.6110075.89609.6940434.04See DN-2981 (ID#:82538)2556829780.513252.210680.143880.1421806.841075437242.59405.819405.819405.81See DN-3032 (ID#:82551)936.81161712.87See DN-3015 (ID#:82554)37242.5See DN-3029 (ID#:82556)37242.59405.8131781198.6829733.532030.965724.41740.479758.53763.223809.391235634003.729935.0521591.18163.7441332.14Freight Included in Commodity Cost11941.6522904.03207612076120893.211239454385.448057.2Invoiced Separately951.7520499.33See DN-3268 (ID#:82595)23764044.334529.67547415614.8913033810.39See DN-3335 (ID#:82604)21108.577607.220225.078242.7214088.228420.68See DN-3425 (ID#:82618)16754.325419.213332.739378.142634011604.573541.59Invoiced Separately20049.0815814.017928.111500015847.19130015847.187708.3Invoiced Separately2151.95Invoiced Separately7928.117928.113541.594063.814768.0616083.3223776.416010.24947.383531.86Freight Included in Commodity Cost12803.35886.1133073.617647.73660.438469.678006380.097083.181672.774740.83623.221593.885153.543132.779857.35578.2597918.873613.051521.0816468.5412197.4428812.57See DN-3794 (ID#:82694)28812.578054.6828812.5710010.1513627.764266.6243218.07See DN-3825 (ID#:82702)See DN-3825 (ID#:82702)47171.27470818387.8See DN-3843 (ID#:82707)See DN-3843 (ID#:82707)7663.16See DN-3844 (ID#:82710)See DN-3844 (ID#:82710)10217.021933.72118.163290.5863011705.8718448.521006015571.481651837.5919662.098520.874208.354218.742440.194083.52599.3613290.31See DN-3954 (ID#:82743)24309.72See DN-3974 (ID#:82745)24532.2870210700920526495706852.084328.926620.3639599.115645.333783.248191.96925.6865.153247.3546181.17See DN-4064 (ID#:82765)2124.4810011.251932.6718513.2310363.499426.3316971.93See DN-4162 (ID#:82783)129843.24See DN-4172 (ID#:82785)5012.888834.071076.5Freight Included in Commodity CostFreight Included in Commodity Cost225.7935834040.649341.8124788.37535.5234216.2536897.57Invoiced Separately9041.745769.34Invoiced SeparatelySee DN-4309 (ID#:82809)Invoiced Separately28406.4Freight Included in Commodity CostInvoiced SeparatelyInvoiced SeparatelyInvoiced Separately7445.8See DN-1311 (ID#:82837)1567.512336.27See DN-1474 (ID#:82273)1576.327100.045028.0415170.333335.331211.4811637.644030.02792.622794.675254.097403.18Invoiced Separately1945.662976.563302.14See DN-1659 (ID#:82859)6036.964519.974519.976321.99484.56Freight Included in Commodity CostFreight Included in Commodity CostFreight Included in Commodity Cost3549.77Freight Included in Commodity CostFreight Included in Commodity CostFreight Included in Commodity Cost21347.2110651702.911865.867383.91524.56See DN-1766 (ID#:82878)9736.19736.12458.269736.12941.119736.12195.95783.6961.466438.3832479.845410.32961.4633266.37See DN-1871 (ID#:82328)5121.685121.68Freight Included in Commodity CostFreight Included in Commodity CostFreight Included in Commodity CostFreight Included in Commodity CostFreight Included in Commodity CostFreight Included in Commodity CostFreight Included in Commodity CostFreight Included in Commodity CostFreight Included in Commodity Cost13243.91114.2269748.5See DN-1964 (ID#:82908)12648.3617450.7610620132890.272997.97See DN-2011 (ID#:82350)78061.33380.8616594.8728022.1716868.387816.4520264.9320264.93202651419.847826.7535284.861842.95See DN-2090 (ID#:82366)See DN-2090 (ID#:82366)8758.378758.36See DN-2108 (ID#:82368)17711.716555.753567.534471.077765.184520.04See DN-2153 (ID#:82374)12601.073403.992143.5See DN-2200 (ID#:82947)5346.7415608.1513398.0413398.0613398.0628541.795491.012503.3321881.7111490.214716.8313398.063949.1918317.1129352.1715973.897960.7496669.4See DN-2310 (ID#:82968)2166.21909.15See DN-2318 (ID#:82971)8647.1613511.497664.0179938.0812956.949178.48See DN-2348 (ID#:82402)18495.921326.73320.43See DN-2392 (ID#:82413)11154.87573.433296.343296.341309.031274.985216.635216.6310891.66See DN-2461 (ID#:82994)See DN-2461 (ID#:82994)Freight Included in Commodity Cost14325.71456.17See DN-2493 (ID#:82432)See DN-2496 (ID#:82434)Invoiced SeparatelySee DN-2498 (ID#:83002)Invoiced SeparatelySee DN-2500 (ID#:82436)2522.76See DN-2506 (ID#:82439)20994.62See DN-2518 (ID#:83009)95269.391698.831698.831698.835447.2187294.563825.812405.5412405.543279.259506870.964322.619652.223159.121191.0227441.22761.911857.04See DN-2655 (ID#:82474)15219.72See DN-2656 (ID#:83032)See DN-2656 (ID#:83032)4496.1318520.2217665.422371.06170901366.675530.11See DN-2695 (ID#:83043)6061.4See DN-2697 (ID#:83045)Invoiced Separately17090170901834.7921347.1221347.1221347.12See DN-2729 (ID#:82487)2109.227964.2498001482.716532.543098.9707016898.5818461.2313841.892175.074718.325634.4718461.2218461.22See DN-2832 (ID#:82505)7317.47See DN-2833 (ID#:82506)See DN-2837 (ID#:82507)723815761.765825.1726081.0512500.5813380.52See DN-2858 (ID#:82511)79183855.94See DN-2873 (ID#:82515)See DN-2885 (ID#:82518)See DN-2886 (ID#:82519)See DN-2886 (ID#:82519)67732.556933.75839.719079.685213.54See DN-2932 (ID#:83091)39513.54See DN-2942 (ID#:82530)See DN-2946 (ID#:82531)9879.2520994.853026.622266See DN-2952 (ID#:82537)See DN-2981 (ID#:82538)7733.777733.779687.693980.184880.1410680.1412736.25See DN-3028 (ID#:82548)11002035.841779.74See DN-3015 (ID#:82554)11520.8514368.658118.0812862.564529.56585.038699.814451.6914451.6914451.6941802.5628602.9486008281.7See DN-3118 (ID#:82569)3483.791501.421173.7514547.551981.624816.73See DN-3153 (ID#:82575)20666.078800.8144300.9Freight Included in Commodity Cost4323.44100654.6185414.3759.798057.194234.123567.1956913924.233567.234218.36See DN-3329 (ID#:82602)5902.44390.98770034400.04See DN-3361 (ID#:83172)27875.365846.081527.291456.45856.657134.3910942.884017.691556.99See DN-3421 (ID#:82617)See DN-3425 (ID#:82618)5816.47See DN-3428 (ID#:83186)26340See DN-3437 (ID#:83188)263403526.697134.39See DN-3457 (ID#:82626)5989.2549199.7521032.825458.46790.29See DN-3525 (ID#:82648)16821.6630936.14063.811200See DN-3561 (ID#:82654)See DN-3561 (ID#:82654)3975.712995.06See DN-3579 (ID#:83217)6169See DN-3581 (ID#:83219)See DN-3581 (ID#:83219)4268.067317.9663922.364802.96See DN-3588 (ID#:83225)6010.224362.924609.6811961.045445.73Freight Included in Commodity Cost47532.0955287.91See DN-3628 (ID#:83234)9527.1746520.175698.4829674.911137.18926.7895.382994.636819.734562.7214767.58See DN-3875 (ID#:83255)28812.5728669.4See DN-3803 (ID#:83260)5399.25See DN-3825 (ID#:82702)See DN-3843 (ID#:82707)See DN-3828 (ID#:82713)4130.15See DN-3872 (ID#:82726)32063.367504See DN-3907 (ID#:82729)993.25364.6163.0753110.466001.523340.5See DN-3954 (ID#:82743)See DN-3954 (ID#:82743)See DN-4008 (ID#:82753)401.828248.28See DN-4041 (ID#:83291)4649.71181.92Freight Included in Commodity CostSee DN-4085 (ID#:82772)127578499.1612748.7479514.449482.198689.22114220992.675668.631417.1212867.46Invoiced Separately1334.9218500.55443.53See DN-4251 (ID#:82800)360275167720816.426126.12See DN-4177 (ID#:82804)79132561323688.484944.835852.71Invoiced SeparatelySee DN-4310 (ID#:82811)See DN-4314 (ID#:82812)Invoiced SeparatelySee DN-1311 (ID#:82837)See DN-1311 (ID#:82837)675.477445.8See DN-1360 (ID#:83371)See DN-1452 (ID#:82272)21641.751483.395028.057100.042450.89See DN-1522 (ID#:82845)1211.491211.495254.178104.7911637.64See DN-1559 (ID#:82849)3602.345338.558329.13See DN-1590 (ID#:83388)See DN-1590 (ID#:83388)11637.643504.81326.89848539223.785254.1See DN-1629 (ID#:82857)3379.643379.6413208.561854.356036.96See DN-1671 (ID#:82863)See DN-1671 (ID#:82863)Freight Included in Commodity CostFreight Included in Commodity CostFreight Included in Commodity CostFreight Included in Commodity CostFreight Included in Commodity Cost4170.65See DN-1752 (ID#:82311)2961See DN-1759 (ID#:82875)See DN-1759 (ID#:82875)124350.848022.599736.14468.349736.19736.13170.642485.929736.19736.19736.12211.2227922.621005.2See DN-1838 (ID#:82887)2201.146438.373250.136299.458379.98See DN-1873 (ID#:82329)Freight Included in Commodity Cost13232.09Freight Included in Commodity CostFreight Included in Commodity CostFreight Included in Commodity CostFreight Included in Commodity Cost4758.3615347.046147.18See DN-1952 (ID#:82907)6147.1811134.626147.18See DN-1982 (ID#:82910)See DN-1982 (ID#:82910)See DN-1982 (ID#:82910)12648.38536.026147.186147.18See DN-2011 (ID#:82350)See DN-2015 (ID#:82917)1413.5620264.9315919.75See DN-2035 (ID#:82356)See DN-2035 (ID#:82356)See DN-2035 (ID#:82356)16606.5529545.055166.393962.511235.054996.2See DN-2066 (ID#:83470)31373.1See DN-2073 (ID#:82362)See DN-2073 (ID#:82362)See DN-2073 (ID#:82362)1842.9510342816252.953415.724711.979553.018758.37See DN-2106 (ID#:82933)8045.76See DN-2113 (ID#:82937)6555.751653.992097.18See DN-2129 (ID#:83488)17941.4617941.474471.0723675.634471.0815707.312601.06See DN-2179 (ID#:82946)See DN-2179 (ID#:82946)2305.6512601.073402.23See DN-2203 (ID#:82949)13398.06See DN-2213 (ID#:82952)13398.0613398.066477.676801.72See DN-2259 (ID#:82958)26538.463525.042143.482143.4919673.48Invoiced Separately2091.17See DN-2299 (ID#:82966)See DN-2304 (ID#:82395)See DN-2310 (ID#:82968)2886.1258512676.4See DN-2322 (ID#:82973)5479.156561.514376.56See DN-2329 (ID#:82976)See DN-2339 (ID#:82401)Invoiced Separately18495.9502.496623.461047.1718495.94480.4515635.8419520.775257.354692.149346.8See DN-2395 (ID#:82415)21326.7345291.494237.1215322.734474.3116660.043470Freight Included in Commodity Cost6025.73See DN-2488 (ID#:83553)912.36See DN-2497 (ID#:82435)See DN-2503 (ID#:83007)See DN-2503 (ID#:83007)1535.56See DN-2504 (ID#:83559)2110.2See DN-2507 (ID#:82440)3438.2See DN-2511 (ID#:83563)See DN-2512 (ID#:82443)4777.08491.421102.320548.84466.994646.1325231.96See DN-2564 (ID#:83572)25231.96211See DN-2590 (ID#:83019)5320.133489.538510.8155175.61See DN-2616 (ID#:83024)16978.8336650.58805.584553.1Invoiced Separately7519.83062.18See DN-2652 (ID#:82477)See DN-2663 (ID#:82478)4358.72See DN-2695 (ID#:83043)2330.21170902333.912394.275716.8617102.56See DN-2729 (ID#:82487)13914.56143326483.81See DN-2754 (ID#:82491)1110.199601.3816532.516532.5See DN-2781 (ID#:83061)16152See DN-2773 (ID#:83608)2719.638832.53See DN-2804 (ID#:82499)72991.4520786.04See DN-2812 (ID#:83068)See DN-2812 (ID#:83068)See DN-2812 (ID#:83068)588.717317.4716840.6715446.41984.83742.987134.3914974.6Freight Included in Commodity Cost7134.39169615459.0915459.0915459.09See DN-2914 (ID#:83089)21547433.0218028.41See DN-2942 (ID#:82530)5109038492.4651090See DN-2951 (ID#:82532)24138.35See DN-2975 (ID#:82536)2322.47See DN-2981 (ID#:82538)29780.529780.541595.528382.0517308.697690.06See DN-3012 (ID#:83107)1896.4930844.1See DN-3030 (ID#:82549)9405.86637.16See DN-3044 (ID#:83116)See DN-3015 (ID#:82554)See DN-3015 (ID#:82554)8507.0118002180See DN-3060 (ID#:83121)2527.414120.6925984.755384.963592.83300.956582.9516177.0910542.156506.75See DN-3125 (ID#:82571)See DN-3125 (ID#:82571)See DN-3131 (ID#:83136)21173.755496.0814547.554095.2420666.0720666.0720666.0711941.6522904.02420313743.4610734.1317548.42Freight Included in Commodity CostSee DN-3256 (ID#:83149)See DN-3256 (ID#:83149)5213.01See DN-3263 (ID#:83150)106022.37See DN-3268 (ID#:82595)See DN-3268 (ID#:82595)20499.33See DN-3269 (ID#:83711)1883747.7635245902.44317.965950.1710651.44594.490360.1220225.07See DN-3366 (ID#:82612)20225.0720225.07See DN-3371 (ID#:83174)See DN-3376 (ID#:83175)1761.5See DN-3413 (ID#:83181)See DN-3428 (ID#:83186)34019.61263403128.551965.57See DN-3458 (ID#:83196)7150.258406.8149199.75See DN-3476 (ID#:83198)75824.42See DN-3483 (ID#:82633)9828.737083.1815392.438127.62Invoiced Separately1335.158406.81See DN-3558 (ID#:83766)See DN-3561 (ID#:82654)3526.6922890.82See DN-3582 (ID#:82656)See DN-3585 (ID#:83223)See DN-3586 (ID#:83224)29216.84Freight Included in Commodity Cost13649.1429674.925380.364768.06See DN-3627 (ID#:83782)See DN-3633 (ID#:82666)660.444625.273282.3315330.565156.9328647.5229971.594195.64See DN-3712 (ID#:83795)See DN-3712 (ID#:83795)29.212342.16892.92770.1452211.42792.12396.325982.4310640.81See DN-3794 (ID#:82694)3519.7See DN-3825 (ID#:82702)1138.295347.379664.79See DN-3842 (ID#:82706)See DN-3843 (ID#:82707)See DN-3844 (ID#:82710)1171.27481.811855.3487.876926.92042.98916311.8810506.441489.8See DN-3972 (ID#:82740)1922.75See DN-3975 (ID#:82748)6331.93See DN-4012 (ID#:82755)See DN-4032 (ID#:82757)See DN-4032 (ID#:82757)40616.15See DN-4064 (ID#:82765)3562.441319.215942.684834.67061.2See DN-4096 (ID#:83304)See DN-4101 (ID#:82773)3792944382643.58265.26See DN-4115 (ID#:83306)34099.1812045.8447401.4733900.991587.323559.93See DN-4144 (ID#:82781)See DN-4162 (ID#:82783)129.75Invoiced Separately68874.85See DN-4191 (ID#:83900)See DN-4218 (ID#:83326)Invoiced SeparatelySee DN-4218 (ID#:83326)7564.4716679.875894.114112.56See DN-4229 (ID#:83332)49314.37Invoiced SeparatelySee DN-4285 (ID#:82806)Invoiced Separately632.631289.488819.6147281.5646111.5514734.9232165.56Freight Included in Commodity CostFreight Included in Commodity CostFreight Included in Commodity CostInvoiced SeparatelyInvoiced SeparatelySee DN-1311 (ID#:82837)See DN-1311 (ID#:82837)See DN-1452 (ID#:82272)See DN-1452 (ID#:82272)9341.49See DN-1493 (ID#:83374)See DN-1493 (ID#:83374)4468.51See DN-1500 (ID#:82274)See DN-1500 (ID#:82274)6113.349935.88709.021211.481211.481211.4811091.7810331.784234.42See DN-1541 (ID#:82846)11637.648104.79523.643119.75See DN-1605 (ID#:82284)5187.55254.11549.831083.3See DN-1643 (ID#:82293)See DN-1643 (ID#:82293)See DN-1643 (ID#:82293)3302.143688.33See DN-1667 (ID#:82861)13122.39See DN-1673 (ID#:83983)5186.684519.96Freight Included in Commodity CostFreight Included in Commodity CostFreight Included in Commodity Cost9736.1Freight Included in Commodity Cost11991.12521.5242573.959736.19736.1See DN-1800 (ID#:83422)9736.19736.14964.273833.17See DN-1832 (ID#:82321)6637.053833.178676.918473.15841.926154.88929.511017.15See DN-1875 (ID#:82330)1894.2Freight Included in Commodity CostFreight Included in Commodity CostFreight Included in Commodity CostFreight Included in Commodity CostFreight Included in Commodity Cost9309.52Freight Included in Commodity CostFreight Included in Commodity Cost13457.25See DN-1948 (ID#:82906)See DN-1948 (ID#:82906)See DN-1948 (ID#:82906)13215.676147.182136.16147.186147.181229.52See DN-1984 (ID#:83453)See DN-1985 (ID#:82911)6147.186147.1818390.428815.658953.2See DN-2012 (ID#:84040)See DN-2015 (ID#:82917)See DN-2016 (ID#:82351)See DN-2017 (ID#:82918)See DN-2019 (ID#:82919)2027.4256372.66See DN-2026 (ID#:84047)See DN-2025 (ID#:83460)See DN-2025 (ID#:83460)866.71See DN-2054 (ID#:83465)68243See DN-2060 (ID#:82927)2745754009.254815.843548See DN-2106 (ID#:82933)3935.9234543.3616482.0518611.92See DN-2125 (ID#:82941)See DN-2129 (ID#:83488)See DN-2137 (ID#:83490)17941.479639.1See DN-2153 (ID#:82374)See DN-2153 (ID#:82374)3495.813380.3512601.0712601.0712601.071697.333403.99See DN-2178 (ID#:84080)3402.2312049.43402.23947.5215919.882976.29See DN-2205 (ID#:82950)1339813398.0613398.064370.81052.047962.2610829.6See DN-2252 (ID#:84095)226.25See DN-2263 (ID#:82959)See DN-2268 (ID#:82960)See DN-2282 (ID#:82389)1128.543545.1See DN-2310 (ID#:82968)See DN-2322 (ID#:82973)See DN-2325 (ID#:82975)16881.165678.14See DN-2348 (ID#:82402)3949.1818495.921454.8812314.42936.820144.999421.763274.41See DN-2396 (ID#:84117)3296.3439130.38Invoiced Separately2682.2Freight Included in Commodity CostFreight Included in Commodity Cost3787.652779.5315322.736476.69See DN-2492 (ID#:82999)See DN-2493 (ID#:82432)See DN-2494 (ID#:82433)See DN-2495 (ID#:83555)See DN-2498 (ID#:83002)See DN-2498 (ID#:83002)See DN-2499 (ID#:83004)See DN-2499 (ID#:83004)See DN-2500 (ID#:82436)See DN-2510 (ID#:82442)See DN-2518 (ID#:83009)4777.08522.42See DN-2532 (ID#:82448)See DN-2535 (ID#:83011)1698.83See DN-2544 (ID#:84145)203025231.963279.293825.8See DN-2581 (ID#:82457)See DN-2581 (ID#:82457)See DN-2590 (ID#:83019)See DN-2594 (ID#:83021)See DN-2595 (ID#:83577)22878.264029.71See DN-2621 (ID#:83583)5044.26See DN-2621 (ID#:83583)16757865.4Invoiced Separately14700See DN-2641 (ID#:83029)See DN-2641 (ID#:83029)See DN-2643 (ID#:82471)27441.21See DN-2656 (ID#:83032)6079.27See DN-2687 (ID#:82480)See DN-2690 (ID#:83041)5530.113549.92757.41095.22See DN-2727 (ID#:83053)15299.5815299.5916040.3916532.57423.387317.48See DN-2821 (ID#:83069)7317.477504See DN-2838 (ID#:84188)2175.07See DN-2861 (ID#:82513)See DN-2862 (ID#:83083)39908443.89See DN-2883 (ID#:83630)6800.6See DN-2895 (ID#:82524)2159.115459.1190025636.28043.57See DN-2928 (ID#:83637)See DN-2928 (ID#:83637)4754.19See DN-2940 (ID#:82529)9751.8See DN-2935 (ID#:83641)27350.2See DN-2961 (ID#:83098)See DN-2967 (ID#:84209)4002.0120994.85111318.14See DN-2981 (ID#:82538)47389.63See DN-2989 (ID#:84216)6923.53See DN-3014 (ID#:83655)See DN-3017 (ID#:83108)See DN-3017 (ID#:83108)See DN-3017 (ID#:83108)See DN-3017 (ID#:83108)36857.21See DN-3024 (ID#:83112)See DN-3025 (ID#:82546)See DN-3033 (ID#:83658)See DN-3033 (ID#:83658)25118.88See DN-3015 (ID#:82554)See DN-3046 (ID#:83119)49580.1712315.5See DN-3059 (ID#:82560)5623.52See DN-3069 (ID#:83124)33770.41See DN-3075 (ID#:83129)See DN-3101 (ID#:83672)832.5See DN-3118 (ID#:82569)50626.62089See DN-3116 (ID#:84248)See DN-3129 (ID#:83135)14547.55See DN-3131 (ID#:83136)5496.081815.67See DN-3102 (ID#:82573)See DN-3102 (ID#:82573)9708.48See DN-3148 (ID#:82574)3592.8See DN-3171 (ID#:83685)20666.0713649.6Freight Included in Commodity Cost20761207612076131401.0811133.662486.5See DN-3237 (ID#:83700)Freight Included in Commodity Cost1478.35See DN-3269 (ID#:83711)20074.744529.652751.094356.754356.751026.4924505See DN-3318 (ID#:83716)10540.2213508.98120004390.988604.7See DN-3349 (ID#:83720)See DN-3350 (ID#:83165)15181See DN-3347 (ID#:82611)See DN-3361 (ID#:83172)See DN-3371 (ID#:83174)See DN-3371 (ID#:83174)30981.3913380.52See DN-3401 (ID#:83180)See DN-3418 (ID#:83182)45236638.3See DN-3425 (ID#:82618)26340109002431.365819.72431.39771.949199.752737.756333See DN-3497 (ID#:82640)3051.95790.29See DN-3531 (ID#:83761)14509.0930936.130936.1See DN-3558 (ID#:83766)See DN-3561 (ID#:82654)Freight Included in Commodity Cost23776.4218607.767300See DN-3579 (ID#:83217)See DN-3580 (ID#:83772)See DN-3580 (ID#:83772)See DN-3581 (ID#:83219)See DN-3585 (ID#:83223)See DN-3585 (ID#:83223)38560.6739329.0329674.91See DN-3626 (ID#:83781)See DN-3627 (ID#:83782)See DN-3628 (ID#:83234)892.965445.73See DN-3642 (ID#:82668)19564.233298.78See DN-3655 (ID#:83237)7048.5734837.832022.515989.2512435.18See DN-3712 (ID#:83795)See DN-3739 (ID#:83804)11701.65See DN-3762 (ID#:82685)1966.09270.74See DN-3877 (ID#:83254)28812.5822.292286.63994.252282.79See DN-3817 (ID#:83822)1765.187500See DN-3825 (ID#:82702)See DN-3836 (ID#:83825)2676See DN-3844 (ID#:82710)See DN-3828 (ID#:82713)635.951335.0226731618504937.65See DN-3944 (ID#:82733)6220.489410.57See DN-3951 (ID#:82735)See DN-3957 (ID#:83283)23340.84See DN-3975 (ID#:82748)1425112634373.841330.99See DN-4012 (ID#:82755)6852.08See DN-4024 (ID#:82756)See DN-4040 (ID#:82758)See DN-4041 (ID#:83291)28001.972232.429264.135413.7See DN-4096 (ID#:83304)116593See DN-4098 (ID#:84443)41735274.51See DN-4111 (ID#:83882)77960.0815715.086443.53989.8146157.86See DN-4156 (ID#:83893)See DN-4159 (ID#:83316)7006.4765310.33See DN-4218 (ID#:83326)708.23See DN-4255 (ID#:83911)80039.169097.9836108228.2416941See DN-4278 (ID#:83338)4065See DN-4283 (ID#:83912)See DN-4290 (ID#:83340)Freight Included in Commodity CostSee DN-4313 (ID#:83921)Freight Included in Commodity CostFreight Included in Commodity CostSee DN-1311 (ID#:82837)See DN-1333 (ID#:82839)See DN-1333 (ID#:82839)See DN-1360 (ID#:83371)See DN-1456 (ID#:83952)2336.26See DN-1506 (ID#:83375)6061.01See DN-1505 (ID#:84504)5028.04See DN-1519 (ID#:82276)3228.26See DN-1530 (ID#:83964)1211.481211.492697.651211.4915328.5811637.64See DN-1559 (ID#:82849)See DN-1559 (ID#:82849)11637.6411637.64750.99942.2613844.72See DN-1609 (ID#:82286)4293.82See DN-1637 (ID#:84524)93481949.42See DN-1662 (ID#:83981)6036.96See DN-1662 (ID#:83981)See DN-1662 (ID#:83981)See DN-1662 (ID#:83981)See DN-1667 (ID#:82861)See DN-1668 (ID#:83403)See DN-1670 (ID#:82862)13122.39Freight Included in Commodity CostFreight Included in Commodity CostFreight Included in Commodity Cost9736.1Freight Included in Commodity Cost2021.5316682.6618543302.05See DN-1760 (ID#:82876)See DN-1765 (ID#:82877)Freight Included in Commodity Cost8022.599736.19736.19736.19736.11000.05See DN-1801 (ID#:83423)9736.19736.13299.6719150.15See DN-1799 (ID#:84560)See DN-1825 (ID#:82884)See DN-1829 (ID#:82320)3833.1723890.83See DN-1837 (ID#:83429)20654.81See DN-1842 (ID#:84007)See DN-1856 (ID#:82891)4600.45See DN-1868 (ID#:83435)5121.68Freight Included in Commodity CostFreight Included in Commodity CostFreight Included in Commodity CostFreight Included in Commodity CostFreight Included in Commodity CostFreight Included in Commodity Cost25670.1See DN-1962 (ID#:83448)See DN-1964 (ID#:82908)6147.18See DN-1982 (ID#:82910)See DN-1982 (ID#:82910)See DN-1984 (ID#:83453)See DN-1997 (ID#:82914)16285.97See DN-1998 (ID#:84589)See DN-2011 (ID#:82350)See DN-2011 (ID#:82350)See DN-2012 (ID#:84040)See DN-2017 (ID#:82918)See DN-2026 (ID#:84047)1979.757816.45See DN-2035 (ID#:82356)See DN-2035 (ID#:82356)20264.93See DN-2051 (ID#:82359)See DN-2051 (ID#:82359)See DN-2054 (ID#:83465)5166.392559.88See DN-2059 (ID#:84053)See DN-2059 (ID#:84053)See DN-2064 (ID#:83469)See DN-2064 (ID#:83469)See DN-2073 (ID#:82362)2355.79See DN-2089 (ID#:83478)See DN-2089 (ID#:83478)7487.51See DN-2098 (ID#:83482)See DN-2113 (ID#:82937)See DN-2114 (ID#:83486)8045.77See DN-2121 (ID#:82370)18611.93See DN-2127 (ID#:82371)7765.17See DN-2128 (ID#:84624)3600.6516629.492080.2See DN-2137 (ID#:83490)See DN-2138 (ID#:83491)See DN-2138 (ID#:83491)4471.07See DN-2153 (ID#:82374)See DN-2151 (ID#:84068)3380.364516.6715697.15See DN-2181 (ID#:84640)1355.314647.663397.95See DN-2203 (ID#:82949)3106.89See DN-2205 (ID#:82950)See DN-2205 (ID#:82950)12601.1213398.06See DN-2237 (ID#:82954)See DN-2237 (ID#:82954)See DN-2237 (ID#:82954)5491.016801.72166113838.17226.252143.483525.0414866.143175.7112.87See DN-2310 (ID#:82968)1771.2621077.5121180.718495.9See DN-2359 (ID#:84113)4338.4413956.383148.122094.3410370.59481.7121326.73537.263296.34See DN-2420 (ID#:82989)22711.84889.94See DN-2435 (ID#:84121)15322.73See DN-2465 (ID#:82426)See DN-2469 (ID#:82427)14325.711698.83See DN-2494 (ID#:82433)See DN-2494 (ID#:82433)See DN-2494 (ID#:82433)See DN-2495 (ID#:83555)See DN-2496 (ID#:82434)See DN-2496 (ID#:82434)See DN-2496 (ID#:82434)See DN-2497 (ID#:82435)See DN-2498 (ID#:83002)See DN-2498 (ID#:83002)See DN-2499 (ID#:83004)See DN-2511 (ID#:83563)1221.0191.42522.42522.42See DN-2535 (ID#:83011)1831.41See DN-2551 (ID#:82452)3279.25See DN-2594 (ID#:83021)See DN-2595 (ID#:83577)See DN-2598 (ID#:82465)7403.016340.2See DN-2621 (ID#:83583)See DN-2623 (ID#:83027)585.42See DN-2639 (ID#:83588)See DN-2640 (ID#:83589)27441.2215842.343253.88Invoiced Separately26845.35See DN-2675 (ID#:83038)Invoiced Separately282021255.62See DN-2694 (ID#:82483)21347.13See DN-2741 (ID#:84180)See DN-2744 (ID#:82490)See DN-2744 (ID#:82490)87091845.31See DN-2791 (ID#:83064)18461.2212688.85See DN-2798 (ID#:83065)2128.15See DN-2809 (ID#:83616)See DN-2812 (ID#:83068)11874.853293.3411874.85See DN-2820 (ID#:82503)21567.1910095.99325.167423.3812589.74See DN-2851 (ID#:84753)See DN-2853 (ID#:83080)3855.95See DN-2865 (ID#:82514)See DN-2873 (ID#:82515)See DN-2883 (ID#:83630)See DN-2889 (ID#:83631)15459.0915459.0915459.096933.76See DN-2921 (ID#:82527)1616.458194.09See DN-2934 (ID#:83094)See DN-2934 (ID#:83094)11320.56See DN-2946 (ID#:82531)See DN-2946 (ID#:82531)See DN-2951 (ID#:82532)See DN-2945 (ID#:82533)See DN-2954 (ID#:82534)7579.614050.133487.55See DN-2952 (ID#:82537)See DN-2989 (ID#:84216)See DN-2989 (ID#:84216)See DN-2989 (ID#:84216)See DN-2994 (ID#:82541)29780.5See DN-3001 (ID#:83651)See DN-3001 (ID#:83651)See DN-3014 (ID#:83655)See DN-3023 (ID#:83111)See DN-3030 (ID#:82549)See DN-3030 (ID#:82549)39037.73048.08See DN-3015 (ID#:82554)See DN-3015 (ID#:82554)See DN-3046 (ID#:83119)150005520.869405.84120.7See DN-3069 (ID#:83124)See DN-3080 (ID#:82562)8600See DN-3096 (ID#:83671)1342.44See DN-3075 (ID#:83129)See DN-3099 (ID#:82566)See DN-3108 (ID#:82568)7852.98See DN-3122 (ID#:82570)See DN-3121 (ID#:83677)See DN-3131 (ID#:83136)735.2414547.55See DN-3153 (ID#:82575)See DN-3155 (ID#:84260)17650.1514547.55See DN-3186 (ID#:83688)Freight Included in Commodity CostSee DN-3199 (ID#:84270)23753.6411941.65207615718.69See DN-3228 (ID#:82588)See DN-3227 (ID#:82589)11133.661478.351620.19Freight Included in Commodity CostFreight Included in Commodity CostFreight Included in Commodity Cost16411047.34See DN-3267 (ID#:83708)See DN-3268 (ID#:82595)10807.985950.16See DN-3295 (ID#:83155)See DN-3295 (ID#:83155)See DN-3296 (ID#:83156)3100See DN-3316 (ID#:83160)4356.74See DN-3317 (ID#:84851)See DN-3318 (ID#:83716)41352.7528864.271118.22See DN-3337 (ID#:84290)See DN-3339 (ID#:83718)1149.071956Freight Included in Commodity Cost30981.39See DN-3368 (ID#:83730)Invoiced Separately20225.07See DN-3421 (ID#:82617)See DN-3425 (ID#:82618)See DN-3428 (ID#:83186)11571.94See DN-3458 (ID#:83196)See DN-3458 (ID#:83196)3649.76See DN-3381 (ID#:84319)16813.62150049199.758050.554676.42352.526007.26951.84See DN-3546 (ID#:82651)See DN-3547 (ID#:83763)30936.13481.29See DN-3553 (ID#:82653)See DN-3561 (ID#:82654)See DN-3561 (ID#:82654)See DN-3561 (ID#:82654)3526.69See DN-3567 (ID#:84342)See DN-3581 (ID#:83219)See DN-3585 (ID#:83223)See DN-3585 (ID#:83223)See DN-3586 (ID#:83224)See DN-3589 (ID#:82657)2352.52See DN-3599 (ID#:84351)29674.92See DN-3626 (ID#:83781)See DN-3626 (ID#:83781)1008.9See DN-3632 (ID#:82665)871.8See DN-3648 (ID#:84360)See DN-3655 (ID#:83237)See DN-3655 (ID#:83237)34551.831955.221431144448.7515873.9511085.8345180.6345180.624353.04See DN-3739 (ID#:83804)3150.3See DN-3752 (ID#:84373)227.1993842994.62See DN-3762 (ID#:82685)31514.8513770.65Invoiced SeparatelySee DN-3875 (ID#:83255)166.969360.14See DN-3825 (ID#:82702)1482.78635.962413.89See DN-3842 (ID#:82706)See DN-3843 (ID#:82707)1511.4See DN-3865 (ID#:82723)19379.9410944.736507.335580.445603.783028.36See DN-3913 (ID#:84409)1332.7See DN-3939 (ID#:82732)1157.784329.61863.24See DN-3952 (ID#:82736)891.65See DN-3954 (ID#:82743)See DN-3975 (ID#:82748)See DN-3999 (ID#:82752)7585.827726.1220052.1142947.44See DN-4032 (ID#:82757)See DN-4032 (ID#:82757)6948.04See DN-4041 (ID#:83291)5798.14194623.44See DN-4064 (ID#:82765)22520.71697372055.25491651645.7914056.46See DN-4144 (ID#:82781)1061.3743055.8243219.06See DN-4190 (ID#:84461)973.2Freight Included in Commodity Cost134See DN-4255 (ID#:83911)See DN-4253 (ID#:83334)See DN-4253 (ID#:83334)1871.34See DN-4177 (ID#:82804)68103.71See DN-4291 (ID#:85036)8402.244257.91See DN-4307 (ID#:83920)See DN-4307 (ID#:83920)See DN-4309 (ID#:82809)Freight Included in Commodity CostFreight Included in Commodity CostSee DN-4325 (ID#:82815)Freight Included in Commodity CostFreight Included in Commodity CostSee DN-1360 (ID#:83371)See DN-1417 (ID#:82271)See DN-1452 (ID#:82272)See DN-1452 (ID#:82272)See DN-1456 (ID#:83952)See DN-1479 (ID#:82842)See DN-1510 (ID#:84506)See DN-1523 (ID#:83961)1211.48See DN-1530 (ID#:83964)1211.48Freight Included in Commodity Cost9044.6511637.6411637.641062.952990.9219480.97See DN-1624 (ID#:82856)12016.69See DN-1636 (ID#:83975)See DN-1638 (ID#:84526)See DN-1638 (ID#:84526)7779.961949.41See DN-1659 (ID#:82859)See DN-1660 (ID#:82296)See DN-1667 (ID#:82861)See DN-1667 (ID#:82861)See DN-1677 (ID#:82297)Freight Included in Commodity CostFreight Included in Commodity Cost3423.26Freight Included in Commodity CostFreight Included in Commodity CostFreight Included in Commodity Cost3522.52See DN-1761 (ID#:82312)1758.69736.19736.19736.1See DN-1794 (ID#:83421)9736.11721.5314467.754159.733219.93See DN-1799 (ID#:84560)See DN-1799 (ID#:84560)See DN-1799 (ID#:84560)See DN-1799 (ID#:84560)See DN-1838 (ID#:82887)See DN-1842 (ID#:84007)See DN-1847 (ID#:82889)See DN-1847 (ID#:82889)2288.299735.953661.42Freight Included in Commodity CostFreight Included in Commodity CostFreight Included in Commodity CostFreight Included in Commodity CostFreight Included in Commodity CostFreight Included in Commodity CostSee DN-1943 (ID#:83443)Freight Included in Commodity CostSee DN-1948 (ID#:82906)See DN-1949 (ID#:83444)See DN-1949 (ID#:83444)6147.186147.18See DN-1984 (ID#:83453)See DN-1984 (ID#:83453)6068.756147.146147.18See DN-1997 (ID#:82914)See DN-1998 (ID#:84589)8815.6535689.7116249.554658.75See DN-2011 (ID#:82350)See DN-2012 (ID#:84040)See DN-2015 (ID#:82917)See DN-2018 (ID#:82352)See DN-2019 (ID#:82919)29153.27See DN-2026 (ID#:84047)See DN-2026 (ID#:84047)8109.91See DN-2025 (ID#:83460)See DN-2025 (ID#:83460)See DN-2032 (ID#:82921)See DN-2035 (ID#:82356)4156.94See DN-2033 (ID#:82922)See DN-2041 (ID#:83461)17520.43See DN-2064 (ID#:83469)See DN-2073 (ID#:82362)2700.186120.6See DN-2089 (ID#:83478)See DN-2090 (ID#:82366)See DN-2090 (ID#:82366)20805.8See DN-2100 (ID#:85174)1647See DN-2106 (ID#:82933)See DN-2108 (ID#:82368)See DN-2121 (ID#:82370)17941.47See DN-2144 (ID#:83493)12601.0623711.162494.56See DN-2201 (ID#:84644)1224.02385913398.06See DN-2234 (ID#:82386)Invoiced Separately1959.61226.25843.362001.4614661.14See DN-2304 (ID#:82395)See DN-2343 (ID#:82977)See DN-2361 (ID#:84673)1047.172326.771360.32See DN-2388 (ID#:83539)3274.411078.616614.272053.5214622.43See DN-2434 (ID#:84684)5752.74See DN-2439 (ID#:82991)See DN-2441 (ID#:82993)15322.73See DN-2459 (ID#:82424)See DN-2459 (ID#:82424)1783.3816163.28See DN-2495 (ID#:83555)See DN-2496 (ID#:82434)See DN-2497 (ID#:82435)See DN-2499 (ID#:83004)See DN-2505 (ID#:83561)See DN-2506 (ID#:82439)See DN-2509 (ID#:82441)See DN-2509 (ID#:82441)See DN-2510 (ID#:82442)9458.64See DN-2519 (ID#:84141)491.43See DN-2535 (ID#:83011)1698.839657.88See DN-2558 (ID#:82453)25231.9625231.9625231.963279.255447.21See DN-2594 (ID#:83021)See DN-2597 (ID#:82462)See DN-2601 (ID#:84156)See DN-2605 (ID#:82467)See DN-2605 (ID#:82467)See DN-2607 (ID#:83580)8510.813580.36See DN-2621 (ID#:83583)See DN-2624 (ID#:83584)See DN-2624 (ID#:83584)10598.227441.224392.94See DN-2639 (ID#:83588)See DN-2641 (ID#:83029)27441.25See DN-2655 (ID#:82474)See DN-2652 (ID#:82477)53775.564496.13See DN-2693 (ID#:82481)See DN-2693 (ID#:82481)See DN-2697 (ID#:83045)See DN-2697 (ID#:83045)2330.221075.624496.1517090170901474.9See DN-2716 (ID#:83597)See DN-2724 (ID#:82486)21347.13See DN-2742 (ID#:84181)See DN-2744 (ID#:82490)19980.62See DN-2763 (ID#:82493)2641.456900.62See DN-2764 (ID#:82494)4754.5232401.62See DN-2773 (ID#:83608)See DN-2803 (ID#:83613)See DN-2804 (ID#:82499)931.34See DN-2811 (ID#:83067)See DN-2811 (ID#:83067)See DN-2811 (ID#:83067)See DN-2812 (ID#:83068)See DN-2812 (ID#:83068)588.72See DN-2833 (ID#:82506)See DN-2837 (ID#:82507)6265.3610915.9716603.9See DN-2857 (ID#:83623)See DN-2859 (ID#:82512)3855.94See DN-2862 (ID#:83083)8751.9917129.96See DN-2880 (ID#:85310)16697.66See DN-2900 (ID#:84199)15459.094424.913951.02510908000.722005.486031.157433.02See DN-2981 (ID#:82538)See DN-2981 (ID#:82538)See DN-2981 (ID#:82538)See DN-2989 (ID#:84216)29780.5See DN-3012 (ID#:83107)See DN-3017 (ID#:83108)See DN-3034 (ID#:84791)1600See DN-3043 (ID#:84792)See DN-3015 (ID#:82554)See DN-3015 (ID#:82554)See DN-3015 (ID#:82554)See DN-3042 (ID#:83663)See DN-3048 (ID#:84235)See DN-3059 (ID#:82560)See DN-3060 (ID#:83121)See DN-3065 (ID#:83123)3066.05See DN-3092 (ID#:83128)See DN-3075 (ID#:83129)See DN-3099 (ID#:82566)3300.9512203.291382See DN-3117 (ID#:83132)See DN-3118 (ID#:82569)See DN-3122 (ID#:82570)See DN-3122 (ID#:82570)See DN-3125 (ID#:82571)11803.13See DN-3133 (ID#:84254)3426.6814547.5514547.557086.8820666.087951.22See DN-3186 (ID#:83688)Freight Included in Commodity CostSee DN-3199 (ID#:84270)See DN-3199 (ID#:84270)42040.312651.44See DN-3231 (ID#:84831)See DN-3231 (ID#:84831)11133.661506.5See DN-3258 (ID#:83706)See DN-3259 (ID#:84838)40857.69See DN-3267 (ID#:83708)See DN-3268 (ID#:82595)See DN-3268 (ID#:82595)4674.58See DN-3234 (ID#:85388)See DN-3269 (ID#:83711)See DN-3269 (ID#:83711)See DN-3269 (ID#:83711)36226.2658707See DN-3281 (ID#:82599)1634.3817114.5See DN-3324 (ID#:84854)14316.94See DN-3329 (ID#:82602)See DN-3331 (ID#:82603)See DN-3355 (ID#:83726)Freight Included in Commodity Cost13300.0120225.07See DN-3371 (ID#:83174)59004581.262279.5See DN-3401 (ID#:83180)10167.544017.7728.35816.461532.73See DN-3454 (ID#:83194)See DN-3457 (ID#:82626)12924.8See DN-3381 (ID#:84319)See DN-3483 (ID#:82633)See DN-3493 (ID#:84322)See DN-3494 (ID#:84883)18278.07See DN-3526 (ID#:82649)8854.24See DN-3558 (ID#:83766)18607.7618090.64See DN-3576 (ID#:83216)See DN-3576 (ID#:83216)See DN-3579 (ID#:83217)See DN-3580 (ID#:83772)See DN-3590 (ID#:84350)4730.1814003590See DN-3625 (ID#:83233)See DN-3626 (ID#:83781)43758.827664.61See DN-3632 (ID#:82665)See DN-3633 (ID#:82666)2317.16See DN-3648 (ID#:84360)30202.86See DN-3652 (ID#:85463)11186.09See DN-3656 (ID#:84922)See DN-3657 (ID#:82670)4909.9727804.65See DN-3685 (ID#:83245)13765.174853.84See DN-3706 (ID#:82676)45180.6311438.9319248.7See DN-3737 (ID#:84934)31113.19See DN-3780 (ID#:84944)4783.369868.545073.25See DN-3875 (ID#:83255)See DN-3875 (ID#:83255)28812.57See DN-3792 (ID#:83259)1621.53961.06See DN-3803 (ID#:83260)See DN-3807 (ID#:82698)60023009.33598.9167855.39See DN-3819 (ID#:85506)See DN-3825 (ID#:82702)See DN-3827 (ID#:82705)684.86See DN-3843 (ID#:82707)10925.3411223.817858.3See DN-3872 (ID#:82726)See DN-3918 (ID#:83274)1163.2See DN-3927 (ID#:83845)1663.182786.61354761462.813427.33See DN-3974 (ID#:82745)2016.1See DN-4024 (ID#:82756)See DN-4039 (ID#:83869)See DN-4082 (ID#:85008)See DN-4098 (ID#:84443)1955.17251.42See DN-4112 (ID#:84448)See DN-4112 (ID#:84448)12654.78See DN-4117 (ID#:84449)62693.852244.23644.1842077.59See DN-4144 (ID#:82781)See DN-4149 (ID#:82782)707.7See DN-4172 (ID#:82785)See DN-4178 (ID#:84460)14266.1350569.84See DN-4188 (ID#:85574)4971.054147.793995.946310.4See DN-4210 (ID#:83906)See DN-4210 (ID#:83906)Freight Included in Commodity CostSee DN-4218 (ID#:83326)15880137.4See DN-4243 (ID#:83907)12082See DN-4247 (ID#:84466)See DN-4255 (ID#:83911)See DN-4255 (ID#:83911)107573.94Freight Included in Commodity CostSee DN-4290 (ID#:83340)See DN-4296 (ID#:83342)See DN-4327 (ID#:83349)Invoiced SeparatelySee DN-1311 (ID#:82837)1139.5See DN-1417 (ID#:82271)1140.08See DN-1456 (ID#:83952)1350.331668.76See DN-1522 (ID#:82845)See DN-1530 (ID#:83964)See DN-1530 (ID#:83964)See DN-1531 (ID#:83965)1211.48See DN-1548 (ID#:85076)See DN-1548 (ID#:85076)See DN-1554 (ID#:84514)5837.9412369.825242698.22See DN-1580 (ID#:82281)8329.13See DN-1590 (ID#:83388)2528.6942656.07See DN-1628 (ID#:82291)1576.81083.3See DN-1643 (ID#:82293)See DN-1654 (ID#:82295)3688.33See DN-1657 (ID#:83980)See DN-1668 (ID#:83403)6036.98See DN-1671 (ID#:82863)See DN-1673 (ID#:83983)Freight Included in Commodity CostFreight Included in Commodity CostFreight Included in Commodity CostFreight Included in Commodity CostFreight Included in Commodity CostFreight Included in Commodity CostFreight Included in Commodity CostFreight Included in Commodity Cost2393.549736.19736.1See DN-1829 (ID#:82320)See DN-1833 (ID#:84565)See DN-1842 (ID#:84007)See DN-1842 (ID#:84007)7879.03Freight Included in Commodity CostSee DN-1878 (ID#:84572)5121.6810536.12Freight Included in Commodity CostFreight Included in Commodity CostFreight Included in Commodity CostFreight Included in Commodity CostFreight Included in Commodity CostFreight Included in Commodity CostFreight Included in Commodity CostFreight Included in Commodity CostFreight Included in Commodity CostFreight Included in Commodity CostFreight Included in Commodity CostFreight Included in Commodity CostSee DN-1949 (ID#:83444)6147.18See DN-1964 (ID#:82908)6147.186147.186147.186147.18See DN-1982 (ID#:82910)See DN-1998 (ID#:84589)8815.65See DN-2003 (ID#:85146)530.36See DN-2011 (ID#:82350)8953.2111884.42See DN-2019 (ID#:82919)See DN-2021 (ID#:82353)See DN-2025 (ID#:83460)15759.47See DN-2032 (ID#:82921)1979.75See DN-2035 (ID#:82356)See DN-2033 (ID#:82922)See DN-2033 (ID#:82922)See DN-2033 (ID#:82922)See DN-2041 (ID#:83461)20264.9383195.98See DN-2050 (ID#:82926)See DN-2054 (ID#:83465)See DN-2064 (ID#:83469)See DN-2064 (ID#:83469)See DN-2065 (ID#:82360)See DN-2065 (ID#:82360)See DN-2072 (ID#:83472)See DN-2073 (ID#:82362)See DN-2073 (ID#:82362)See DN-2090 (ID#:82366)See DN-2090 (ID#:82366)8758.36See DN-2095 (ID#:85733)43548See DN-2102 (ID#:85176)16477441.57See DN-2113 (ID#:82937)See DN-2117 (ID#:84061)See DN-2117 (ID#:84061)See DN-2127 (ID#:82371)See DN-2127 (ID#:82371)See DN-2128 (ID#:84624)See DN-2128 (ID#:84624)3600.6510648.629447.08See DN-2153 (ID#:82374)See DN-2161 (ID#:84639)See DN-2158 (ID#:84075)12601.0712601.0712601.063403.993936.8512601.073402.23See DN-2196 (ID#:84086)1148.654605.4413398.065597.5414897.04See DN-2231 (ID#:82385)See DN-2231 (ID#:82385)See DN-2254 (ID#:83508)See DN-2242 (ID#:84654)2503.346477.67226.25See DN-2263 (ID#:82959)See DN-2263 (ID#:82959)28585.573949.1910605.033545.1See DN-2304 (ID#:82395)1709.782070.681553.6414406.99315.51See DN-2322 (ID#:82973)888.933139.96See DN-2341 (ID#:85787)4911.39See DN-2357 (ID#:84112)See DN-2361 (ID#:84673)See DN-2362 (ID#:83533)Freight Included in Commodity Cost1002.5921326.7321326.73See DN-2405 (ID#:84118)10794.84221.96See DN-2410 (ID#:84678)See DN-2420 (ID#:82989)22168.18361.73See DN-2441 (ID#:82993)5216.6315322.736476.69See DN-2459 (ID#:82424)20179.39See DN-2492 (ID#:82999)See DN-2493 (ID#:82432)See DN-2493 (ID#:82432)See DN-2494 (ID#:82433)See DN-2497 (ID#:82435)See DN-2503 (ID#:83007)See DN-2507 (ID#:82440)1554.64See DN-2512 (ID#:82443)See DN-2519 (ID#:84141)91.431572.97See DN-2532 (ID#:82448)See DN-2535 (ID#:83011)Invoiced SeparatelySee DN-2552 (ID#:85237)1131.634646.1425231.9625231.96See DN-2567 (ID#:85241)1933.319949.863571.6See DN-2581 (ID#:82457)3279.255447.212716.083279.25See DN-2594 (ID#:83021)See DN-2594 (ID#:83021)See DN-2598 (ID#:82465)See DN-2603 (ID#:83023)See DN-2605 (ID#:82467)See DN-2607 (ID#:83580)8510.818510.82See DN-2612 (ID#:84157)See DN-2624 (ID#:83584)See DN-2638 (ID#:85257)27441.22See DN-2643 (ID#:82471)See DN-2654 (ID#:82473)See DN-2663 (ID#:82478)See DN-2678 (ID#:83040)See DN-2684 (ID#:82479)170901709022171.8See DN-2697 (ID#:83045)See DN-2697 (ID#:83045)See DN-2697 (ID#:83045)See DN-2694 (ID#:82483)See DN-2706 (ID#:85272)See DN-2717 (ID#:83598)See DN-2718 (ID#:84176)3853.8921347.136483.815081.05See DN-2741 (ID#:84180)11592.26See DN-2761 (ID#:83606)16532.5See DN-2769 (ID#:83607)721.364754.53See DN-2781 (ID#:83061)18613.69See DN-2791 (ID#:83064)18461.223028.668684.7See DN-2804 (ID#:82499)See DN-2813 (ID#:82501)See DN-2812 (ID#:83068)See DN-2816 (ID#:84747)18461.224869.41618.01See DN-2830 (ID#:84751)See DN-2833 (ID#:82506)See DN-2848 (ID#:83078)See DN-2861 (ID#:82513)11138158.93See DN-2871 (ID#:83626)See DN-2880 (ID#:85310)See DN-2886 (ID#:82519)See DN-2886 (ID#:82519)See DN-2887 (ID#:82520)8977See DN-2897 (ID#:84198)6323.16323.110809.092928.46152See DN-2913 (ID#:84764)15459.0915459.09See DN-2945 (ID#:82533)673.257433.01See DN-2970 (ID#:83644)See DN-2971 (ID#:84212)2392See DN-2952 (ID#:82537)See DN-2981 (ID#:82538)Freight Included in Commodity Cost3255.616923.53See DN-2996 (ID#:84784)See DN-2997 (ID#:85328)See DN-2997 (ID#:85328)See DN-3001 (ID#:83651)17032.59See DN-3017 (ID#:83108)See DN-3021 (ID#:82544)See DN-3030 (ID#:82549)See DN-3032 (ID#:82551)See DN-3034 (ID#:84791)See DN-3015 (ID#:82554)See DN-3015 (ID#:82554)See DN-3029 (ID#:82556)9405.81See DN-3063 (ID#:84799)5405.25See DN-3084 (ID#:83125)4120.69See DN-3075 (ID#:83129)See DN-3101 (ID#:83672)See DN-3110 (ID#:84809)See DN-3110 (ID#:84809)See DN-3125 (ID#:82571)See DN-3125 (ID#:82571)See DN-3132 (ID#:83681)1799.5814547.5513817.651941.821034.6414547.55See DN-3173 (ID#:83687)See DN-3173 (ID#:83687)17650.157185.6Freight Included in Commodity Cost5496.08See DN-3227 (ID#:82589)See DN-3231 (ID#:84831)See DN-3232 (ID#:85378)17548.41See DN-3216 (ID#:83701)Freight Included in Commodity Cost1478.34Freight Included in Commodity CostSee DN-3257 (ID#:83148)See DN-3271 (ID#:85394)10825.064044.33See DN-3289 (ID#:84844)See DN-3289 (ID#:84844)20719.01See DN-3300 (ID#:82601)See DN-3298 (ID#:84283)3738.526052.134218.3634218.365703.06See DN-3327 (ID#:85400)2593.565591.3See DN-3355 (ID#:83726)See DN-3347 (ID#:82611)1004.8620225.0810942.89See DN-3402 (ID#:83735)See DN-3413 (ID#:83181)6976.781530.81See DN-3425 (ID#:82618)5419.224747.8726340See DN-3439 (ID#:85423)33986.07See DN-3458 (ID#:83196)73004847.8See DN-3493 (ID#:84322)See DN-3497 (ID#:82640)See DN-3504 (ID#:84884)See DN-3501 (ID#:82641)5458.452021.9510943.15See DN-3531 (ID#:83761)8456.96See DN-3530 (ID#:86041)4063.81See DN-3546 (ID#:82651)See DN-3547 (ID#:83763)See DN-3551 (ID#:84895)1335.155520.83See DN-3561 (ID#:82654)See DN-3561 (ID#:82654)See DN-3565 (ID#:84903)See DN-3568 (ID#:82655)12995.06Invoiced SeparatelySee DN-3585 (ID#:83223)See DN-3586 (ID#:83224)See DN-3587 (ID#:83776)See DN-3589 (ID#:82657)Invoiced SeparatelySee DN-3601 (ID#:85453)29674.924947.381876.3529674.92See DN-3626 (ID#:83781)See DN-3626 (ID#:83781)See DN-3628 (ID#:83234)1284.74100155130.49See DN-3655 (ID#:83237)5445.734486.015137.06See DN-3702 (ID#:84928)33707.4145180.62See DN-3732 (ID#:82680)See DN-3732 (ID#:82680)2259.8114985.965236.92See DN-3752 (ID#:84373)10982.242.3514522.43See DN-3833 (ID#:82691)See DN-3900 (ID#:83815)See DN-3875 (ID#:83255)See DN-3885 (ID#:82693)See DN-3787 (ID#:83818)2436.32814.06919.81See DN-3819 (ID#:85506)See DN-3822 (ID#:84390)See DN-3827 (ID#:82705)See DN-3827 (ID#:82705)See DN-3843 (ID#:82707)See DN-3843 (ID#:82707)See DN-3843 (ID#:82707)See DN-3828 (ID#:82713)638.65See DN-3865 (ID#:82723)5192.682151.273963See DN-3907 (ID#:82729)2456.74See DN-3936 (ID#:85530)21149.81See DN-3966 (ID#:82739)22007.396700.42See DN-3975 (ID#:82748)898See DN-4003 (ID#:84425)See DN-4017 (ID#:84997)5055.8See DN-4041 (ID#:83291)See DN-4061 (ID#:83864)Invoiced Separately6819.95See DN-4039 (ID#:83869)See DN-4081 (ID#:83872)8936.06See DN-4102 (ID#:83880)See DN-4117 (ID#:84449)See DN-4122 (ID#:85012)See DN-4137 (ID#:84450)35832.127921See DN-4154 (ID#:84454)See DN-4157 (ID#:82779)2042.6See DN-4144 (ID#:82781)See DN-4170 (ID#:85020)Invoiced Separately78454.01See DN-4195 (ID#:83324)See DN-4196 (ID#:85025)See DN-4197 (ID#:85578)Freight Included in Commodity CostSee DN-4218 (ID#:83326)See DN-4227 (ID#:82795)Invoiced Separately68046See DN-4250 (ID#:82799)See DN-4253 (ID#:83334)See DN-4253 (ID#:83334)See DN-4257 (ID#:84468)See DN-4260 (ID#:85596)53937See DN-4273 (ID#:86203)See DN-4275 (ID#:83337)21533.88See DN-4283 (ID#:83912)See DN-4310 (ID#:82811)Freight Included in Commodity CostFreight Included in Commodity Cost149.654958Freight Included in Commodity CostSee DN-4345 (ID#:82820)See DN-1311 (ID#:82837)714.34See DN-1360 (ID#:83371)See DN-1452 (ID#:82272)See DN-1452 (ID#:82272)9341.49See DN-1456 (ID#:83952)See DN-1493 (ID#:83374)See DN-1523 (ID#:83961)1211.482196.297231See DN-1554 (ID#:84514)6355.0811637.652064.42See DN-1598 (ID#:83392)See DN-1598 (ID#:83392)9939.382978.5See DN-1617 (ID#:83395)See DN-1620 (ID#:83974)See DN-1624 (ID#:82856)1601.56470.515050.812016.69See DN-1638 (ID#:84526)1083.31152.14Invoiced Separately3379.643688.33See DN-1659 (ID#:82859)See DN-1660 (ID#:82296)6036.966036.96See DN-1667 (ID#:82861)4764.16See DN-1679 (ID#:86275)124350.821905.63Freight Included in Commodity CostFreight Included in Commodity CostFreight Included in Commodity CostFreight Included in Commodity CostFreight Included in Commodity CostFreight Included in Commodity CostFreight Included in Commodity CostInvoiced SeparatelyFreight Included in Commodity Cost16941702.923952.34See DN-1768 (ID#:86290)See DN-1775 (ID#:84550)9736.19736.1See DN-1795 (ID#:82315)See DN-1795 (ID#:82315)9736.19736.19736.19736.125493.039736.1See DN-1799 (ID#:84560)See DN-1831 (ID#:84564)See DN-1832 (ID#:82321)2677.09See DN-1857 (ID#:82892)11054.5617117.515121.68Freight Included in Commodity CostFreight Included in Commodity CostFreight Included in Commodity CostFreight Included in Commodity CostFreight Included in Commodity CostSee DN-1948 (ID#:82906)6147.18See DN-1951 (ID#:84026)6147.18See DN-1964 (ID#:82908)6147.186147.186147.186147.18See DN-1982 (ID#:82910)See DN-1983 (ID#:82347)See DN-1984 (ID#:83453)See DN-1994 (ID#:85140)See DN-1997 (ID#:82914)2633.57See DN-2003 (ID#:85146)8815.65See DN-2008 (ID#:84038)See DN-2011 (ID#:82350)See DN-2014 (ID#:85708)See DN-2015 (ID#:82917)See DN-2017 (ID#:82918)See DN-2017 (ID#:82918)See DN-2018 (ID#:82352)See DN-2025 (ID#:83460)See DN-2025 (ID#:83460)8109.92See DN-2031 (ID#:83459)See DN-2025 (ID#:83460)See DN-2035 (ID#:82356)See DN-2035 (ID#:82356)20264.93See DN-2047 (ID#:82925)12239.88See DN-2053 (ID#:85164)See DN-2053 (ID#:85164)See DN-2056 (ID#:84604)7826.75See DN-2065 (ID#:82360)See DN-2065 (ID#:82360)2894See DN-2076 (ID#:85168)13411.32See DN-2089 (ID#:83478)See DN-2090 (ID#:82366)See DN-2090 (ID#:82366)See DN-2101 (ID#:85735)43548See DN-2077 (ID#:82369)8098.128758.36See DN-2122 (ID#:84622)See DN-2122 (ID#:84622)See DN-2140 (ID#:85180)See DN-2143 (ID#:84632)5596.5See DN-2153 (ID#:82374)See DN-2151 (ID#:84068)12601.0712601.07See DN-2180 (ID#:85755)3936.86See DN-2154 (ID#:84084)See DN-2191 (ID#:82381)See DN-2192 (ID#:85184)See DN-2203 (ID#:82949)See DN-2225 (ID#:84650)9499.4613398.0613398.06See DN-2231 (ID#:82385)See DN-2237 (ID#:82954)7962.252503.33See DN-2263 (ID#:82959)3525.0313398.06See DN-2297 (ID#:82392)See DN-2302 (ID#:82967)See DN-2304 (ID#:82395)2136.53See DN-2313 (ID#:85780)12606.03See DN-2320 (ID#:83523)See DN-2322 (ID#:82973)See DN-2324 (ID#:83526)See DN-2329 (ID#:82976)826.262886.92See DN-2339 (ID#:82401)See DN-2343 (ID#:82977)See DN-2344 (ID#:85789)See DN-2361 (ID#:84673)See DN-2361 (ID#:84673)18495.918495.92882.69854417.962451.869978.086968.97See DN-2435 (ID#:84121)See DN-2435 (ID#:84121)2057.23526.273526.2715322.73See DN-2462 (ID#:82425)See DN-2465 (ID#:82426)20746.032270.5415672.8See DN-2492 (ID#:82999)See DN-2492 (ID#:82999)See DN-2492 (ID#:82999)See DN-2493 (ID#:82432)See DN-2495 (ID#:83555)See DN-2495 (ID#:83555)See DN-2497 (ID#:82435)See DN-2499 (ID#:83004)See DN-2500 (ID#:82436)See DN-2503 (ID#:83007)See DN-2504 (ID#:83559)See DN-2505 (ID#:83561)See DN-2508 (ID#:85821)See DN-2508 (ID#:85821)See DN-2513 (ID#:82444)11292.05See DN-2521 (ID#:84704)110913590.644405.2425231.96See DN-2568 (ID#:82455)8925See DN-2590 (ID#:83019)See DN-2594 (ID#:83021)See DN-2594 (ID#:83021)1494.6See DN-2603 (ID#:83023)See DN-2605 (ID#:82467)See DN-2605 (ID#:82467)See DN-2605 (ID#:82467)See DN-2608 (ID#:83579)See DN-2616 (ID#:83024)18446.923062.1827441.22See DN-2656 (ID#:83032)See DN-2656 (ID#:83032)See DN-2661 (ID#:83037)See DN-2652 (ID#:82477)4496.139994.57See DN-2677 (ID#:83039)5530.1121347.1223994.1See DN-2693 (ID#:82481)See DN-2693 (ID#:82481)6483.81See DN-2694 (ID#:82483)See DN-2709 (ID#:83049)See DN-2710 (ID#:85273)3853.89See DN-2738 (ID#:85875)See DN-2749 (ID#:84182)See DN-2749 (ID#:84182)18219.8311702.27See DN-2761 (ID#:83606)16532.5See DN-2767 (ID#:83060)16532.5See DN-2778 (ID#:85287)21520.667263.17See DN-2787 (ID#:83063)1618.1233216.1418461.2318461.22See DN-2811 (ID#:83067)See DN-2812 (ID#:83068)See DN-2812 (ID#:83068)See DN-2818 (ID#:85894)See DN-2829 (ID#:82504)11846.856052.1See DN-2858 (ID#:82511)See DN-2863 (ID#:85307)See DN-2865 (ID#:82514)8751.99742.98See DN-2880 (ID#:85310)Freight Included in Commodity CostFreight Included in Commodity CostSee DN-2883 (ID#:83630)See DN-2884 (ID#:85312)See DN-2888 (ID#:85908)2154.15971.13See DN-2919 (ID#:84201)See DN-2919 (ID#:84201)5220.7910977.65See DN-2939 (ID#:82528)See DN-2947 (ID#:83642)See DN-2954 (ID#:82534)See DN-2958 (ID#:83097)See DN-2958 (ID#:83097)2148.5See DN-2962 (ID#:85320)See DN-2965 (ID#:85321)3138.35See DN-2975 (ID#:82536)See DN-2981 (ID#:82538)See DN-2986 (ID#:85927)See DN-3000 (ID#:82542)7733.77See DN-3017 (ID#:83108)See DN-3017 (ID#:83108)See DN-3019 (ID#:84227)37242.5See DN-3027 (ID#:86551)See DN-3030 (ID#:82549)See DN-3048 (ID#:84235)16295.56See DN-3060 (ID#:83121)14451.681551.32See DN-3110 (ID#:84809)See DN-3110 (ID#:84809)See DN-3121 (ID#:83677)See DN-3125 (ID#:82571)See DN-3125 (ID#:82571)See DN-3130 (ID#:84252)7513.5See DN-3102 (ID#:82573)14547.55See DN-3171 (ID#:83685)12382Freight Included in Commodity CostSee DN-3186 (ID#:83688)20761See DN-3197 (ID#:84271)7108.784356.752871See DN-3227 (ID#:82589)Invoiced SeparatelySee DN-3230 (ID#:86584)Freight Included in Commodity CostFreight Included in Commodity CostFreight Included in Commodity CostSee DN-3260 (ID#:82593)See DN-3263 (ID#:83150)See DN-3267 (ID#:83708)See DN-3268 (ID#:82595)See DN-3269 (ID#:83711)3033.26Invoiced SeparatelySee DN-3289 (ID#:84844)4529.65504.55435.443738.53See DN-3324 (ID#:84854)See DN-3324 (ID#:84854)Invoiced SeparatelySee DN-3331 (ID#:82603)3325.77See DN-3339 (ID#:83718)See DN-3355 (ID#:83726)2180.32See DN-3360 (ID#:84864)See DN-3360 (ID#:84864)2414.89See DN-3373 (ID#:82613)5846.086976.78See DN-3385 (ID#:85415)14275.5See DN-3396 (ID#:84302)10942.8818002.871611.43See DN-3409 (ID#:84306)See DN-3409 (ID#:84306)See DN-3425 (ID#:82618)See DN-3432 (ID#:83739)See DN-3505 (ID#:82627)See DN-3554 (ID#:83748)See DN-3477 (ID#:86029)See DN-3493 (ID#:84322)6010.25033.823701.5842859.5613380.5230936.1See DN-3542 (ID#:83208)See DN-3551 (ID#:84895)See DN-3561 (ID#:82654)3526.7See DN-3580 (ID#:83772)See DN-3580 (ID#:83772)See DN-3588 (ID#:83225)1231.6See DN-3598 (ID#:85452)See DN-3599 (ID#:84351)See DN-3619 (ID#:86069)2352.53See DN-3626 (ID#:83781)See DN-3627 (ID#:83782)See DN-3628 (ID#:83234)See DN-3630 (ID#:84916)See DN-3631 (ID#:85458)6437.763138.813590See DN-3648 (ID#:84360)See DN-3652 (ID#:85463)See DN-3654 (ID#:84361)1811.66901.96908.65See DN-3719 (ID#:85477)See DN-3721 (ID#:86086)See DN-3744 (ID#:85483)See DN-3771 (ID#:84943)102.67See DN-3886 (ID#:83817)See DN-3891 (ID#:86103)3730.815617.9328812.57See DN-3809 (ID#:84950)15789.21325.68See DN-3864 (ID#:85518)See DN-3866 (ID#:85519)See DN-3867 (ID#:84968)See DN-3903 (ID#:86131)1773773123.7973.48See DN-3939 (ID#:82732)See DN-3944 (ID#:82733)See DN-3957 (ID#:83283)1422.54See DN-3975 (ID#:82748)See DN-3975 (ID#:82748)See DN-3975 (ID#:82748)20138See DN-4011 (ID#:84426)See DN-4012 (ID#:82755)See DN-4019 (ID#:84429)See DN-4016 (ID#:84996)19497.242201.74See DN-4052 (ID#:85005)See DN-4064 (ID#:82765)See DN-4097 (ID#:85009)132661201.46See DN-4151 (ID#:83891)See DN-4153 (ID#:86170)See DN-4154 (ID#:84454)See DN-4149 (ID#:82782)2564.941301.94See DN-4178 (ID#:84460)See DN-4178 (ID#:84460)4495.29See DN-4195 (ID#:83324)See DN-4210 (ID#:83906)6695.9Freight Included in Commodity CostSee DN-4218 (ID#:83326)2592.5619194.373567.0828277.421653.9See DN-4243 (ID#:83907)See DN-4250 (ID#:82799)See DN-4250 (ID#:82799)3785.72See DN-4259 (ID#:86808)See DN-4265 (ID#:83335)See DN-4177 (ID#:82804)See DN-4274 (ID#:84472)261803410See DN-4282 (ID#:83919)See DN-4307 (ID#:83920)See DN-4307 (ID#:83920)See DN-4313 (ID#:83921)Freight Included in Commodity CostFreight Included in Commodity CostFreight Included in Commodity Cost'"
            ],
            "application/vnd.google.colaboratory.intrinsic+json": {
              "type": "string"
            }
          },
          "metadata": {},
          "execution_count": 106
        }
      ],
      "source": [
        "total_freight_cost=df['Freight Cost (USD)'].sum()\n",
        "total_freight_cost\n"
      ],
      "id": "l_8zbeErBfHg"
    },
    {
      "cell_type": "markdown",
      "metadata": {
        "id": "Ai2NiTCrDG7u"
      },
      "source": [
        "There are multiline shipments in the data and some of the shipment lines didnt have a Freight cost."
      ],
      "id": "Ai2NiTCrDG7u"
    },
    {
      "cell_type": "markdown",
      "metadata": {
        "id": "q8HRF9lBPA6R"
      },
      "source": [
        "### PRE-PROCESSING"
      ],
      "id": "q8HRF9lBPA6R"
    },
    {
      "cell_type": "code",
      "execution_count": null,
      "metadata": {
        "id": "EEmcLFnqRfXq"
      },
      "outputs": [],
      "source": [
        "# ID is a unique number for each row and not needed for precidtion\n",
        "df = df.drop('ID', axis =1)"
      ],
      "id": "EEmcLFnqRfXq"
    },
    {
      "cell_type": "code",
      "execution_count": null,
      "metadata": {
        "id": "dymlIOAnTuTn",
        "colab": {
          "base_uri": "https://localhost:8080/"
        },
        "outputId": "a257dca9-d7c1-4cd6-dbfe-35e42c7ddf22"
      },
      "outputs": [
        {
          "output_type": "stream",
          "name": "stdout",
          "text": [
            "Project Code : 142\n",
            "PQ # : 1237\n",
            "PO / SO # : 6233\n",
            "ASN/DN # : 7030\n",
            "Country : 43\n",
            "Managed By : 4\n",
            "Fulfill Via : 2\n",
            "Vendor INCO Term : 8\n",
            "Shipment Mode : 4\n",
            "PQ First Sent to Client Date : 765\n",
            "PO Sent to Vendor Date : 897\n",
            "Scheduled Delivery Date : 2006\n",
            "Delivered to Client Date : 2093\n",
            "Delivery Recorded Date : 2042\n",
            "Product Group : 5\n",
            "Sub Classification : 6\n",
            "Vendor : 73\n",
            "Item Description : 184\n",
            "Molecule/Test Type : 86\n",
            "Brand : 48\n",
            "Dosage : 54\n",
            "Dosage Form : 17\n",
            "Unit of Measure (Per Pack) : 31\n",
            "Line Item Quantity : 5065\n",
            "Line Item Value : 8741\n",
            "Pack Price : 1175\n",
            "Unit Price : 183\n",
            "Manufacturing Site : 88\n",
            "First Line Designation : 2\n",
            "Weight (Kilograms) : 4688\n",
            "Freight Cost (USD) : 6733\n",
            "Line Item Insurance (USD) : 6722\n"
          ]
        }
      ],
      "source": [
        "for item in df.columns:\n",
        "    print(item,':',df[item].nunique())"
      ],
      "id": "dymlIOAnTuTn"
    },
    {
      "cell_type": "markdown",
      "metadata": {
        "id": "8Rs6QPbphLpF"
      },
      "source": [
        "# missing value handling"
      ],
      "id": "8Rs6QPbphLpF"
    },
    {
      "cell_type": "code",
      "execution_count": null,
      "metadata": {
        "id": "LnDWo0kihQs4",
        "colab": {
          "base_uri": "https://localhost:8080/"
        },
        "outputId": "d1bcd528-d613-4c00-8b3e-0034c5c604b7"
      },
      "outputs": [
        {
          "output_type": "execute_result",
          "data": {
            "text/plain": [
              "['Shipment Mode', 'Dosage', 'Line Item Insurance (USD)']"
            ]
          },
          "metadata": {},
          "execution_count": 111
        }
      ],
      "source": [
        "[features for features in df.columns if df[features].isna().sum()>0]"
      ],
      "id": "LnDWo0kihQs4"
    },
    {
      "cell_type": "code",
      "execution_count": null,
      "metadata": {
        "id": "iHP2N1JnhyGo",
        "colab": {
          "base_uri": "https://localhost:8080/"
        },
        "outputId": "ce88d19f-62b2-4b86-cba4-aa5a3fc51c03"
      },
      "outputs": [
        {
          "output_type": "execute_result",
          "data": {
            "text/plain": [
              "array(['Air', nan, 'Truck', 'Air Charter', 'Ocean'], dtype=object)"
            ]
          },
          "metadata": {},
          "execution_count": 112
        }
      ],
      "source": [
        "df['Shipment Mode'].unique()"
      ],
      "id": "iHP2N1JnhyGo"
    },
    {
      "cell_type": "markdown",
      "metadata": {
        "id": "4pW_PnAOh9R3"
      },
      "source": [
        "shipment mode is categorical so we need to eliminate nan using mode"
      ],
      "id": "4pW_PnAOh9R3"
    },
    {
      "cell_type": "code",
      "execution_count": null,
      "metadata": {
        "id": "MameAJfPiHgq",
        "colab": {
          "base_uri": "https://localhost:8080/"
        },
        "outputId": "27cacabb-66de-47fb-82f7-713351805ba5"
      },
      "outputs": [
        {
          "output_type": "execute_result",
          "data": {
            "text/plain": [
              "array(['Air', 'Truck', 'Air Charter', 'Ocean'], dtype=object)"
            ]
          },
          "metadata": {},
          "execution_count": 113
        }
      ],
      "source": [
        "df['Shipment Mode']= df['Shipment Mode'].fillna(df['Shipment Mode'].mode()[0])\n",
        "df['Shipment Mode'].unique()"
      ],
      "id": "MameAJfPiHgq"
    },
    {
      "cell_type": "markdown",
      "metadata": {
        "id": "YtTJmbY9iVHf"
      },
      "source": [
        "now there is no missing values in shipment mode similarlywe can do for Dosage and Line Item insurance"
      ],
      "id": "YtTJmbY9iVHf"
    },
    {
      "cell_type": "code",
      "execution_count": null,
      "metadata": {
        "id": "KmyoJEgVimsk"
      },
      "outputs": [],
      "source": [
        "df['Dosage']= df['Dosage'].fillna(df['Dosage'].mode()[0])"
      ],
      "id": "KmyoJEgVimsk"
    },
    {
      "cell_type": "markdown",
      "metadata": {
        "id": "_hViF_p3izlp"
      },
      "source": [
        "Line item is numerical so let us find out sknewness and determine"
      ],
      "id": "_hViF_p3izlp"
    },
    {
      "cell_type": "code",
      "execution_count": null,
      "metadata": {
        "id": "f0lztmrJi_uW",
        "colab": {
          "base_uri": "https://localhost:8080/",
          "height": 296
        },
        "outputId": "b22187f3-6342-4b8f-e5fb-c48e30ecad58"
      },
      "outputs": [
        {
          "output_type": "execute_result",
          "data": {
            "text/plain": [
              "<matplotlib.axes._subplots.AxesSubplot at 0x7f4e9f2dac10>"
            ]
          },
          "metadata": {},
          "execution_count": 115
        },
        {
          "output_type": "display_data",
          "data": {
            "text/plain": [
              "<Figure size 432x288 with 1 Axes>"
            ],
            "image/png": "[encoded data removed]"
          },
          "metadata": {
            "needs_background": "light"
          }
        }
      ],
      "source": [
        "sns.distplot(df['Line Item Insurance (USD)'])"
      ],
      "id": "f0lztmrJi_uW"
    },
    {
      "cell_type": "markdown",
      "metadata": {
        "id": "ismRxsLpjJfB"
      },
      "source": [
        "Right skewed so we can find median"
      ],
      "id": "ismRxsLpjJfB"
    },
    {
      "cell_type": "code",
      "execution_count": null,
      "metadata": {
        "id": "45Vqb654jXCl"
      },
      "outputs": [],
      "source": [
        "df['Line Item Insurance (USD)']= df['Line Item Insurance (USD)'].fillna(df['Line Item Insurance (USD)'].median())"
      ],
      "id": "45Vqb654jXCl"
    },
    {
      "cell_type": "code",
      "execution_count": null,
      "metadata": {
        "id": "c5XCHpknjhNl",
        "colab": {
          "base_uri": "https://localhost:8080/"
        },
        "outputId": "5269cea0-49c4-4150-c4bd-473698d4e44e"
      },
      "outputs": [
        {
          "output_type": "execute_result",
          "data": {
            "text/plain": [
              "Project Code                    0\n",
              "PQ #                            0\n",
              "PO / SO #                       0\n",
              "ASN/DN #                        0\n",
              "Country                         0\n",
              "Managed By                      0\n",
              "Fulfill Via                     0\n",
              "Vendor INCO Term                0\n",
              "Shipment Mode                   0\n",
              "PQ First Sent to Client Date    0\n",
              "PO Sent to Vendor Date          0\n",
              "Scheduled Delivery Date         0\n",
              "Delivered to Client Date        0\n",
              "Delivery Recorded Date          0\n",
              "Product Group                   0\n",
              "Sub Classification              0\n",
              "Vendor                          0\n",
              "Item Description                0\n",
              "Molecule/Test Type              0\n",
              "Brand                           0\n",
              "Dosage                          0\n",
              "Dosage Form                     0\n",
              "Unit of Measure (Per Pack)      0\n",
              "Line Item Quantity              0\n",
              "Line Item Value                 0\n",
              "Pack Price                      0\n",
              "Unit Price                      0\n",
              "Manufacturing Site              0\n",
              "First Line Designation          0\n",
              "Weight (Kilograms)              0\n",
              "Freight Cost (USD)              0\n",
              "Line Item Insurance (USD)       0\n",
              "dtype: int64"
            ]
          },
          "metadata": {},
          "execution_count": 117
        }
      ],
      "source": [
        "df.isna().sum()"
      ],
      "id": "c5XCHpknjhNl"
    },
    {
      "cell_type": "code",
      "execution_count": null,
      "metadata": {
        "id": "_dmXRb0vPyBi",
        "colab": {
          "base_uri": "https://localhost:8080/"
        },
        "outputId": "362daaa8-95bf-48aa-dd68-f46975d35e66"
      },
      "outputs": [
        {
          "output_type": "stream",
          "name": "stdout",
          "text": [
            "<class 'pandas.core.frame.DataFrame'>\n",
            "RangeIndex: 10324 entries, 0 to 10323\n",
            "Data columns (total 32 columns):\n",
            " #   Column                        Non-Null Count  Dtype  \n",
            "---  ------                        --------------  -----  \n",
            " 0   Project Code                  10324 non-null  object \n",
            " 1   PQ #                          10324 non-null  object \n",
            " 2   PO / SO #                     10324 non-null  object \n",
            " 3   ASN/DN #                      10324 non-null  object \n",
            " 4   Country                       10324 non-null  object \n",
            " 5   Managed By                    10324 non-null  object \n",
            " 6   Fulfill Via                   10324 non-null  object \n",
            " 7   Vendor INCO Term              10324 non-null  object \n",
            " 8   Shipment Mode                 10324 non-null  object \n",
            " 9   PQ First Sent to Client Date  10324 non-null  object \n",
            " 10  PO Sent to Vendor Date        10324 non-null  object \n",
            " 11  Scheduled Delivery Date       10324 non-null  object \n",
            " 12  Delivered to Client Date      10324 non-null  object \n",
            " 13  Delivery Recorded Date        10324 non-null  object \n",
            " 14  Product Group                 10324 non-null  object \n",
            " 15  Sub Classification            10324 non-null  object \n",
            " 16  Vendor                        10324 non-null  object \n",
            " 17  Item Description              10324 non-null  object \n",
            " 18  Molecule/Test Type            10324 non-null  object \n",
            " 19  Brand                         10324 non-null  object \n",
            " 20  Dosage                        10324 non-null  object \n",
            " 21  Dosage Form                   10324 non-null  object \n",
            " 22  Unit of Measure (Per Pack)    10324 non-null  int64  \n",
            " 23  Line Item Quantity            10324 non-null  int64  \n",
            " 24  Line Item Value               10324 non-null  float64\n",
            " 25  Pack Price                    10324 non-null  float64\n",
            " 26  Unit Price                    10324 non-null  float64\n",
            " 27  Manufacturing Site            10324 non-null  object \n",
            " 28  First Line Designation        10324 non-null  object \n",
            " 29  Weight (Kilograms)            10324 non-null  object \n",
            " 30  Freight Cost (USD)            10324 non-null  object \n",
            " 31  Line Item Insurance (USD)     10324 non-null  float64\n",
            "dtypes: float64(4), int64(2), object(26)\n",
            "memory usage: 2.5+ MB\n"
          ]
        }
      ],
      "source": [
        "df.info()"
      ],
      "id": "_dmXRb0vPyBi"
    },
    {
      "cell_type": "markdown",
      "metadata": {
        "id": "dKgmdLVUg4m6"
      },
      "source": [
        "# outlier detection"
      ],
      "id": "dKgmdLVUg4m6"
    },
    {
      "cell_type": "code",
      "execution_count": null,
      "metadata": {
        "id": "VNobrg7bg044",
        "colab": {
          "base_uri": "https://localhost:8080/",
          "height": 671
        },
        "outputId": "18a1a5da-9bd2-4ed1-fae7-0adff6c9f65b"
      },
      "outputs": [
        {
          "output_type": "display_data",
          "data": {
            "text/plain": [
              "<Figure size 720x720 with 1 Axes>"
            ],
            "image/png": "[encoded data removed]"
          },
          "metadata": {
            "needs_background": "light"
          }
        },
        {
          "output_type": "display_data",
          "data": {
            "text/plain": [
              "<Figure size 720x720 with 1 Axes>"
            ],
            "image/png": "[encoded data removed]"
          },
          "metadata": {
            "needs_background": "light"
          }
        },
        {
          "output_type": "display_data",
          "data": {
            "text/plain": [
              "<Figure size 720x720 with 1 Axes>"
            ],
            "image/png": "[encoded data removed]"
          },
          "metadata": {
            "needs_background": "light"
          }
        },
        {
          "output_type": "display_data",
          "data": {
            "text/plain": [
              "<Figure size 720x720 with 1 Axes>"
            ],
            "image/png": "[encoded data removed]"
          },
          "metadata": {
            "needs_background": "light"
          }
        },
        {
          "output_type": "display_data",
          "data": {
            "text/plain": [
              "<Figure size 720x720 with 1 Axes>"
            ],
            "image/png": "[encoded data removed]"
          },
          "metadata": {
            "needs_background": "light"
          }
        },
        {
          "output_type": "display_data",
          "data": {
            "text/plain": [
              "<Figure size 720x720 with 1 Axes>"
            ],
            "image/png": "[encoded data removed]"
          },
          "metadata": {
            "needs_background": "light"
          }
        }
      ],
      "source": [
        "for i, feature in enumerate(df.select_dtypes(include=[np.float64,np.int64]).columns):\n",
        "    plt.figure(figsize=(10,10))\n",
        "    plt.subplot(7,1, i+1)\n",
        "    plt.subplots_adjust(hspace = 2.0)\n",
        "    sns.boxplot(df[feature])\n",
        "    plt.tight_layout()"
      ],
      "id": "VNobrg7bg044"
    },
    {
      "cell_type": "markdown",
      "metadata": {
        "id": "mBIIDQWZkMIT"
      },
      "source": [
        "we found that all our numerical varibles are having ouliers"
      ],
      "id": "mBIIDQWZkMIT"
    },
    {
      "cell_type": "code",
      "execution_count": null,
      "metadata": {
        "id": "W_fXoVeZnpGb"
      },
      "outputs": [],
      "source": [
        "def remove_outliers(data, column , minimum, maximum):\n",
        "    col_values = df[column].values\n",
        "    df[column] = np.where(np.logical_or(col_values<minimum, col_values>maximum), \n",
        "                          col_values.mean(), col_values)\n",
        "    return data"
      ],
      "id": "W_fXoVeZnpGb"
    },
    {
      "cell_type": "code",
      "source": [
        "min_val = df[\"Unit of Measure (Per Pack)\"].min()\n",
        "max_val = 800\n",
        "data = remove_outliers(data=df, column=\"Unit of Measure (Per Pack)\" , minimum=min_val, maximum=max_val)\n",
        "\n",
        "min_val = df[\"Line Item Quantity\"].min()\n",
        "max_val = 500000\n",
        "data = remove_outliers(data=df, column=\"Line Item Quantity\" , minimum=min_val, maximum=max_val)\n",
        "\n",
        "min_val = df[\"Line Item Value\"].min()\n",
        "max_val = df[\"Line Item Value\"].max()\n",
        "data = remove_outliers(data=df, column=\"Line Item Value\" , minimum=min_val, maximum=max_val)\n",
        "\n",
        "min_val = df[\"Pack Price\"].min()\n",
        "max_val = 800\n",
        "data = remove_outliers(data=df, column=\"Pack Price\" , minimum=min_val, maximum=max_val)\n",
        "\n",
        "min_val = df[\"Unit Price\"].min()\n",
        "max_val = 50\n",
        "data = remove_outliers(data=df, column=\"Unit Price\" , minimum=min_val, maximum=max_val)\n",
        "\n",
        "min_val = df[\"Line Item Insurance (USD)\"].min()\n",
        "max_val = 7000\n",
        "data = remove_outliers(data=df, column=\"Line Item Insurance (USD)\" , minimum=min_val, maximum=max_val)"
      ],
      "metadata": {
        "id": "NnnCwazJw9e3"
      },
      "id": "NnnCwazJw9e3",
      "execution_count": null,
      "outputs": []
    },
    {
      "cell_type": "code",
      "execution_count": null,
      "metadata": {
        "id": "gQCCWMoiqzKp",
        "colab": {
          "base_uri": "https://localhost:8080/",
          "height": 671
        },
        "outputId": "26c49085-2a1b-41e9-8e7c-aab1c7feffcd"
      },
      "outputs": [
        {
          "output_type": "display_data",
          "data": {
            "text/plain": [
              "<Figure size 720x720 with 1 Axes>"
            ],
            "image/png": "[encoded data removed]"
          },
          "metadata": {
            "needs_background": "light"
          }
        },
        {
          "output_type": "display_data",
          "data": {
            "text/plain": [
              "<Figure size 720x720 with 1 Axes>"
            ],
            "image/png": "[encoded data removed]"
          },
          "metadata": {
            "needs_background": "light"
          }
        },
        {
          "output_type": "display_data",
          "data": {
            "text/plain": [
              "<Figure size 720x720 with 1 Axes>"
            ],
            "image/png": "[encoded data removed]"
          },
          "metadata": {
            "needs_background": "light"
          }
        },
        {
          "output_type": "display_data",
          "data": {
            "text/plain": [
              "<Figure size 720x720 with 1 Axes>"
            ],
            "image/png": "[encoded data removed]"
          },
          "metadata": {
            "needs_background": "light"
          }
        },
        {
          "output_type": "display_data",
          "data": {
            "text/plain": [
              "<Figure size 720x720 with 1 Axes>"
            ],
            "image/png": "[encoded data removed]"
          },
          "metadata": {
            "needs_background": "light"
          }
        },
        {
          "output_type": "display_data",
          "data": {
            "text/plain": [
              "<Figure size 720x720 with 1 Axes>"
            ],
            "image/png": "[encoded data removed]"
          },
          "metadata": {
            "needs_background": "light"
          }
        }
      ],
      "source": [
        "for i, feature in enumerate(df.select_dtypes(include=[np.float64,np.int64]).columns):\n",
        "    plt.figure(figsize=(10,10))\n",
        "    plt.subplot(7,1,i+1)\n",
        "    plt.subplots_adjust(hspace = 2.0)\n",
        "    sns.boxplot(df[feature])\n",
        "    plt.tight_layout()"
      ],
      "id": "gQCCWMoiqzKp"
    },
    {
      "cell_type": "code",
      "source": [
        "df.shape"
      ],
      "metadata": {
        "id": "WJSSokYT1AQE",
        "colab": {
          "base_uri": "https://localhost:8080/"
        },
        "outputId": "a542b063-7c22-40eb-9ce2-b619f9e26d45"
      },
      "id": "WJSSokYT1AQE",
      "execution_count": null,
      "outputs": [
        {
          "output_type": "execute_result",
          "data": {
            "text/plain": [
              "(10324, 32)"
            ]
          },
          "metadata": {},
          "execution_count": 123
        }
      ]
    },
    {
      "cell_type": "markdown",
      "metadata": {
        "id": "F5sTwUiW3ss-"
      },
      "source": [
        "**Feature Reduction**"
      ],
      "id": "F5sTwUiW3ss-"
    },
    {
      "cell_type": "code",
      "execution_count": null,
      "metadata": {
        "id": "IXQJPYaE34xq",
        "colab": {
          "base_uri": "https://localhost:8080/",
          "height": 462
        },
        "outputId": "3878f56d-8639-4c0c-fc9f-872890094e1c"
      },
      "outputs": [
        {
          "output_type": "execute_result",
          "data": {
            "text/plain": [
              "<matplotlib.axes._subplots.AxesSubplot at 0x7f4e9f691dd0>"
            ]
          },
          "metadata": {},
          "execution_count": 124
        },
        {
          "output_type": "display_data",
          "data": {
            "text/plain": [
              "<Figure size 1440x720 with 2 Axes>"
            ],
            "image/png": "[encoded data removed]"
          },
          "metadata": {
            "needs_background": "light"
          }
        }
      ],
      "source": [
        "corrmatrix =df.corr()\n",
        "plt.subplots(figsize=(20,10))\n",
        "sns.heatmap(corrmatrix,vmin=-.6,vmax=1,annot=True,linewidth=.2,cmap='YlGnBu')"
      ],
      "id": "IXQJPYaE34xq"
    },
    {
      "cell_type": "markdown",
      "metadata": {
        "id": "4LC7d-lK0rHg"
      },
      "source": [
        "from corelation martrix we can drop line item insurance or line item value we can drop line item insurance because it have more missing values"
      ],
      "id": "4LC7d-lK0rHg"
    },
    {
      "cell_type": "code",
      "execution_count": null,
      "metadata": {
        "id": "H3WuaWLn1HbX"
      },
      "outputs": [],
      "source": [
        "df.drop('Line Item Insurance (USD)',axis=1,inplace=True)"
      ],
      "id": "H3WuaWLn1HbX"
    },
    {
      "cell_type": "code",
      "execution_count": null,
      "metadata": {
        "id": "MFdB9BWT1SOp",
        "colab": {
          "base_uri": "https://localhost:8080/"
        },
        "outputId": "759f0e5b-2301-423c-ab8c-3ba3cdd7ff05"
      },
      "outputs": [
        {
          "output_type": "execute_result",
          "data": {
            "text/plain": [
              "Index(['Project Code', 'PQ #', 'PO / SO #', 'ASN/DN #', 'Country',\n",
              "       'Managed By', 'Fulfill Via', 'Vendor INCO Term', 'Shipment Mode',\n",
              "       'PQ First Sent to Client Date', 'PO Sent to Vendor Date',\n",
              "       'Scheduled Delivery Date', 'Delivered to Client Date',\n",
              "       'Delivery Recorded Date', 'Product Group', 'Sub Classification',\n",
              "       'Vendor', 'Item Description', 'Molecule/Test Type', 'Brand', 'Dosage',\n",
              "       'Dosage Form', 'Unit of Measure (Per Pack)', 'Line Item Quantity',\n",
              "       'Line Item Value', 'Pack Price', 'Unit Price', 'Manufacturing Site',\n",
              "       'First Line Designation', 'Weight (Kilograms)', 'Freight Cost (USD)'],\n",
              "      dtype='object')"
            ]
          },
          "metadata": {},
          "execution_count": 126
        }
      ],
      "source": [
        "df.columns"
      ],
      "id": "MFdB9BWT1SOp"
    },
    {
      "cell_type": "code",
      "execution_count": null,
      "metadata": {
        "id": "8oH9BfdkiLU2",
        "colab": {
          "base_uri": "https://localhost:8080/"
        },
        "outputId": "41c6e9c9-b4f9-48f3-f729-3c45b6a367a8"
      },
      "outputs": [
        {
          "output_type": "stream",
          "name": "stdout",
          "text": [
            "PQ First Sent to Client Date 0.2596861681518791\n",
            "PO Sent to Vendor Date 0.555211158465711\n",
            "Scheduled Delivery Date 0.0\n",
            "Delivered to Client Date 0.0\n",
            "Delivery Recorded Date 0.0\n"
          ]
        }
      ],
      "source": [
        "date_features=['PQ First Sent to Client Date', 'PO Sent to Vendor Date',\n",
        "       'Scheduled Delivery Date', 'Delivered to Client Date',\n",
        "       'Delivery Recorded Date']\n",
        "for column in date_features:\n",
        "    print(column,pd.to_datetime(df[column],errors='coerce').isna().mean())"
      ],
      "id": "8oH9BfdkiLU2"
    },
    {
      "cell_type": "code",
      "execution_count": null,
      "metadata": {
        "id": "77ukuotS1qwx"
      },
      "outputs": [],
      "source": [
        "#since we have may missing values inPQ First Sent to Client Date and PO Sent to Vendor Date \n",
        "df.drop(['PQ First Sent to Client Date','PO Sent to Vendor Date'],axis=1,inplace=True)"
      ],
      "id": "77ukuotS1qwx"
    },
    {
      "cell_type": "code",
      "execution_count": null,
      "metadata": {
        "id": "W8KbYcdsjyro"
      },
      "outputs": [],
      "source": [
        "for column in ['Scheduled Delivery Date', 'Delivered to Client Date','Delivery Recorded Date']:\n",
        "    df[column]=pd.to_datetime(df[column])\n",
        "    df[column+'year']=df[column].apply(lambda x:x.year)\n",
        "    df[column+'month']=df[column].apply(lambda x:x.month)\n",
        "    df[column+'day']=df[column].apply(lambda x:x.day)\n",
        "    df=df.drop(column,axis=1)"
      ],
      "id": "W8KbYcdsjyro"
    },
    {
      "cell_type": "markdown",
      "metadata": {
        "id": "sgsLWOdgkcUU"
      },
      "source": [
        "since we need to perforne encoding we are changing our date time features to numericals"
      ],
      "id": "sgsLWOdgkcUU"
    },
    {
      "cell_type": "code",
      "execution_count": null,
      "metadata": {
        "id": "Uti_aCejkKgM",
        "colab": {
          "base_uri": "https://localhost:8080/"
        },
        "outputId": "33a8b6a3-56b4-49b5-aeb9-b3ba3b58b4fc"
      },
      "outputs": [
        {
          "output_type": "stream",
          "name": "stdout",
          "text": [
            "0\n",
            "0\n"
          ]
        }
      ],
      "source": [
        "for column in ['Weight (Kilograms)', 'Freight Cost (USD)']:\n",
        "    print(df[column].isna().sum())"
      ],
      "id": "Uti_aCejkKgM"
    },
    {
      "cell_type": "markdown",
      "metadata": {
        "id": "ItcWt82Wm-MA"
      },
      "source": [
        "but we know we have non numeric values in it so:"
      ],
      "id": "ItcWt82Wm-MA"
    },
    {
      "cell_type": "code",
      "execution_count": null,
      "metadata": {
        "id": "3Ep0W7nq3Qcm"
      },
      "outputs": [],
      "source": [
        "# Drop numeric columns with too many missing values\n",
        "df = df.drop(['Weight (Kilograms)','Freight Cost (USD)'], axis=1)"
      ],
      "id": "3Ep0W7nq3Qcm"
    },
    {
      "cell_type": "code",
      "execution_count": null,
      "metadata": {
        "id": "qJLIa00A3XQy"
      },
      "outputs": [],
      "source": [
        "# Drop high-cardinality columns\n",
        "df = df.drop(['PQ #', 'PO / SO #', 'ASN/DN #'], axis=1)"
      ],
      "id": "qJLIa00A3XQy"
    },
    {
      "cell_type": "markdown",
      "source": [
        "After modelling we came to conclution that many categerorical features have no feature importance so we drop more featuree for fast performing model"
      ],
      "metadata": {
        "id": "I7FkrXUZIDzo"
      },
      "id": "I7FkrXUZIDzo"
    },
    {
      "cell_type": "code",
      "execution_count": null,
      "metadata": {
        "id": "ExbX4w0AMb9C"
      },
      "outputs": [],
      "source": [
        "\n",
        "df = df.drop(['Vendor INCO Term', \n",
        "       'Sub Classification','Manufacturing Site','Dosage','Dosage Form','Product Group','Vendor','Brand','Project Code','Managed By','Molecule/Test Type'], axis=1)"
      ],
      "id": "ExbX4w0AMb9C"
    },
    {
      "cell_type": "markdown",
      "metadata": {
        "id": "bP1iPlD13dXS"
      },
      "source": [
        "# Encoding"
      ],
      "id": "bP1iPlD13dXS"
    },
    {
      "cell_type": "markdown",
      "metadata": {
        "id": "RZLbr5fQA1LT"
      },
      "source": [
        "Binary Encoding"
      ],
      "id": "RZLbr5fQA1LT"
    },
    {
      "cell_type": "code",
      "execution_count": null,
      "metadata": {
        "id": "NdRAmZfVAwds"
      },
      "outputs": [],
      "source": [
        "df['Fulfill Via'] = df['Fulfill Via'].replace({'Direct Drop': 0, 'From RDC': 1})\n",
        "df['First Line Designation'] = df['First Line Designation'].replace({'No': 0, 'Yes': 1})"
      ],
      "id": "NdRAmZfVAwds"
    },
    {
      "cell_type": "markdown",
      "metadata": {
        "id": "0jtPqOhdAzsx"
      },
      "source": [
        "one hot Ecoding"
      ],
      "id": "0jtPqOhdAzsx"
    },
    {
      "cell_type": "code",
      "source": [
        "#df2=df[['Country','Pack Price']]\n",
        "#df2"
      ],
      "metadata": {
        "id": "gQe1rpevgU9i"
      },
      "id": "gQe1rpevgU9i",
      "execution_count": null,
      "outputs": []
    },
    {
      "cell_type": "code",
      "source": [
        "#label encoding\n",
        "from sklearn.preprocessing import LabelEncoder\n",
        "le=LabelEncoder()\n",
        "df['Country'] = le.fit_transform(df['Country'])\n",
        "df['Item Description'] = le.fit_transform(df['Item Description'])"
      ],
      "metadata": {
        "id": "cAv7oeoTisSv"
      },
      "id": "cAv7oeoTisSv",
      "execution_count": null,
      "outputs": []
    },
    {
      "cell_type": "code",
      "execution_count": null,
      "metadata": {
        "id": "0fWYyZf438pq",
        "colab": {
          "base_uri": "https://localhost:8080/"
        },
        "outputId": "8a53597b-037b-426c-902c-c3609b2d0571"
      },
      "outputs": [
        {
          "output_type": "execute_result",
          "data": {
            "text/plain": [
              "Index(['Country', 'Fulfill Via', 'Shipment Mode', 'Item Description',\n",
              "       'Unit of Measure (Per Pack)', 'Line Item Quantity', 'Line Item Value',\n",
              "       'Pack Price', 'Unit Price', 'First Line Designation',\n",
              "       'Scheduled Delivery Dateyear', 'Scheduled Delivery Datemonth',\n",
              "       'Scheduled Delivery Dateday', 'Delivered to Client Dateyear',\n",
              "       'Delivered to Client Datemonth', 'Delivered to Client Dateday',\n",
              "       'Delivery Recorded Dateyear', 'Delivery Recorded Datemonth',\n",
              "       'Delivery Recorded Dateday'],\n",
              "      dtype='object')"
            ]
          },
          "metadata": {},
          "execution_count": 138
        }
      ],
      "source": [
        "df.columns"
      ],
      "id": "0fWYyZf438pq"
    },
    {
      "cell_type": "code",
      "execution_count": null,
      "metadata": {
        "id": "0IkVhg-x4IAG",
        "colab": {
          "base_uri": "https://localhost:8080/"
        },
        "outputId": "d9467145-1752-40fe-bc42-496d0ec22697"
      },
      "outputs": [
        {
          "output_type": "execute_result",
          "data": {
            "text/plain": [
              "(10324, 19)"
            ]
          },
          "metadata": {},
          "execution_count": 139
        }
      ],
      "source": [
        "df.shape"
      ],
      "id": "0IkVhg-x4IAG"
    },
    {
      "cell_type": "code",
      "source": [
        "df1=df[['Shipment Mode']]\n",
        "df.drop(['Shipment Mode'],axis=1,inplace=True)"
      ],
      "metadata": {
        "id": "jQ8J2JHOAT-O"
      },
      "id": "jQ8J2JHOAT-O",
      "execution_count": null,
      "outputs": []
    },
    {
      "cell_type": "markdown",
      "metadata": {
        "id": "VnJOUV-P8S8N"
      },
      "source": [
        "#Standadisation"
      ],
      "id": "VnJOUV-P8S8N"
    },
    {
      "cell_type": "code",
      "execution_count": null,
      "metadata": {
        "id": "k2m8quRW8bap"
      },
      "outputs": [],
      "source": [
        "from sklearn.preprocessing import StandardScaler\n",
        "sc=StandardScaler()\n",
        "scaled=sc.fit_transform(df)"
      ],
      "id": "k2m8quRW8bap"
    },
    {
      "cell_type": "code",
      "execution_count": null,
      "metadata": {
        "id": "zRsmdJO49VwD",
        "colab": {
          "base_uri": "https://localhost:8080/"
        },
        "outputId": "ce15680a-b6ed-4366-f0f6-0f2be0c11d7b"
      },
      "outputs": [
        {
          "output_type": "stream",
          "name": "stdout",
          "text": [
            "[[-1.58072267 -1.04803339 -0.00482008 ... -2.10576232 -0.14657619\n",
            "  -1.60546638]\n",
            " [ 1.07084634 -1.04803339  0.9683706  ... -2.10576232  1.35675444\n",
            "  -0.24009312]\n",
            " [-1.58072267 -1.04803339 -0.61036094 ... -2.10576232  0.45475606\n",
            "   1.23906125]\n",
            " ...\n",
            " [ 1.15638083  0.95416807 -0.848252   ...  1.5027844   0.75542219\n",
            "  -1.49168528]\n",
            " [ 1.24191531  0.95416807  0.44933557 ...  1.5027844   0.45475606\n",
            "  -0.58143644]\n",
            " [ 1.24191531  0.95416807  0.47096203 ...  1.5027844   0.45475606\n",
            "  -0.58143644]]\n"
          ]
        }
      ],
      "source": [
        "print(scaled)"
      ],
      "id": "zRsmdJO49VwD"
    },
    {
      "cell_type": "markdown",
      "metadata": {
        "id": "t5NaQyN0B27T"
      },
      "source": [
        "# feature Engineering "
      ],
      "id": "t5NaQyN0B27T"
    },
    {
      "cell_type": "markdown",
      "metadata": {
        "id": "iFrbeOa3dKYL"
      },
      "source": [
        "# methods we have done\n",
        "###Drop unwanted Features\n",
        "###Handle Missing Values\n",
        "###Handle Categorical Features\n",
        "###Handle Feature Scaling\n",
        "###Remove Outliers\n",
        "\n",
        "#insight:\n",
        "\n",
        "###all  missing valuues are replaced\n",
        "###no feature found with one value\n",
        "###categorical features are converted into numerical using encoding\n",
        "###it seems some outliers and actions were taken"
      ],
      "id": "iFrbeOa3dKYL"
    },
    {
      "cell_type": "markdown",
      "source": [
        "#  Modelling"
      ],
      "metadata": {
        "id": "z-6tCQQY3YVC"
      },
      "id": "z-6tCQQY3YVC"
    },
    {
      "cell_type": "markdown",
      "source": [
        "# Split Dataset into Training set and Test set"
      ],
      "metadata": {
        "id": "Y5HL5s9w38fr"
      },
      "id": "Y5HL5s9w38fr"
    },
    {
      "cell_type": "code",
      "execution_count": null,
      "metadata": {
        "id": "GbYTzKETdiKU"
      },
      "outputs": [],
      "source": [
        "X=df\n",
        "y=df1"
      ],
      "id": "GbYTzKETdiKU"
    },
    {
      "cell_type": "code",
      "source": [
        "from sklearn.model_selection import train_test_split\n",
        "X_train, X_test, y_train, y_test = train_test_split(X,y,test_size=0.2, random_state=42)"
      ],
      "metadata": {
        "id": "Y7Sj6feABMQ8"
      },
      "id": "Y7Sj6feABMQ8",
      "execution_count": null,
      "outputs": []
    },
    {
      "cell_type": "markdown",
      "source": [
        "# Logistics Regression"
      ],
      "metadata": {
        "id": "aQcK0vDiBvEO"
      },
      "id": "aQcK0vDiBvEO"
    },
    {
      "cell_type": "code",
      "source": [
        "from sklearn.linear_model import LogisticRegression\n",
        "logit=LogisticRegression()\n",
        "logit.fit(X_train,y_train)\n",
        "y_pred=logit.predict(X_test)"
      ],
      "metadata": {
        "id": "ddTH8FnNBNax"
      },
      "id": "ddTH8FnNBNax",
      "execution_count": null,
      "outputs": []
    },
    {
      "cell_type": "code",
      "source": [
        "from sklearn.metrics import classification_report\n",
        "print(classification_report(y_test, y_pred))"
      ],
      "metadata": {
        "id": "hBaKYkRzB-hZ",
        "colab": {
          "base_uri": "https://localhost:8080/"
        },
        "outputId": "be5ddd14-63d9-406c-d624-073dc2a1932b"
      },
      "id": "hBaKYkRzB-hZ",
      "execution_count": null,
      "outputs": [
        {
          "output_type": "stream",
          "name": "stdout",
          "text": [
            "              precision    recall  f1-score   support\n",
            "\n",
            "         Air       0.66      0.96      0.78      1282\n",
            " Air Charter       0.50      0.02      0.03       126\n",
            "       Ocean       0.27      0.05      0.08        80\n",
            "       Truck       0.41      0.14      0.20       577\n",
            "\n",
            "    accuracy                           0.63      2065\n",
            "   macro avg       0.46      0.29      0.27      2065\n",
            "weighted avg       0.57      0.63      0.55      2065\n",
            "\n"
          ]
        }
      ]
    },
    {
      "cell_type": "markdown",
      "source": [
        "## KNN"
      ],
      "metadata": {
        "id": "lpx2q8aICV2I"
      },
      "id": "lpx2q8aICV2I"
    },
    {
      "cell_type": "code",
      "source": [
        "from sklearn.neighbors import KNeighborsClassifier\n",
        "classifier=KNeighborsClassifier(metric='minkowski')\n",
        "classifier.fit(X_train,y_train)\n",
        "y_pred=classifier.predict(X_test)"
      ],
      "metadata": {
        "id": "nUdtM2c_Cbw-"
      },
      "id": "nUdtM2c_Cbw-",
      "execution_count": null,
      "outputs": []
    },
    {
      "cell_type": "code",
      "source": [
        "from sklearn.metrics import classification_report\n",
        "print(classification_report(y_test, y_pred))"
      ],
      "metadata": {
        "id": "IyxXSjjUChQC",
        "colab": {
          "base_uri": "https://localhost:8080/"
        },
        "outputId": "883e1d67-23b0-40c4-d269-445276fdf9df"
      },
      "id": "IyxXSjjUChQC",
      "execution_count": null,
      "outputs": [
        {
          "output_type": "stream",
          "name": "stdout",
          "text": [
            "              precision    recall  f1-score   support\n",
            "\n",
            "         Air       0.72      0.89      0.79      1282\n",
            " Air Charter       0.35      0.16      0.22       126\n",
            "       Ocean       0.37      0.16      0.23        80\n",
            "       Truck       0.55      0.38      0.45       577\n",
            "\n",
            "    accuracy                           0.67      2065\n",
            "   macro avg       0.50      0.40      0.42      2065\n",
            "weighted avg       0.64      0.67      0.64      2065\n",
            "\n"
          ]
        }
      ]
    },
    {
      "cell_type": "markdown",
      "source": [
        "## Decision Tree"
      ],
      "metadata": {
        "id": "Ls5UYPG1etP3"
      },
      "id": "Ls5UYPG1etP3"
    },
    {
      "cell_type": "code",
      "source": [
        "from sklearn.tree import DecisionTreeClassifier"
      ],
      "metadata": {
        "id": "fk10OGxJerqh"
      },
      "id": "fk10OGxJerqh",
      "execution_count": null,
      "outputs": []
    },
    {
      "cell_type": "code",
      "source": [
        "dt=DecisionTreeClassifier()\n",
        "dt.fit(X_train,y_train)\n",
        "pred=dt.predict(X_test)"
      ],
      "metadata": {
        "id": "JS63Pn1me-a1"
      },
      "id": "JS63Pn1me-a1",
      "execution_count": null,
      "outputs": []
    },
    {
      "cell_type": "code",
      "source": [
        "from sklearn.metrics import classification_report\n",
        "print(classification_report(y_test, pred))"
      ],
      "metadata": {
        "id": "FQ2uEcoAfJ71",
        "colab": {
          "base_uri": "https://localhost:8080/"
        },
        "outputId": "09caee86-ad3b-42c2-abd1-2b9b1c6b36e5"
      },
      "id": "FQ2uEcoAfJ71",
      "execution_count": null,
      "outputs": [
        {
          "output_type": "stream",
          "name": "stdout",
          "text": [
            "              precision    recall  f1-score   support\n",
            "\n",
            "         Air       0.94      0.93      0.94      1282\n",
            " Air Charter       0.93      0.95      0.94       126\n",
            "       Ocean       0.83      0.79      0.81        80\n",
            "       Truck       0.88      0.89      0.89       577\n",
            "\n",
            "    accuracy                           0.92      2065\n",
            "   macro avg       0.90      0.89      0.89      2065\n",
            "weighted avg       0.92      0.92      0.92      2065\n",
            "\n"
          ]
        }
      ]
    },
    {
      "cell_type": "code",
      "source": [
        "from sklearn.metrics import confusion_matrix\n",
        "confusion_matrix(y_test,y_pred)"
      ],
      "metadata": {
        "id": "bmyddbfBfRZT",
        "colab": {
          "base_uri": "https://localhost:8080/"
        },
        "outputId": "eb78b1ec-7f96-4b9c-dbb5-dc43895f02b6"
      },
      "id": "bmyddbfBfRZT",
      "execution_count": null,
      "outputs": [
        {
          "output_type": "execute_result",
          "data": {
            "text/plain": [
              "array([[1136,   14,    5,  127],\n",
              "       [  73,   20,    5,   28],\n",
              "       [  47,    1,   13,   19],\n",
              "       [ 326,   22,   12,  217]])"
            ]
          },
          "metadata": {},
          "execution_count": 152
        }
      ]
    },
    {
      "cell_type": "markdown",
      "source": [
        "# Random Forest"
      ],
      "metadata": {
        "id": "iF05W8iNfOwk"
      },
      "id": "iF05W8iNfOwk"
    },
    {
      "cell_type": "code",
      "source": [
        "from sklearn.ensemble import RandomForestClassifier\n",
        "rf=RandomForestClassifier()\n",
        "rf.fit(X_train,y_train)\n",
        "pred=rf.predict(X_test)\n",
        "from sklearn.metrics import classification_report\n",
        "print(classification_report(y_test, pred))"
      ],
      "metadata": {
        "id": "hBKZEeZLfNa-",
        "colab": {
          "base_uri": "https://localhost:8080/"
        },
        "outputId": "adc3b901-97c4-4a29-f6e7-64a66e152728"
      },
      "id": "hBKZEeZLfNa-",
      "execution_count": null,
      "outputs": [
        {
          "output_type": "stream",
          "name": "stdout",
          "text": [
            "              precision    recall  f1-score   support\n",
            "\n",
            "         Air       0.93      0.96      0.95      1282\n",
            " Air Charter       0.97      0.91      0.94       126\n",
            "       Ocean       0.93      0.81      0.87        80\n",
            "       Truck       0.91      0.88      0.89       577\n",
            "\n",
            "    accuracy                           0.93      2065\n",
            "   macro avg       0.94      0.89      0.91      2065\n",
            "weighted avg       0.93      0.93      0.93      2065\n",
            "\n"
          ]
        }
      ]
    },
    {
      "cell_type": "code",
      "source": [
        "from sklearn.metrics import confusion_matrix\n",
        "confusion_matrix(y_test,y_pred)"
      ],
      "metadata": {
        "id": "kEaXX3V7Pk43",
        "colab": {
          "base_uri": "https://localhost:8080/"
        },
        "outputId": "75c6a237-461f-461a-d044-ded9b22ebb27"
      },
      "id": "kEaXX3V7Pk43",
      "execution_count": null,
      "outputs": [
        {
          "output_type": "execute_result",
          "data": {
            "text/plain": [
              "array([[1136,   14,    5,  127],\n",
              "       [  73,   20,    5,   28],\n",
              "       [  47,    1,   13,   19],\n",
              "       [ 326,   22,   12,  217]])"
            ]
          },
          "metadata": {},
          "execution_count": 154
        }
      ]
    },
    {
      "cell_type": "markdown",
      "source": [
        "# gradient boosting"
      ],
      "metadata": {
        "id": "cZrLY-VXDJlb"
      },
      "id": "cZrLY-VXDJlb"
    },
    {
      "cell_type": "code",
      "source": [
        "from sklearn.ensemble import GradientBoostingClassifier\n",
        "gb=GradientBoostingClassifier()\n",
        "gb.fit(X_train,y_train)\n",
        "pred=gb.predict(X_test)\n",
        "print(classification_report(y_test, pred))"
      ],
      "metadata": {
        "colab": {
          "base_uri": "https://localhost:8080/"
        },
        "id": "NykB-I0GDIVw",
        "outputId": "5843d7d5-b477-44d9-f1aa-23932e0591db"
      },
      "id": "NykB-I0GDIVw",
      "execution_count": null,
      "outputs": [
        {
          "output_type": "stream",
          "name": "stdout",
          "text": [
            "              precision    recall  f1-score   support\n",
            "\n",
            "         Air       0.93      0.93      0.93      1282\n",
            " Air Charter       0.94      0.93      0.94       126\n",
            "       Ocean       0.93      0.79      0.85        80\n",
            "       Truck       0.87      0.88      0.88       577\n",
            "\n",
            "    accuracy                           0.91      2065\n",
            "   macro avg       0.92      0.88      0.90      2065\n",
            "weighted avg       0.91      0.91      0.91      2065\n",
            "\n"
          ]
        }
      ]
    },
    {
      "cell_type": "code",
      "source": [
        "from sklearn.metrics import confusion_matrix\n",
        "confusion_matrix(y_test,y_pred)"
      ],
      "metadata": {
        "colab": {
          "base_uri": "https://localhost:8080/"
        },
        "id": "jwiBBrvXPpXU",
        "outputId": "af171555-dba0-450b-a98b-558c21f7e009"
      },
      "id": "jwiBBrvXPpXU",
      "execution_count": null,
      "outputs": [
        {
          "output_type": "execute_result",
          "data": {
            "text/plain": [
              "array([[1136,   14,    5,  127],\n",
              "       [  73,   20,    5,   28],\n",
              "       [  47,    1,   13,   19],\n",
              "       [ 326,   22,   12,  217]])"
            ]
          },
          "metadata": {},
          "execution_count": 156
        }
      ]
    },
    {
      "cell_type": "markdown",
      "source": [
        "# Fine Tuning"
      ],
      "metadata": {
        "id": "cxhEDHkqOX9A"
      },
      "id": "cxhEDHkqOX9A"
    },
    {
      "cell_type": "markdown",
      "source": [
        "We are choosing Random Forest because it is very fast in giving result with good accuracy which is our evaluation parameter"
      ],
      "metadata": {
        "id": "mV9pT9z_cA24"
      },
      "id": "mV9pT9z_cA24"
    },
    {
      "cell_type": "code",
      "source": [
        "from pprint import pprint\n",
        "print('Parameters currently in use:\\n')\n",
        "pprint(rf.get_params())"
      ],
      "metadata": {
        "colab": {
          "base_uri": "https://localhost:8080/"
        },
        "id": "WdINtgadOb7A",
        "outputId": "d65b0079-fd67-4ab2-cc73-ed7acfc91995"
      },
      "id": "WdINtgadOb7A",
      "execution_count": null,
      "outputs": [
        {
          "output_type": "stream",
          "name": "stdout",
          "text": [
            "Parameters currently in use:\n",
            "\n",
            "{'bootstrap': True,\n",
            " 'ccp_alpha': 0.0,\n",
            " 'class_weight': None,\n",
            " 'criterion': 'gini',\n",
            " 'max_depth': None,\n",
            " 'max_features': 'auto',\n",
            " 'max_leaf_nodes': None,\n",
            " 'max_samples': None,\n",
            " 'min_impurity_decrease': 0.0,\n",
            " 'min_samples_leaf': 1,\n",
            " 'min_samples_split': 2,\n",
            " 'min_weight_fraction_leaf': 0.0,\n",
            " 'n_estimators': 100,\n",
            " 'n_jobs': None,\n",
            " 'oob_score': False,\n",
            " 'random_state': None,\n",
            " 'verbose': 0,\n",
            " 'warm_start': False}\n"
          ]
        }
      ]
    },
    {
      "cell_type": "code",
      "source": [
        "dtft=RandomForestClassifier(n_estimators= 100,random_state=42,criterion='gini',min_samples_split= 2)"
      ],
      "metadata": {
        "id": "94jlHBgfdfP1"
      },
      "id": "94jlHBgfdfP1",
      "execution_count": null,
      "outputs": []
    },
    {
      "cell_type": "code",
      "source": [
        "dtft.fit(X_train,y_train)\n",
        "pred=dt.predict(X_test)\n",
        "print(classification_report(y_test, pred))"
      ],
      "metadata": {
        "colab": {
          "base_uri": "https://localhost:8080/"
        },
        "id": "pKVrQ-bjeY5N",
        "outputId": "8b5ddafb-33fb-4795-9d43-191cd7a677e1"
      },
      "id": "pKVrQ-bjeY5N",
      "execution_count": null,
      "outputs": [
        {
          "output_type": "stream",
          "name": "stdout",
          "text": [
            "              precision    recall  f1-score   support\n",
            "\n",
            "         Air       0.94      0.93      0.94      1282\n",
            " Air Charter       0.93      0.95      0.94       126\n",
            "       Ocean       0.83      0.79      0.81        80\n",
            "       Truck       0.88      0.89      0.89       577\n",
            "\n",
            "    accuracy                           0.92      2065\n",
            "   macro avg       0.90      0.89      0.89      2065\n",
            "weighted avg       0.92      0.92      0.92      2065\n",
            "\n"
          ]
        }
      ]
    },
    {
      "cell_type": "code",
      "source": [
        "from sklearn.metrics import confusion_matrix\n",
        "confusion_matrix(y_test,y_pred)"
      ],
      "metadata": {
        "colab": {
          "base_uri": "https://localhost:8080/"
        },
        "id": "UKjrP4LBfW19",
        "outputId": "57b3188b-4191-448f-f192-df13da8e4bde"
      },
      "id": "UKjrP4LBfW19",
      "execution_count": null,
      "outputs": [
        {
          "output_type": "execute_result",
          "data": {
            "text/plain": [
              "array([[1136,   14,    5,  127],\n",
              "       [  73,   20,    5,   28],\n",
              "       [  47,    1,   13,   19],\n",
              "       [ 326,   22,   12,  217]])"
            ]
          },
          "metadata": {},
          "execution_count": 160
        }
      ]
    },
    {
      "cell_type": "code",
      "source": [
        "pd.Series(dt.feature_importances_,index=X.columns).sort_values(ascending=False)*100"
      ],
      "metadata": {
        "colab": {
          "base_uri": "https://localhost:8080/"
        },
        "id": "lQu-g8EtfYu9",
        "outputId": "b54765aa-9a65-404c-ea59-67b8b1550585"
      },
      "id": "lQu-g8EtfYu9",
      "execution_count": null,
      "outputs": [
        {
          "output_type": "execute_result",
          "data": {
            "text/plain": [
              "Country                          43.663174\n",
              "Delivered to Client Dateyear      9.893119\n",
              "Line Item Quantity                8.414392\n",
              "Fulfill Via                       6.683508\n",
              "Delivery Recorded Dateyear        4.769716\n",
              "Scheduled Delivery Datemonth      4.630413\n",
              "Delivered to Client Dateday       3.946495\n",
              "Line Item Value                   2.842490\n",
              "Scheduled Delivery Dateyear       2.346938\n",
              "Pack Price                        2.002673\n",
              "Scheduled Delivery Dateday        1.920415\n",
              "Delivery Recorded Datemonth       1.843709\n",
              "Delivered to Client Datemonth     1.474114\n",
              "Delivery Recorded Dateday         1.427709\n",
              "Item Description                  1.417785\n",
              "Unit Price                        1.118993\n",
              "Unit of Measure (Per Pack)        1.025819\n",
              "First Line Designation            0.578537\n",
              "dtype: float64"
            ]
          },
          "metadata": {},
          "execution_count": 161
        }
      ]
    },
    {
      "cell_type": "code",
      "source": [
        "confusion_matrix(y_test,y_pred)"
      ],
      "metadata": {
        "colab": {
          "base_uri": "https://localhost:8080/"
        },
        "id": "Zs87-p5lj-7M",
        "outputId": "e4b740c5-600c-4262-a2e4-8fe43bab197d"
      },
      "id": "Zs87-p5lj-7M",
      "execution_count": null,
      "outputs": [
        {
          "output_type": "execute_result",
          "data": {
            "text/plain": [
              "array([[1136,   14,    5,  127],\n",
              "       [  73,   20,    5,   28],\n",
              "       [  47,    1,   13,   19],\n",
              "       [ 326,   22,   12,  217]])"
            ]
          },
          "metadata": {},
          "execution_count": 162
        }
      ]
    },
    {
      "cell_type": "code",
      "source": [
        "final_data.to_csv('shipmentmode.csv', index=False)"
      ],
      "metadata": {
        "id": "3k-MGVBzXClK"
      },
      "id": "3k-MGVBzXClK",
      "execution_count": null,
      "outputs": []
    },
    {
      "cell_type": "markdown",
      "source": [
        "This csv file must be used for web hosting"
      ],
      "metadata": {
        "id": "abTE4Mz8ZOwx"
      },
      "id": "abTE4Mz8ZOwx"
    },
    {
      "cell_type": "code",
      "source": [
        ""
      ],
      "metadata": {
        "id": "e58lnYp8ZU2z"
      },
      "id": "e58lnYp8ZU2z",
      "execution_count": null,
      "outputs": []
    },
    {
      "cell_type": "code",
      "source": [
        ""
      ],
      "metadata": {
        "id": "VwjyMNaUuSZZ"
      },
      "id": "VwjyMNaUuSZZ",
      "execution_count": null,
      "outputs": []
    }
  ],
  "metadata": {
    "colab": {
      "collapsed_sections": [],
      "name": "Main_Project.ipynb",
      "provenance": []
    },
    "kernelspec": {
      "display_name": "Python 3",
      "language": "python",
      "name": "python3"
    },
    "language_info": {
      "codemirror_mode": {
        "name": "ipython",
        "version": 3
      },
      "file_extension": ".py",
      "mimetype": "text/x-python",
      "name": "python",
      "nbconvert_exporter": "python",
      "pygments_lexer": "ipython3",
      "version": "3.8.8"
    }
  },
  "nbformat": 4,
  "nbformat_minor": 5
}